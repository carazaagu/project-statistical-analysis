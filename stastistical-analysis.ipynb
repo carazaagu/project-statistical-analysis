{
 "cells": [
  {
   "cell_type": "markdown",
   "metadata": {
    "slideshow": {
     "slide_type": "slide"
    }
   },
   "source": [
    "# Project 5: Football Analytics"
   ]
  },
  {
   "cell_type": "markdown",
   "metadata": {
    "slideshow": {
     "slide_type": "slide"
    }
   },
   "source": [
    "We are Javier Alvarez and Carlos Azagra.\n",
    "\n",
    "We are super fans not only of football but also at playing at it in videogames. We are very interested in interpretate football information with all the technical knowledge learnt during the course, and we found a dataset with big tons of stats about the most famous football videogame in the history: FIFA.\n",
    "\n",
    "This dataset combines real data from football players (name, shirt number, teams, salaries, biological information...) and virtual data (subjective data such as rating and skills) that we will use to analyse certain statements or predetermined ideas that we, the fans of football, have, and compare them to real data.\n",
    "\n",
    "Moreover, we have obtained data from a website about real stats of some of the players from the FIFA dataset in the real life, that we think can help us to test if the virtual data fits or matches real performance of the players."
   ]
  },
  {
   "cell_type": "code",
   "execution_count": 1,
   "metadata": {
    "slideshow": {
     "slide_type": "skip"
    }
   },
   "outputs": [
    {
     "data": {
      "text/html": [
       "        <script type=\"text/javascript\">\n",
       "        window.PlotlyConfig = {MathJaxConfig: 'local'};\n",
       "        if (window.MathJax) {MathJax.Hub.Config({SVG: {font: \"STIX-Web\"}});}\n",
       "        if (typeof require !== 'undefined') {\n",
       "        require.undef(\"plotly\");\n",
       "        requirejs.config({\n",
       "            paths: {\n",
       "                'plotly': ['https://cdn.plot.ly/plotly-latest.min']\n",
       "            }\n",
       "        });\n",
       "        require(['plotly'], function(Plotly) {\n",
       "            window._Plotly = Plotly;\n",
       "        });\n",
       "        }\n",
       "        </script>\n",
       "        "
      ]
     },
     "metadata": {},
     "output_type": "display_data"
    }
   ],
   "source": [
    "import pandas as pd\n",
    "import seaborn as sns\n",
    "from scipy import stats\n",
    "import cufflinks as cf\n",
    "import ipywidgets as widgets\n",
    "import matplotlib.pyplot as plt\n",
    "import plotly.express as px\n",
    "from scipy.stats import f_oneway\n",
    "from ipywidgets import interact\n",
    "from sklearn.linear_model import LogisticRegression\n",
    "from sklearn.model_selection import train_test_split\n",
    "from sklearn.metrics import confusion_matrix, classification_report\n",
    "from sklearn.metrics import accuracy_score, precision_score, recall_score, f1_score, log_loss\n",
    "from sklearn.metrics import auc, roc_curve, roc_auc_score, precision_recall_curve\n",
    "import warnings\n",
    "warnings.filterwarnings('ignore')"
   ]
  },
  {
   "cell_type": "code",
   "execution_count": 2,
   "metadata": {
    "scrolled": true,
    "slideshow": {
     "slide_type": "skip"
    }
   },
   "outputs": [],
   "source": [
    "df = pd.read_csv('fifa_players.csv', encoding='utf-8')"
   ]
  },
  {
   "cell_type": "code",
   "execution_count": 3,
   "metadata": {
    "slideshow": {
     "slide_type": "skip"
    }
   },
   "outputs": [
    {
     "data": {
      "text/plain": [
       "'Anexar1[sofifa_id]'"
      ]
     },
     "metadata": {},
     "output_type": "display_data"
    },
    {
     "data": {
      "text/plain": [
       "'Anexar1[Año]'"
      ]
     },
     "metadata": {},
     "output_type": "display_data"
    },
    {
     "data": {
      "text/plain": [
       "'Anexar1[short_name]'"
      ]
     },
     "metadata": {},
     "output_type": "display_data"
    },
    {
     "data": {
      "text/plain": [
       "'Anexar1[long_name]'"
      ]
     },
     "metadata": {},
     "output_type": "display_data"
    },
    {
     "data": {
      "text/plain": [
       "'Anexar1[age]'"
      ]
     },
     "metadata": {},
     "output_type": "display_data"
    },
    {
     "data": {
      "text/plain": [
       "'Anexar1[dob]'"
      ]
     },
     "metadata": {},
     "output_type": "display_data"
    },
    {
     "data": {
      "text/plain": [
       "'Anexar1[height_cm]'"
      ]
     },
     "metadata": {},
     "output_type": "display_data"
    },
    {
     "data": {
      "text/plain": [
       "'Anexar1[weight_kg]'"
      ]
     },
     "metadata": {},
     "output_type": "display_data"
    },
    {
     "data": {
      "text/plain": [
       "'Anexar1[nationality]'"
      ]
     },
     "metadata": {},
     "output_type": "display_data"
    },
    {
     "data": {
      "text/plain": [
       "'Anexar1[club_name]'"
      ]
     },
     "metadata": {},
     "output_type": "display_data"
    },
    {
     "data": {
      "text/plain": [
       "'Anexar1[league_name]'"
      ]
     },
     "metadata": {},
     "output_type": "display_data"
    },
    {
     "data": {
      "text/plain": [
       "'Anexar1[league_rank]'"
      ]
     },
     "metadata": {},
     "output_type": "display_data"
    },
    {
     "data": {
      "text/plain": [
       "'Anexar1[overall]'"
      ]
     },
     "metadata": {},
     "output_type": "display_data"
    },
    {
     "data": {
      "text/plain": [
       "'Anexar1[potential]'"
      ]
     },
     "metadata": {},
     "output_type": "display_data"
    },
    {
     "data": {
      "text/plain": [
       "'Anexar1[value_eur]'"
      ]
     },
     "metadata": {},
     "output_type": "display_data"
    },
    {
     "data": {
      "text/plain": [
       "'Anexar1[wage_eur]'"
      ]
     },
     "metadata": {},
     "output_type": "display_data"
    },
    {
     "data": {
      "text/plain": [
       "'Anexar1[player_positions]'"
      ]
     },
     "metadata": {},
     "output_type": "display_data"
    },
    {
     "data": {
      "text/plain": [
       "'Anexar1[preferred_foot]'"
      ]
     },
     "metadata": {},
     "output_type": "display_data"
    },
    {
     "data": {
      "text/plain": [
       "'Anexar1[international_reputation]'"
      ]
     },
     "metadata": {},
     "output_type": "display_data"
    },
    {
     "data": {
      "text/plain": [
       "'Anexar1[weak_foot]'"
      ]
     },
     "metadata": {},
     "output_type": "display_data"
    },
    {
     "data": {
      "text/plain": [
       "'Anexar1[skill_moves]'"
      ]
     },
     "metadata": {},
     "output_type": "display_data"
    },
    {
     "data": {
      "text/plain": [
       "'Anexar1[work_rate]'"
      ]
     },
     "metadata": {},
     "output_type": "display_data"
    },
    {
     "data": {
      "text/plain": [
       "'Anexar1[body_type]'"
      ]
     },
     "metadata": {},
     "output_type": "display_data"
    },
    {
     "data": {
      "text/plain": [
       "'Anexar1[real_face]'"
      ]
     },
     "metadata": {},
     "output_type": "display_data"
    },
    {
     "data": {
      "text/plain": [
       "'Anexar1[release_clause_eur]'"
      ]
     },
     "metadata": {},
     "output_type": "display_data"
    },
    {
     "data": {
      "text/plain": [
       "'Anexar1[player_tags]'"
      ]
     },
     "metadata": {},
     "output_type": "display_data"
    },
    {
     "data": {
      "text/plain": [
       "'Anexar1[team_position]'"
      ]
     },
     "metadata": {},
     "output_type": "display_data"
    },
    {
     "data": {
      "text/plain": [
       "'Anexar1[team_jersey_number]'"
      ]
     },
     "metadata": {},
     "output_type": "display_data"
    },
    {
     "data": {
      "text/plain": [
       "'Anexar1[loaned_from]'"
      ]
     },
     "metadata": {},
     "output_type": "display_data"
    },
    {
     "data": {
      "text/plain": [
       "'Anexar1[joined]'"
      ]
     },
     "metadata": {},
     "output_type": "display_data"
    },
    {
     "data": {
      "text/plain": [
       "'Anexar1[contract_valid_until]'"
      ]
     },
     "metadata": {},
     "output_type": "display_data"
    },
    {
     "data": {
      "text/plain": [
       "'Anexar1[nation_position]'"
      ]
     },
     "metadata": {},
     "output_type": "display_data"
    },
    {
     "data": {
      "text/plain": [
       "'Anexar1[nation_jersey_number]'"
      ]
     },
     "metadata": {},
     "output_type": "display_data"
    },
    {
     "data": {
      "text/plain": [
       "'Anexar1[pace]'"
      ]
     },
     "metadata": {},
     "output_type": "display_data"
    },
    {
     "data": {
      "text/plain": [
       "'Anexar1[shooting]'"
      ]
     },
     "metadata": {},
     "output_type": "display_data"
    },
    {
     "data": {
      "text/plain": [
       "'Anexar1[passing]'"
      ]
     },
     "metadata": {},
     "output_type": "display_data"
    },
    {
     "data": {
      "text/plain": [
       "'Anexar1[dribbling]'"
      ]
     },
     "metadata": {},
     "output_type": "display_data"
    },
    {
     "data": {
      "text/plain": [
       "'Anexar1[defending]'"
      ]
     },
     "metadata": {},
     "output_type": "display_data"
    },
    {
     "data": {
      "text/plain": [
       "'Anexar1[physic]'"
      ]
     },
     "metadata": {},
     "output_type": "display_data"
    },
    {
     "data": {
      "text/plain": [
       "'Anexar1[gk_diving]'"
      ]
     },
     "metadata": {},
     "output_type": "display_data"
    },
    {
     "data": {
      "text/plain": [
       "'Anexar1[gk_handling]'"
      ]
     },
     "metadata": {},
     "output_type": "display_data"
    },
    {
     "data": {
      "text/plain": [
       "'Anexar1[gk_kicking]'"
      ]
     },
     "metadata": {},
     "output_type": "display_data"
    },
    {
     "data": {
      "text/plain": [
       "'Anexar1[gk_reflexes]'"
      ]
     },
     "metadata": {},
     "output_type": "display_data"
    },
    {
     "data": {
      "text/plain": [
       "'Anexar1[gk_speed]'"
      ]
     },
     "metadata": {},
     "output_type": "display_data"
    },
    {
     "data": {
      "text/plain": [
       "'Anexar1[gk_positioning]'"
      ]
     },
     "metadata": {},
     "output_type": "display_data"
    },
    {
     "data": {
      "text/plain": [
       "'Anexar1[player_traits]'"
      ]
     },
     "metadata": {},
     "output_type": "display_data"
    },
    {
     "data": {
      "text/plain": [
       "'Anexar1[attacking_crossing]'"
      ]
     },
     "metadata": {},
     "output_type": "display_data"
    },
    {
     "data": {
      "text/plain": [
       "'Anexar1[attacking_finishing]'"
      ]
     },
     "metadata": {},
     "output_type": "display_data"
    },
    {
     "data": {
      "text/plain": [
       "'Anexar1[attacking_heading_accuracy]'"
      ]
     },
     "metadata": {},
     "output_type": "display_data"
    },
    {
     "data": {
      "text/plain": [
       "'Anexar1[attacking_short_passing]'"
      ]
     },
     "metadata": {},
     "output_type": "display_data"
    },
    {
     "data": {
      "text/plain": [
       "'Anexar1[attacking_volleys]'"
      ]
     },
     "metadata": {},
     "output_type": "display_data"
    },
    {
     "data": {
      "text/plain": [
       "'Anexar1[skill_dribbling]'"
      ]
     },
     "metadata": {},
     "output_type": "display_data"
    },
    {
     "data": {
      "text/plain": [
       "'Anexar1[skill_curve]'"
      ]
     },
     "metadata": {},
     "output_type": "display_data"
    },
    {
     "data": {
      "text/plain": [
       "'Anexar1[skill_fk_accuracy]'"
      ]
     },
     "metadata": {},
     "output_type": "display_data"
    },
    {
     "data": {
      "text/plain": [
       "'Anexar1[skill_long_passing]'"
      ]
     },
     "metadata": {},
     "output_type": "display_data"
    },
    {
     "data": {
      "text/plain": [
       "'Anexar1[skill_ball_control]'"
      ]
     },
     "metadata": {},
     "output_type": "display_data"
    },
    {
     "data": {
      "text/plain": [
       "'Anexar1[movement_acceleration]'"
      ]
     },
     "metadata": {},
     "output_type": "display_data"
    },
    {
     "data": {
      "text/plain": [
       "'Anexar1[movement_sprint_speed]'"
      ]
     },
     "metadata": {},
     "output_type": "display_data"
    },
    {
     "data": {
      "text/plain": [
       "'Anexar1[movement_agility]'"
      ]
     },
     "metadata": {},
     "output_type": "display_data"
    },
    {
     "data": {
      "text/plain": [
       "'Anexar1[movement_reactions]'"
      ]
     },
     "metadata": {},
     "output_type": "display_data"
    },
    {
     "data": {
      "text/plain": [
       "'Anexar1[movement_balance]'"
      ]
     },
     "metadata": {},
     "output_type": "display_data"
    },
    {
     "data": {
      "text/plain": [
       "'Anexar1[power_shot_power]'"
      ]
     },
     "metadata": {},
     "output_type": "display_data"
    },
    {
     "data": {
      "text/plain": [
       "'Anexar1[power_jumping]'"
      ]
     },
     "metadata": {},
     "output_type": "display_data"
    },
    {
     "data": {
      "text/plain": [
       "'Anexar1[power_stamina]'"
      ]
     },
     "metadata": {},
     "output_type": "display_data"
    },
    {
     "data": {
      "text/plain": [
       "'Anexar1[power_strength]'"
      ]
     },
     "metadata": {},
     "output_type": "display_data"
    },
    {
     "data": {
      "text/plain": [
       "'Anexar1[power_long_shots]'"
      ]
     },
     "metadata": {},
     "output_type": "display_data"
    },
    {
     "data": {
      "text/plain": [
       "'Anexar1[mentality_aggression]'"
      ]
     },
     "metadata": {},
     "output_type": "display_data"
    },
    {
     "data": {
      "text/plain": [
       "'Anexar1[mentality_interceptions]'"
      ]
     },
     "metadata": {},
     "output_type": "display_data"
    },
    {
     "data": {
      "text/plain": [
       "'Anexar1[mentality_positioning]'"
      ]
     },
     "metadata": {},
     "output_type": "display_data"
    },
    {
     "data": {
      "text/plain": [
       "'Anexar1[mentality_vision]'"
      ]
     },
     "metadata": {},
     "output_type": "display_data"
    },
    {
     "data": {
      "text/plain": [
       "'Anexar1[mentality_penalties]'"
      ]
     },
     "metadata": {},
     "output_type": "display_data"
    },
    {
     "data": {
      "text/plain": [
       "'Anexar1[mentality_composure]'"
      ]
     },
     "metadata": {},
     "output_type": "display_data"
    },
    {
     "data": {
      "text/plain": [
       "'Anexar1[defending_marking]'"
      ]
     },
     "metadata": {},
     "output_type": "display_data"
    },
    {
     "data": {
      "text/plain": [
       "'Anexar1[defending_standing_tackle]'"
      ]
     },
     "metadata": {},
     "output_type": "display_data"
    },
    {
     "data": {
      "text/plain": [
       "'Anexar1[defending_sliding_tackle]'"
      ]
     },
     "metadata": {},
     "output_type": "display_data"
    },
    {
     "data": {
      "text/plain": [
       "'Anexar1[goalkeeping_diving]'"
      ]
     },
     "metadata": {},
     "output_type": "display_data"
    },
    {
     "data": {
      "text/plain": [
       "'Anexar1[goalkeeping_handling]'"
      ]
     },
     "metadata": {},
     "output_type": "display_data"
    },
    {
     "data": {
      "text/plain": [
       "'Anexar1[goalkeeping_kicking]'"
      ]
     },
     "metadata": {},
     "output_type": "display_data"
    },
    {
     "data": {
      "text/plain": [
       "'Anexar1[goalkeeping_positioning]'"
      ]
     },
     "metadata": {},
     "output_type": "display_data"
    },
    {
     "data": {
      "text/plain": [
       "'Anexar1[goalkeeping_reflexes]'"
      ]
     },
     "metadata": {},
     "output_type": "display_data"
    },
    {
     "data": {
      "text/plain": [
       "'Anexar1[ls]'"
      ]
     },
     "metadata": {},
     "output_type": "display_data"
    },
    {
     "data": {
      "text/plain": [
       "'Anexar1[st]'"
      ]
     },
     "metadata": {},
     "output_type": "display_data"
    },
    {
     "data": {
      "text/plain": [
       "'Anexar1[rs]'"
      ]
     },
     "metadata": {},
     "output_type": "display_data"
    },
    {
     "data": {
      "text/plain": [
       "'Anexar1[lw]'"
      ]
     },
     "metadata": {},
     "output_type": "display_data"
    },
    {
     "data": {
      "text/plain": [
       "'Anexar1[lf]'"
      ]
     },
     "metadata": {},
     "output_type": "display_data"
    },
    {
     "data": {
      "text/plain": [
       "'Anexar1[cf]'"
      ]
     },
     "metadata": {},
     "output_type": "display_data"
    },
    {
     "data": {
      "text/plain": [
       "'Anexar1[rf]'"
      ]
     },
     "metadata": {},
     "output_type": "display_data"
    },
    {
     "data": {
      "text/plain": [
       "'Anexar1[rw]'"
      ]
     },
     "metadata": {},
     "output_type": "display_data"
    },
    {
     "data": {
      "text/plain": [
       "'Anexar1[lam]'"
      ]
     },
     "metadata": {},
     "output_type": "display_data"
    },
    {
     "data": {
      "text/plain": [
       "'Anexar1[cam]'"
      ]
     },
     "metadata": {},
     "output_type": "display_data"
    },
    {
     "data": {
      "text/plain": [
       "'Anexar1[ram]'"
      ]
     },
     "metadata": {},
     "output_type": "display_data"
    },
    {
     "data": {
      "text/plain": [
       "'Anexar1[lm]'"
      ]
     },
     "metadata": {},
     "output_type": "display_data"
    },
    {
     "data": {
      "text/plain": [
       "'Anexar1[lcm]'"
      ]
     },
     "metadata": {},
     "output_type": "display_data"
    },
    {
     "data": {
      "text/plain": [
       "'Anexar1[cm]'"
      ]
     },
     "metadata": {},
     "output_type": "display_data"
    },
    {
     "data": {
      "text/plain": [
       "'Anexar1[rcm]'"
      ]
     },
     "metadata": {},
     "output_type": "display_data"
    },
    {
     "data": {
      "text/plain": [
       "'Anexar1[rm]'"
      ]
     },
     "metadata": {},
     "output_type": "display_data"
    },
    {
     "data": {
      "text/plain": [
       "'Anexar1[lwb]'"
      ]
     },
     "metadata": {},
     "output_type": "display_data"
    },
    {
     "data": {
      "text/plain": [
       "'Anexar1[ldm]'"
      ]
     },
     "metadata": {},
     "output_type": "display_data"
    },
    {
     "data": {
      "text/plain": [
       "'Anexar1[cdm]'"
      ]
     },
     "metadata": {},
     "output_type": "display_data"
    },
    {
     "data": {
      "text/plain": [
       "'Anexar1[rdm]'"
      ]
     },
     "metadata": {},
     "output_type": "display_data"
    },
    {
     "data": {
      "text/plain": [
       "'Anexar1[rwb]'"
      ]
     },
     "metadata": {},
     "output_type": "display_data"
    },
    {
     "data": {
      "text/plain": [
       "'Anexar1[lb]'"
      ]
     },
     "metadata": {},
     "output_type": "display_data"
    },
    {
     "data": {
      "text/plain": [
       "'Anexar1[lcb]'"
      ]
     },
     "metadata": {},
     "output_type": "display_data"
    },
    {
     "data": {
      "text/plain": [
       "'Anexar1[cb]'"
      ]
     },
     "metadata": {},
     "output_type": "display_data"
    },
    {
     "data": {
      "text/plain": [
       "'Anexar1[rcb]'"
      ]
     },
     "metadata": {},
     "output_type": "display_data"
    },
    {
     "data": {
      "text/plain": [
       "'Anexar1[rb]'"
      ]
     },
     "metadata": {},
     "output_type": "display_data"
    }
   ],
   "source": [
    "for i in range(len(df.columns)):\n",
    "    display(df.columns[i])"
   ]
  },
  {
   "cell_type": "code",
   "execution_count": 4,
   "metadata": {
    "slideshow": {
     "slide_type": "skip"
    }
   },
   "outputs": [],
   "source": [
    "df2 = pd.read_csv('fifa_sofascore.csv', encoding='utf-8')"
   ]
  },
  {
   "cell_type": "code",
   "execution_count": 5,
   "metadata": {
    "slideshow": {
     "slide_type": "skip"
    }
   },
   "outputs": [
    {
     "data": {
      "text/plain": [
       "'TotalCombinado[IdFifa]'"
      ]
     },
     "metadata": {},
     "output_type": "display_data"
    },
    {
     "data": {
      "text/plain": [
       "'TotalCombinado[Año]'"
      ]
     },
     "metadata": {},
     "output_type": "display_data"
    },
    {
     "data": {
      "text/plain": [
       "'TotalCombinado[Nombre]'"
      ]
     },
     "metadata": {},
     "output_type": "display_data"
    },
    {
     "data": {
      "text/plain": [
       "'TotalCombinado[NombreLargo]'"
      ]
     },
     "metadata": {},
     "output_type": "display_data"
    },
    {
     "data": {
      "text/plain": [
       "'TotalCombinado[Edad]'"
      ]
     },
     "metadata": {},
     "output_type": "display_data"
    },
    {
     "data": {
      "text/plain": [
       "'TotalCombinado[Fecha de Nacimiento]'"
      ]
     },
     "metadata": {},
     "output_type": "display_data"
    },
    {
     "data": {
      "text/plain": [
       "'TotalCombinado[Altura]'"
      ]
     },
     "metadata": {},
     "output_type": "display_data"
    },
    {
     "data": {
      "text/plain": [
       "'TotalCombinado[Peso]'"
      ]
     },
     "metadata": {},
     "output_type": "display_data"
    },
    {
     "data": {
      "text/plain": [
       "'TotalCombinado[Nacionalidad]'"
      ]
     },
     "metadata": {},
     "output_type": "display_data"
    },
    {
     "data": {
      "text/plain": [
       "'TotalCombinado[Club]'"
      ]
     },
     "metadata": {},
     "output_type": "display_data"
    },
    {
     "data": {
      "text/plain": [
       "'TotalCombinado[Liga]'"
      ]
     },
     "metadata": {},
     "output_type": "display_data"
    },
    {
     "data": {
      "text/plain": [
       "'TotalCombinado[RankingLiga]'"
      ]
     },
     "metadata": {},
     "output_type": "display_data"
    },
    {
     "data": {
      "text/plain": [
       "'TotalCombinado[PuntuaciónTotal]'"
      ]
     },
     "metadata": {},
     "output_type": "display_data"
    },
    {
     "data": {
      "text/plain": [
       "'TotalCombinado[Potencial]'"
      ]
     },
     "metadata": {},
     "output_type": "display_data"
    },
    {
     "data": {
      "text/plain": [
       "'TotalCombinado[Valor (€)]'"
      ]
     },
     "metadata": {},
     "output_type": "display_data"
    },
    {
     "data": {
      "text/plain": [
       "'TotalCombinado[Salario (€)]'"
      ]
     },
     "metadata": {},
     "output_type": "display_data"
    },
    {
     "data": {
      "text/plain": [
       "'TotalCombinado[Posiciones]'"
      ]
     },
     "metadata": {},
     "output_type": "display_data"
    },
    {
     "data": {
      "text/plain": [
       "'TotalCombinado[Pie]'"
      ]
     },
     "metadata": {},
     "output_type": "display_data"
    },
    {
     "data": {
      "text/plain": [
       "'TotalCombinado[ReputaciónInternacional]'"
      ]
     },
     "metadata": {},
     "output_type": "display_data"
    },
    {
     "data": {
      "text/plain": [
       "'TotalCombinado[PosiciónEquipo]'"
      ]
     },
     "metadata": {},
     "output_type": "display_data"
    },
    {
     "data": {
      "text/plain": [
       "'TotalCombinado[DorsalClub]'"
      ]
     },
     "metadata": {},
     "output_type": "display_data"
    },
    {
     "data": {
      "text/plain": [
       "'TotalCombinado[FechaFinContrato]'"
      ]
     },
     "metadata": {},
     "output_type": "display_data"
    },
    {
     "data": {
      "text/plain": [
       "'TotalCombinado[PosiciónSelección]'"
      ]
     },
     "metadata": {},
     "output_type": "display_data"
    },
    {
     "data": {
      "text/plain": [
       "'TotalCombinado[Ritmo]'"
      ]
     },
     "metadata": {},
     "output_type": "display_data"
    },
    {
     "data": {
      "text/plain": [
       "'TotalCombinado[Tiro]'"
      ]
     },
     "metadata": {},
     "output_type": "display_data"
    },
    {
     "data": {
      "text/plain": [
       "'TotalCombinado[Pase]'"
      ]
     },
     "metadata": {},
     "output_type": "display_data"
    },
    {
     "data": {
      "text/plain": [
       "'TotalCombinado[Regate]'"
      ]
     },
     "metadata": {},
     "output_type": "display_data"
    },
    {
     "data": {
      "text/plain": [
       "'TotalCombinado[Defensa]'"
      ]
     },
     "metadata": {},
     "output_type": "display_data"
    },
    {
     "data": {
      "text/plain": [
       "'TotalCombinado[Fisico]'"
      ]
     },
     "metadata": {},
     "output_type": "display_data"
    },
    {
     "data": {
      "text/plain": [
       "'TotalCombinado[gk_diving]'"
      ]
     },
     "metadata": {},
     "output_type": "display_data"
    },
    {
     "data": {
      "text/plain": [
       "'TotalCombinado[gk_handling]'"
      ]
     },
     "metadata": {},
     "output_type": "display_data"
    },
    {
     "data": {
      "text/plain": [
       "'TotalCombinado[gk_kicking]'"
      ]
     },
     "metadata": {},
     "output_type": "display_data"
    },
    {
     "data": {
      "text/plain": [
       "'TotalCombinado[gk_reflexes]'"
      ]
     },
     "metadata": {},
     "output_type": "display_data"
    },
    {
     "data": {
      "text/plain": [
       "'TotalCombinado[gk_speed]'"
      ]
     },
     "metadata": {},
     "output_type": "display_data"
    },
    {
     "data": {
      "text/plain": [
       "'TotalCombinado[gk_positioning]'"
      ]
     },
     "metadata": {},
     "output_type": "display_data"
    },
    {
     "data": {
      "text/plain": [
       "'TotalCombinado[FifaScore.Note]'"
      ]
     },
     "metadata": {},
     "output_type": "display_data"
    },
    {
     "data": {
      "text/plain": [
       "'TotalCombinado[FifaScore.Total_Games]'"
      ]
     },
     "metadata": {},
     "output_type": "display_data"
    },
    {
     "data": {
      "text/plain": [
       "'TotalCombinado[FifaScore.Total_Goals]'"
      ]
     },
     "metadata": {},
     "output_type": "display_data"
    },
    {
     "data": {
      "text/plain": [
       "'TotalCombinado[FifaScore.Total_Assists]'"
      ]
     },
     "metadata": {},
     "output_type": "display_data"
    },
    {
     "data": {
      "text/plain": [
       "'TotalCombinado[FifaScore.Average_Touches]'"
      ]
     },
     "metadata": {},
     "output_type": "display_data"
    },
    {
     "data": {
      "text/plain": [
       "'TotalCombinado[FifaScore.Average_Big_chances]'"
      ]
     },
     "metadata": {},
     "output_type": "display_data"
    },
    {
     "data": {
      "text/plain": [
       "'TotalCombinado[FifaScore.Average_Key_passes]'"
      ]
     },
     "metadata": {},
     "output_type": "display_data"
    },
    {
     "data": {
      "text/plain": [
       "'TotalCombinado[FifaScore.Average_Interceptions]'"
      ]
     },
     "metadata": {},
     "output_type": "display_data"
    },
    {
     "data": {
      "text/plain": [
       "'TotalCombinado[FifaScore.Average_Duels_won]'"
      ]
     },
     "metadata": {},
     "output_type": "display_data"
    },
    {
     "data": {
      "text/plain": [
       "'TotalCombinado[GrupoPosicion]'"
      ]
     },
     "metadata": {},
     "output_type": "display_data"
    }
   ],
   "source": [
    "for i in range(len(df2.columns)):\n",
    "    display(df2.columns[i])"
   ]
  },
  {
   "cell_type": "code",
   "execution_count": 6,
   "metadata": {
    "scrolled": true,
    "slideshow": {
     "slide_type": "skip"
    }
   },
   "outputs": [],
   "source": [
    "df3 = pd.read_csv('CombinadoGrupo.csv', encoding='utf-8')"
   ]
  },
  {
   "cell_type": "code",
   "execution_count": 7,
   "metadata": {
    "slideshow": {
     "slide_type": "skip"
    }
   },
   "outputs": [
    {
     "data": {
      "text/plain": [
       "'Union[IdFifa]'"
      ]
     },
     "metadata": {},
     "output_type": "display_data"
    },
    {
     "data": {
      "text/plain": [
       "'Union[Año]'"
      ]
     },
     "metadata": {},
     "output_type": "display_data"
    },
    {
     "data": {
      "text/plain": [
       "'Union[Nombre]'"
      ]
     },
     "metadata": {},
     "output_type": "display_data"
    },
    {
     "data": {
      "text/plain": [
       "'Union[NombreLargo]'"
      ]
     },
     "metadata": {},
     "output_type": "display_data"
    },
    {
     "data": {
      "text/plain": [
       "'Union[Edad]'"
      ]
     },
     "metadata": {},
     "output_type": "display_data"
    },
    {
     "data": {
      "text/plain": [
       "'Union[Fecha de Nacimiento]'"
      ]
     },
     "metadata": {},
     "output_type": "display_data"
    },
    {
     "data": {
      "text/plain": [
       "'Union[Altura]'"
      ]
     },
     "metadata": {},
     "output_type": "display_data"
    },
    {
     "data": {
      "text/plain": [
       "'Union[Peso]'"
      ]
     },
     "metadata": {},
     "output_type": "display_data"
    },
    {
     "data": {
      "text/plain": [
       "'Union[Nacionalidad]'"
      ]
     },
     "metadata": {},
     "output_type": "display_data"
    },
    {
     "data": {
      "text/plain": [
       "'Union[Club]'"
      ]
     },
     "metadata": {},
     "output_type": "display_data"
    },
    {
     "data": {
      "text/plain": [
       "'Union[Liga]'"
      ]
     },
     "metadata": {},
     "output_type": "display_data"
    },
    {
     "data": {
      "text/plain": [
       "'Union[RankingLiga]'"
      ]
     },
     "metadata": {},
     "output_type": "display_data"
    },
    {
     "data": {
      "text/plain": [
       "'Union[PuntuaciónTotal]'"
      ]
     },
     "metadata": {},
     "output_type": "display_data"
    },
    {
     "data": {
      "text/plain": [
       "'Union[Potencial]'"
      ]
     },
     "metadata": {},
     "output_type": "display_data"
    },
    {
     "data": {
      "text/plain": [
       "'Union[Valor (€)]'"
      ]
     },
     "metadata": {},
     "output_type": "display_data"
    },
    {
     "data": {
      "text/plain": [
       "'Union[Salario (€)]'"
      ]
     },
     "metadata": {},
     "output_type": "display_data"
    },
    {
     "data": {
      "text/plain": [
       "'Union[Posiciones]'"
      ]
     },
     "metadata": {},
     "output_type": "display_data"
    },
    {
     "data": {
      "text/plain": [
       "'Union[Pie]'"
      ]
     },
     "metadata": {},
     "output_type": "display_data"
    },
    {
     "data": {
      "text/plain": [
       "'Union[ReputaciónInternacional]'"
      ]
     },
     "metadata": {},
     "output_type": "display_data"
    },
    {
     "data": {
      "text/plain": [
       "'Union[Habilidad PIe Débil]'"
      ]
     },
     "metadata": {},
     "output_type": "display_data"
    },
    {
     "data": {
      "text/plain": [
       "'Union[Skills]'"
      ]
     },
     "metadata": {},
     "output_type": "display_data"
    },
    {
     "data": {
      "text/plain": [
       "'Union[WorkRate]'"
      ]
     },
     "metadata": {},
     "output_type": "display_data"
    },
    {
     "data": {
      "text/plain": [
       "'Union[TipoCuerpo]'"
      ]
     },
     "metadata": {},
     "output_type": "display_data"
    },
    {
     "data": {
      "text/plain": [
       "'Union[real_face]'"
      ]
     },
     "metadata": {},
     "output_type": "display_data"
    },
    {
     "data": {
      "text/plain": [
       "'Union[Clausula]'"
      ]
     },
     "metadata": {},
     "output_type": "display_data"
    },
    {
     "data": {
      "text/plain": [
       "'Union[player_tags]'"
      ]
     },
     "metadata": {},
     "output_type": "display_data"
    },
    {
     "data": {
      "text/plain": [
       "'Union[PosiciónEquipo]'"
      ]
     },
     "metadata": {},
     "output_type": "display_data"
    },
    {
     "data": {
      "text/plain": [
       "'Union[DorsalClub]'"
      ]
     },
     "metadata": {},
     "output_type": "display_data"
    },
    {
     "data": {
      "text/plain": [
       "'Union[loaned_from]'"
      ]
     },
     "metadata": {},
     "output_type": "display_data"
    },
    {
     "data": {
      "text/plain": [
       "'Union[joined]'"
      ]
     },
     "metadata": {},
     "output_type": "display_data"
    },
    {
     "data": {
      "text/plain": [
       "'Union[FechaFinContrato]'"
      ]
     },
     "metadata": {},
     "output_type": "display_data"
    },
    {
     "data": {
      "text/plain": [
       "'Union[PosiciónSelección]'"
      ]
     },
     "metadata": {},
     "output_type": "display_data"
    },
    {
     "data": {
      "text/plain": [
       "'Union[DorsalSelección]'"
      ]
     },
     "metadata": {},
     "output_type": "display_data"
    },
    {
     "data": {
      "text/plain": [
       "'Union[Ritmo]'"
      ]
     },
     "metadata": {},
     "output_type": "display_data"
    },
    {
     "data": {
      "text/plain": [
       "'Union[Tiro]'"
      ]
     },
     "metadata": {},
     "output_type": "display_data"
    },
    {
     "data": {
      "text/plain": [
       "'Union[Pase]'"
      ]
     },
     "metadata": {},
     "output_type": "display_data"
    },
    {
     "data": {
      "text/plain": [
       "'Union[Regate]'"
      ]
     },
     "metadata": {},
     "output_type": "display_data"
    },
    {
     "data": {
      "text/plain": [
       "'Union[Defensa]'"
      ]
     },
     "metadata": {},
     "output_type": "display_data"
    },
    {
     "data": {
      "text/plain": [
       "'Union[Fisico]'"
      ]
     },
     "metadata": {},
     "output_type": "display_data"
    },
    {
     "data": {
      "text/plain": [
       "'Union[gk_diving]'"
      ]
     },
     "metadata": {},
     "output_type": "display_data"
    },
    {
     "data": {
      "text/plain": [
       "'Union[gk_handling]'"
      ]
     },
     "metadata": {},
     "output_type": "display_data"
    },
    {
     "data": {
      "text/plain": [
       "'Union[gk_kicking]'"
      ]
     },
     "metadata": {},
     "output_type": "display_data"
    },
    {
     "data": {
      "text/plain": [
       "'Union[gk_reflexes]'"
      ]
     },
     "metadata": {},
     "output_type": "display_data"
    },
    {
     "data": {
      "text/plain": [
       "'Union[gk_speed]'"
      ]
     },
     "metadata": {},
     "output_type": "display_data"
    },
    {
     "data": {
      "text/plain": [
       "'Union[gk_positioning]'"
      ]
     },
     "metadata": {},
     "output_type": "display_data"
    },
    {
     "data": {
      "text/plain": [
       "'Union[player_traits]'"
      ]
     },
     "metadata": {},
     "output_type": "display_data"
    },
    {
     "data": {
      "text/plain": [
       "'Union[attacking_crossing]'"
      ]
     },
     "metadata": {},
     "output_type": "display_data"
    },
    {
     "data": {
      "text/plain": [
       "'Union[attacking_finishing]'"
      ]
     },
     "metadata": {},
     "output_type": "display_data"
    },
    {
     "data": {
      "text/plain": [
       "'Union[attacking_heading_accuracy]'"
      ]
     },
     "metadata": {},
     "output_type": "display_data"
    },
    {
     "data": {
      "text/plain": [
       "'Union[attacking_short_passing]'"
      ]
     },
     "metadata": {},
     "output_type": "display_data"
    },
    {
     "data": {
      "text/plain": [
       "'Union[attacking_volleys]'"
      ]
     },
     "metadata": {},
     "output_type": "display_data"
    },
    {
     "data": {
      "text/plain": [
       "'Union[skill_dribbling]'"
      ]
     },
     "metadata": {},
     "output_type": "display_data"
    },
    {
     "data": {
      "text/plain": [
       "'Union[skill_curve]'"
      ]
     },
     "metadata": {},
     "output_type": "display_data"
    },
    {
     "data": {
      "text/plain": [
       "'Union[skill_fk_accuracy]'"
      ]
     },
     "metadata": {},
     "output_type": "display_data"
    },
    {
     "data": {
      "text/plain": [
       "'Union[skill_long_passing]'"
      ]
     },
     "metadata": {},
     "output_type": "display_data"
    },
    {
     "data": {
      "text/plain": [
       "'Union[skill_ball_control]'"
      ]
     },
     "metadata": {},
     "output_type": "display_data"
    },
    {
     "data": {
      "text/plain": [
       "'Union[movement_acceleration]'"
      ]
     },
     "metadata": {},
     "output_type": "display_data"
    },
    {
     "data": {
      "text/plain": [
       "'Union[movement_sprint_speed]'"
      ]
     },
     "metadata": {},
     "output_type": "display_data"
    },
    {
     "data": {
      "text/plain": [
       "'Union[movement_agility]'"
      ]
     },
     "metadata": {},
     "output_type": "display_data"
    },
    {
     "data": {
      "text/plain": [
       "'Union[movement_reactions]'"
      ]
     },
     "metadata": {},
     "output_type": "display_data"
    },
    {
     "data": {
      "text/plain": [
       "'Union[movement_balance]'"
      ]
     },
     "metadata": {},
     "output_type": "display_data"
    },
    {
     "data": {
      "text/plain": [
       "'Union[power_shot_power]'"
      ]
     },
     "metadata": {},
     "output_type": "display_data"
    },
    {
     "data": {
      "text/plain": [
       "'Union[power_jumping]'"
      ]
     },
     "metadata": {},
     "output_type": "display_data"
    },
    {
     "data": {
      "text/plain": [
       "'Union[power_stamina]'"
      ]
     },
     "metadata": {},
     "output_type": "display_data"
    },
    {
     "data": {
      "text/plain": [
       "'Union[power_strength]'"
      ]
     },
     "metadata": {},
     "output_type": "display_data"
    },
    {
     "data": {
      "text/plain": [
       "'Union[power_long_shots]'"
      ]
     },
     "metadata": {},
     "output_type": "display_data"
    },
    {
     "data": {
      "text/plain": [
       "'Union[mentality_aggression]'"
      ]
     },
     "metadata": {},
     "output_type": "display_data"
    },
    {
     "data": {
      "text/plain": [
       "'Union[mentality_interceptions]'"
      ]
     },
     "metadata": {},
     "output_type": "display_data"
    },
    {
     "data": {
      "text/plain": [
       "'Union[mentality_positioning]'"
      ]
     },
     "metadata": {},
     "output_type": "display_data"
    },
    {
     "data": {
      "text/plain": [
       "'Union[mentality_vision]'"
      ]
     },
     "metadata": {},
     "output_type": "display_data"
    },
    {
     "data": {
      "text/plain": [
       "'Union[mentality_penalties]'"
      ]
     },
     "metadata": {},
     "output_type": "display_data"
    },
    {
     "data": {
      "text/plain": [
       "'Union[mentality_composure]'"
      ]
     },
     "metadata": {},
     "output_type": "display_data"
    },
    {
     "data": {
      "text/plain": [
       "'Union[defending_marking]'"
      ]
     },
     "metadata": {},
     "output_type": "display_data"
    },
    {
     "data": {
      "text/plain": [
       "'Union[defending_standing_tackle]'"
      ]
     },
     "metadata": {},
     "output_type": "display_data"
    },
    {
     "data": {
      "text/plain": [
       "'Union[defending_sliding_tackle]'"
      ]
     },
     "metadata": {},
     "output_type": "display_data"
    },
    {
     "data": {
      "text/plain": [
       "'Union[goalkeeping_diving]'"
      ]
     },
     "metadata": {},
     "output_type": "display_data"
    },
    {
     "data": {
      "text/plain": [
       "'Union[goalkeeping_handling]'"
      ]
     },
     "metadata": {},
     "output_type": "display_data"
    },
    {
     "data": {
      "text/plain": [
       "'Union[goalkeeping_kicking]'"
      ]
     },
     "metadata": {},
     "output_type": "display_data"
    },
    {
     "data": {
      "text/plain": [
       "'Union[goalkeeping_positioning]'"
      ]
     },
     "metadata": {},
     "output_type": "display_data"
    },
    {
     "data": {
      "text/plain": [
       "'Union[goalkeeping_reflexes]'"
      ]
     },
     "metadata": {},
     "output_type": "display_data"
    },
    {
     "data": {
      "text/plain": [
       "'Union[ls]'"
      ]
     },
     "metadata": {},
     "output_type": "display_data"
    },
    {
     "data": {
      "text/plain": [
       "'Union[st]'"
      ]
     },
     "metadata": {},
     "output_type": "display_data"
    },
    {
     "data": {
      "text/plain": [
       "'Union[rs]'"
      ]
     },
     "metadata": {},
     "output_type": "display_data"
    },
    {
     "data": {
      "text/plain": [
       "'Union[lw]'"
      ]
     },
     "metadata": {},
     "output_type": "display_data"
    },
    {
     "data": {
      "text/plain": [
       "'Union[lf]'"
      ]
     },
     "metadata": {},
     "output_type": "display_data"
    },
    {
     "data": {
      "text/plain": [
       "'Union[cf]'"
      ]
     },
     "metadata": {},
     "output_type": "display_data"
    },
    {
     "data": {
      "text/plain": [
       "'Union[rf]'"
      ]
     },
     "metadata": {},
     "output_type": "display_data"
    },
    {
     "data": {
      "text/plain": [
       "'Union[rw]'"
      ]
     },
     "metadata": {},
     "output_type": "display_data"
    },
    {
     "data": {
      "text/plain": [
       "'Union[lam]'"
      ]
     },
     "metadata": {},
     "output_type": "display_data"
    },
    {
     "data": {
      "text/plain": [
       "'Union[cam]'"
      ]
     },
     "metadata": {},
     "output_type": "display_data"
    },
    {
     "data": {
      "text/plain": [
       "'Union[ram]'"
      ]
     },
     "metadata": {},
     "output_type": "display_data"
    },
    {
     "data": {
      "text/plain": [
       "'Union[lm]'"
      ]
     },
     "metadata": {},
     "output_type": "display_data"
    },
    {
     "data": {
      "text/plain": [
       "'Union[lcm]'"
      ]
     },
     "metadata": {},
     "output_type": "display_data"
    },
    {
     "data": {
      "text/plain": [
       "'Union[cm]'"
      ]
     },
     "metadata": {},
     "output_type": "display_data"
    },
    {
     "data": {
      "text/plain": [
       "'Union[rcm]'"
      ]
     },
     "metadata": {},
     "output_type": "display_data"
    },
    {
     "data": {
      "text/plain": [
       "'Union[rm]'"
      ]
     },
     "metadata": {},
     "output_type": "display_data"
    },
    {
     "data": {
      "text/plain": [
       "'Union[lwb]'"
      ]
     },
     "metadata": {},
     "output_type": "display_data"
    },
    {
     "data": {
      "text/plain": [
       "'Union[ldm]'"
      ]
     },
     "metadata": {},
     "output_type": "display_data"
    },
    {
     "data": {
      "text/plain": [
       "'Union[cdm]'"
      ]
     },
     "metadata": {},
     "output_type": "display_data"
    },
    {
     "data": {
      "text/plain": [
       "'Union[rdm]'"
      ]
     },
     "metadata": {},
     "output_type": "display_data"
    },
    {
     "data": {
      "text/plain": [
       "'Union[rwb]'"
      ]
     },
     "metadata": {},
     "output_type": "display_data"
    },
    {
     "data": {
      "text/plain": [
       "'Union[lb]'"
      ]
     },
     "metadata": {},
     "output_type": "display_data"
    },
    {
     "data": {
      "text/plain": [
       "'Union[lcb]'"
      ]
     },
     "metadata": {},
     "output_type": "display_data"
    },
    {
     "data": {
      "text/plain": [
       "'Union[cb]'"
      ]
     },
     "metadata": {},
     "output_type": "display_data"
    },
    {
     "data": {
      "text/plain": [
       "'Union[rcb]'"
      ]
     },
     "metadata": {},
     "output_type": "display_data"
    },
    {
     "data": {
      "text/plain": [
       "'Union[rb]'"
      ]
     },
     "metadata": {},
     "output_type": "display_data"
    },
    {
     "data": {
      "text/plain": [
       "'Union[Posiciones (grupos)]'"
      ]
     },
     "metadata": {},
     "output_type": "display_data"
    },
    {
     "data": {
      "text/plain": [
       "'Union[GrupoPosicion2]'"
      ]
     },
     "metadata": {},
     "output_type": "display_data"
    }
   ],
   "source": [
    "for i in range(len(df3.columns)):\n",
    "    display(df3.columns[i])"
   ]
  },
  {
   "cell_type": "markdown",
   "metadata": {
    "slideshow": {
     "slide_type": "slide"
    }
   },
   "source": [
    "## Player Number"
   ]
  },
  {
   "cell_type": "markdown",
   "metadata": {
    "slideshow": {
     "slide_type": "subslide"
    }
   },
   "source": [
    "Almost all of the football fans have dreamed of becoming the number 10 of their beloved team.\n",
    "\n",
    "The player who wears the jersey with the number **10** uses to be the **VIP** of the team. The number is related to a set of skills that makes this person not only a **relevant player** for the team but also a very important **economic asset**.\n",
    "\n",
    "Could we determine that the number is somehow correlated with a **performance** variable such as the **Overall rate** of the player, or correlated to **economic** variables such as the **Value** of the player, the **Wage** of the Player or the **International** reputation of the player? "
   ]
  },
  {
   "cell_type": "code",
   "execution_count": 8,
   "metadata": {
    "cell_style": "center",
    "hide_input": false,
    "scrolled": false,
    "slideshow": {
     "slide_type": "subslide"
    }
   },
   "outputs": [
    {
     "data": {
      "image/png": "[encoded data removed]",
      "text/plain": [
       "<Figure size 360x360 with 1 Axes>"
      ]
     },
     "metadata": {
      "needs_background": "light"
     },
     "output_type": "display_data"
    }
   ],
   "source": [
    "# Distribution of Value of Players\n",
    "\n",
    "_=sns.displot(df, x='Anexar1[value_eur]', bins=1000)"
   ]
  },
  {
   "cell_type": "code",
   "execution_count": 9,
   "metadata": {
    "cell_style": "center",
    "hide_input": false,
    "scrolled": false,
    "slideshow": {
     "slide_type": "fragment"
    }
   },
   "outputs": [
    {
     "data": {
      "text/plain": [
       "NormaltestResult(statistic=68908.51896798763, pvalue=0.0)"
      ]
     },
     "execution_count": 9,
     "metadata": {},
     "output_type": "execute_result"
    }
   ],
   "source": [
    "# Normal test of Value of Players\n",
    "\n",
    "stats.normaltest(df['Anexar1[value_eur]'])"
   ]
  },
  {
   "cell_type": "code",
   "execution_count": 10,
   "metadata": {
    "cell_style": "center",
    "hide_input": false,
    "slideshow": {
     "slide_type": "subslide"
    }
   },
   "outputs": [
    {
     "data": {
      "image/png": "[encoded data removed]",
      "text/plain": [
       "<Figure size 360x360 with 1 Axes>"
      ]
     },
     "metadata": {
      "needs_background": "light"
     },
     "output_type": "display_data"
    }
   ],
   "source": [
    "# Distribution of Wages\n",
    "\n",
    "_=sns.displot(df, x='Anexar1[wage_eur]', bins=50)"
   ]
  },
  {
   "cell_type": "code",
   "execution_count": 11,
   "metadata": {
    "cell_style": "center",
    "hide_input": false,
    "scrolled": true,
    "slideshow": {
     "slide_type": "fragment"
    }
   },
   "outputs": [
    {
     "data": {
      "text/plain": [
       "NormaltestResult(statistic=75757.55413916142, pvalue=0.0)"
      ]
     },
     "execution_count": 11,
     "metadata": {},
     "output_type": "execute_result"
    }
   ],
   "source": [
    "# Distribution of Wages\n",
    "\n",
    "stats.normaltest(df['Anexar1[wage_eur]'])"
   ]
  },
  {
   "cell_type": "code",
   "execution_count": 12,
   "metadata": {
    "scrolled": true,
    "slideshow": {
     "slide_type": "subslide"
    }
   },
   "outputs": [
    {
     "data": {
      "image/png": "[encoded data removed]",
      "text/plain": [
       "<Figure size 360x360 with 1 Axes>"
      ]
     },
     "metadata": {
      "needs_background": "light"
     },
     "output_type": "display_data"
    }
   ],
   "source": [
    "# Distribution of Overall\n",
    "\n",
    "_=sns.displot(df, x='Anexar1[overall]', bins=50)"
   ]
  },
  {
   "cell_type": "code",
   "execution_count": 13,
   "metadata": {
    "slideshow": {
     "slide_type": "subslide"
    }
   },
   "outputs": [
    {
     "data": {
      "text/plain": [
       "NormaltestResult(statistic=52.840875717550475, pvalue=3.355441166981189e-12)"
      ]
     },
     "execution_count": 13,
     "metadata": {},
     "output_type": "execute_result"
    }
   ],
   "source": [
    "# Distribution of Overall\n",
    "\n",
    "stats.normaltest(df['Anexar1[overall]'])"
   ]
  },
  {
   "cell_type": "code",
   "execution_count": 14,
   "metadata": {
    "slideshow": {
     "slide_type": "fragment"
    }
   },
   "outputs": [
    {
     "data": {
      "text/plain": [
       "0.07391440622497336"
      ]
     },
     "execution_count": 14,
     "metadata": {},
     "output_type": "execute_result"
    }
   ],
   "source": [
    "# Skew close to 0\n",
    "\n",
    "stats.skew(df['Anexar1[overall]'])"
   ]
  },
  {
   "cell_type": "code",
   "execution_count": 15,
   "metadata": {
    "slideshow": {
     "slide_type": "fragment"
    }
   },
   "outputs": [
    {
     "data": {
      "text/plain": [
       "0.0325201895530145"
      ]
     },
     "execution_count": 15,
     "metadata": {},
     "output_type": "execute_result"
    }
   ],
   "source": [
    "# Kurtosis close to 0\n",
    "\n",
    "stats.kurtosis(df['Anexar1[overall]'])"
   ]
  },
  {
   "cell_type": "code",
   "execution_count": 38,
   "metadata": {
    "slideshow": {
     "slide_type": "fragment"
    }
   },
   "outputs": [
    {
     "data": {
      "image/png": "[encoded data removed]",
      "text/plain": [
       "<Figure size 432x288 with 1 Axes>"
      ]
     },
     "metadata": {
      "needs_background": "light"
     },
     "output_type": "display_data"
    }
   ],
   "source": [
    "# QQ plot\n",
    "\n",
    "_ = stats.probplot(df['Anexar1[overall]'], plot=plt)"
   ]
  },
  {
   "cell_type": "code",
   "execution_count": 16,
   "metadata": {
    "slideshow": {
     "slide_type": "skip"
    }
   },
   "outputs": [],
   "source": [
    "df_number = pd.concat([df.groupby('Anexar1[team_jersey_number]')['Anexar1[age]'].count() , \n",
    "df.groupby('Anexar1[team_jersey_number]')['Anexar1[international_reputation]', 'Anexar1[overall]', 'Anexar1[value_eur]', 'Anexar1[wage_eur]'].mean()], axis=1)"
   ]
  },
  {
   "cell_type": "code",
   "execution_count": 17,
   "metadata": {
    "slideshow": {
     "slide_type": "skip"
    }
   },
   "outputs": [],
   "source": [
    "df_number2 = df_number[df_number['Anexar1[age]'] > 99].reset_index()"
   ]
  },
  {
   "cell_type": "code",
   "execution_count": 18,
   "metadata": {
    "hide_input": true,
    "scrolled": true,
    "slideshow": {
     "slide_type": "subslide"
    }
   },
   "outputs": [
    {
     "data": {
      "application/vnd.jupyter.widget-view+json": {
       "model_id": "b38bc19fb8ea40348a1bcc1b55af245b",
       "version_major": 2,
       "version_minor": 0
      },
      "text/plain": [
       "interactive(children=(Dropdown(description='y', options=('Anexar1[overall]', 'Anexar1[value_eur]', 'Anexar1[wa…"
      ]
     },
     "metadata": {},
     "output_type": "display_data"
    }
   ],
   "source": [
    "@ interact(size = df_number2.columns[3:6],y = df_number2.columns[3:6] ,m_whitneyu =['No', 'Yes'])\n",
    "def number_shirt (y, size, m_whitneyu):\n",
    "    if m_whitneyu == 'No':\n",
    "        return px.scatter( df_number2, x='Anexar1[international_reputation]', y=y, hover_name=\"Anexar1[team_jersey_number]\", marginal_y='box', size=size,\n",
    "                      labels = {'Anexar1[international_reputation]':'Player_Reputation', 'Anexar1[overall]': \n",
    "                                'Player_Rate', 'Anexar1[value_eur]':'Player_Value', 'Anexar1[wage_eur]' : 'Player_Wage'},\n",
    "                      title = 'Influence of Number in economic parameters', size_max= 15, width = 900, height= 500)\n",
    "\n",
    "    if m_whitneyu == 'Yes':\n",
    "        wage_10 = df[df['Anexar1[team_jersey_number]'] == 10][y]\n",
    "        wage_not_10 = df[df['Anexar1[team_jersey_number]'] != 10][y]\n",
    "        _, p_value = stats.mannwhitneyu(wage_10, wage_not_10)\n",
    "        display(f'Mannwhitneyu Test p value is {p_value}. We reject the Null hypothesis that the two populations are the same ')\n",
    "        #display(sns.distplot(wage_10), sns.distplot(wage_not_10))\n",
    "        return px.scatter( df_number2, x='Anexar1[international_reputation]', y=y, hover_name=\"Anexar1[team_jersey_number]\", marginal_y='box',size=size,\n",
    "                      labels = {'Anexar1[international_reputation]':'Player_Reputation', 'Anexar1[overall]': \n",
    "                                'Player_Rate', 'Anexar1[value_eur]':'Player_Value', 'Anexar1[wage_eur]' : 'Player_Wage'},\n",
    "                      title = 'Influence of Number in economic parameters', size_max= 15, width = 900, height= 500)"
   ]
  },
  {
   "cell_type": "code",
   "execution_count": 19,
   "metadata": {
    "hide_input": false,
    "scrolled": true,
    "slideshow": {
     "slide_type": "subslide"
    }
   },
   "outputs": [
    {
     "data": {
      "application/vnd.jupyter.widget-view+json": {
       "model_id": "d2c4212123ef40d9acf0a601cc6dba31",
       "version_major": 2,
       "version_minor": 0
      },
      "text/plain": [
       "interactive(children=(Dropdown(description='y', options=('Anexar1[overall]', 'Anexar1[value_eur]', 'Anexar1[wa…"
      ]
     },
     "metadata": {},
     "output_type": "display_data"
    }
   ],
   "source": [
    "@ interact(y = df_number2.columns[3:6])\n",
    "def number_shirt (y):\n",
    "    wage_10 = df[df['Anexar1[team_jersey_number]'] == 10][y]\n",
    "    wage_not_10 = df[df['Anexar1[team_jersey_number]'] != 10][y]\n",
    "    fig,ax=plt.subplots(figsize=(14,7))\n",
    "    _= sns.distplot(wage_10)\n",
    "    _=sns.distplot(wage_not_10)\n",
    "    "
   ]
  },
  {
   "cell_type": "code",
   "execution_count": 20,
   "metadata": {
    "slideshow": {
     "slide_type": "skip"
    }
   },
   "outputs": [],
   "source": [
    "df2_ = df2[df2['TotalCombinado[Año]'] == '1/1/2021']"
   ]
  },
  {
   "cell_type": "code",
   "execution_count": 21,
   "metadata": {
    "slideshow": {
     "slide_type": "skip"
    }
   },
   "outputs": [],
   "source": [
    "df2_.loc[850, 'TotalCombinado[FifaScore.Total_Goals]'] = 0\n",
    "df2_.loc[848, 'TotalCombinado[FifaScore.Total_Goals]'] = 0\n",
    "df2_.loc[836, 'TotalCombinado[FifaScore.Total_Goals]'] = 1\n",
    "df2_.loc[850, 'TotalCombinado[FifaScore.Total_Assists]'] = 0\n",
    "df2_.loc[848, 'TotalCombinado[FifaScore.Total_Assists]'] = 0\n",
    "df2_.loc[836, 'TotalCombinado[FifaScore.Total_Assists]'] = 0"
   ]
  },
  {
   "cell_type": "code",
   "execution_count": 22,
   "metadata": {
    "slideshow": {
     "slide_type": "skip"
    }
   },
   "outputs": [],
   "source": [
    "df2_number = pd.concat([df2_.groupby('TotalCombinado[DorsalClub]')['TotalCombinado[Edad]'].count() , \n",
    "df2_.groupby('TotalCombinado[DorsalClub]')['TotalCombinado[FifaScore.Total_Games]',\n",
    "'TotalCombinado[FifaScore.Total_Goals]',\n",
    "'TotalCombinado[FifaScore.Total_Assists]',\n",
    "'TotalCombinado[FifaScore.Average_Touches]',\n",
    "'TotalCombinado[FifaScore.Average_Big_chances]',\n",
    "'TotalCombinado[FifaScore.Average_Key_passes]'].mean()], axis=1)"
   ]
  },
  {
   "cell_type": "code",
   "execution_count": 23,
   "metadata": {
    "slideshow": {
     "slide_type": "skip"
    }
   },
   "outputs": [],
   "source": [
    "df2_number2 = df2_number[df2_number['TotalCombinado[Edad]'] > 7].reset_index()"
   ]
  },
  {
   "cell_type": "code",
   "execution_count": 24,
   "metadata": {
    "hide_input": false,
    "slideshow": {
     "slide_type": "skip"
    }
   },
   "outputs": [
    {
     "data": {
      "application/vnd.jupyter.widget-view+json": {
       "model_id": "b54d075117dd4e5b847be22740bb8574",
       "version_major": 2,
       "version_minor": 0
      },
      "text/plain": [
       "interactive(children=(Dropdown(description='y', options=('TotalCombinado[FifaScore.Total_Goals]', 'TotalCombin…"
      ]
     },
     "metadata": {},
     "output_type": "display_data"
    }
   ],
   "source": [
    "@ interact(y = pd.concat([df2_number2.iloc[:,0:1], df2_number2.iloc[:,2:8]], axis=1).columns[2:9], description='Game parameter')\n",
    "def number_shirt (y):\n",
    "    return px.bar( df2_number2, x='TotalCombinado[DorsalClub]', y=y, hover_name='TotalCombinado[DorsalClub]', \n",
    "                      labels = {'TotalCombinado[FifaScore.Total_Games]':'Total_Games', 'TotalCombinado[FifaScore.Total_Goals]': \n",
    "                                'Total_Goals', 'TotalCombinado[FifaScore.Total_Assists]':'Total_Assists',\n",
    "                                'TotalCombinado[FifaScore.Average_Touches]' : 'Average_Touches', 'TotalCombinado[FifaScore.Average_Big_Chances]'\n",
    "                               : 'Big_chances', 'TotalCombinado[FifaScore.Average_Key_passes]' : 'Key_passes'},\n",
    "                      title = 'Influence on Number in Game parameters',  width = 900, height= 500)"
   ]
  },
  {
   "cell_type": "markdown",
   "metadata": {
    "slideshow": {
     "slide_type": "slide"
    }
   },
   "source": [
    "## Skills"
   ]
  },
  {
   "cell_type": "markdown",
   "metadata": {
    "slideshow": {
     "slide_type": "subslide"
    }
   },
   "source": [
    "Football is considered one of the most complicated sports. It requires to have not only outstanding athletic conditions such as strength, power and balance, but also mental agility, motivation and focus or technical conditions like accuracy and coordination.\n",
    "\n",
    "FIFA divides the skills of the players into 5 main groups: **Pace**, **Passing**, **Dribbling**, **Defending** and **Physic**\n",
    "\n",
    "There is a say in Football... **What matter is that the balls gets into the goal**.\n",
    "\n",
    "Would it be True?"
   ]
  },
  {
   "cell_type": "code",
   "execution_count": 25,
   "metadata": {
    "slideshow": {
     "slide_type": "skip"
    }
   },
   "outputs": [],
   "source": [
    "df_skills = pd.concat([df.iloc[:,12:13], df.iloc[:,33:39]], axis=1)"
   ]
  },
  {
   "cell_type": "code",
   "execution_count": 26,
   "metadata": {
    "slideshow": {
     "slide_type": "skip"
    }
   },
   "outputs": [],
   "source": [
    "df2_skills = pd.concat([df2_['TotalCombinado[FifaScore.Note]'],df2_.iloc[:, 23:29]], axis=1).dropna()"
   ]
  },
  {
   "cell_type": "code",
   "execution_count": 27,
   "metadata": {
    "hide_input": true,
    "slideshow": {
     "slide_type": "subslide"
    }
   },
   "outputs": [
    {
     "data": {
      "application/vnd.jupyter.widget-view+json": {
       "model_id": "3ad5f6d2b2d441ac8b0fdd5a39b69dce",
       "version_major": 2,
       "version_minor": 0
      },
      "text/plain": [
       "interactive(children=(SelectMultiple(description='Skills', options=('0-Overall', '1-Pace', '2-Shooting', '3-Pa…"
      ]
     },
     "metadata": {},
     "output_type": "display_data"
    }
   ],
   "source": [
    "@ interact(Rate = ['Fifa', 'SofaScore'] , x = widgets.SelectMultiple(\n",
    "    options=['0-Overall', '1-Pace', '2-Shooting','3-Passing','4-Dribbling','5-Defending','6-Physic'],\n",
    "    description='Skills',\n",
    "    disabled=False,\n",
    "))\n",
    "def skills_func(x, Rate):\n",
    "    if Rate == 'Fifa':\n",
    "        a = list(x)\n",
    "        if len(x) == 2:\n",
    "            b = a[0]\n",
    "            z = b.split('-')[0]\n",
    "            c = a[1]\n",
    "            d = c.split('-')[0]\n",
    "            df_skills2 = pd.DataFrame(zip(df_skills.iloc[:,int(z)], df_skills.iloc[:,int(d)]))\n",
    "            fig, ax = plt.subplots(figsize=(10,7))\n",
    "            ax.set_title('Correlation between Skills')\n",
    "            return sns.heatmap(df_skills2.corr(), center=0, cmap='coolwarm', annot=True, linewidths = 1)\n",
    "\n",
    "        if len(x) == 3:\n",
    "            b = a[0]\n",
    "            z = b.split('-')[0]\n",
    "            c = a[1]\n",
    "            d = c.split('-')[0]\n",
    "            e = a[2]\n",
    "            f = e.split('-')[0]\n",
    "            df_skills2 = pd.DataFrame(zip(df_skills.iloc[:,int(z)], df_skills.iloc[:,int(d)], df_skills.iloc[:,int(f)]))\n",
    "            fig, ax = plt.subplots(figsize=(10,7))\n",
    "            ax.set_title('Correlation between Skills')\n",
    "            return sns.heatmap(df_skills2.corr(), center=0, cmap='coolwarm', annot=True, linewidths = 1)\n",
    "\n",
    "        if len(x) == 4:\n",
    "            b = a[0]\n",
    "            z = b.split('-')[0]\n",
    "            c = a[1]\n",
    "            d = c.split('-')[0]\n",
    "            e = a[2]\n",
    "            f = e.split('-')[0]\n",
    "            g = a[3]\n",
    "            h = g.split('-')[0]\n",
    "            df_skills2 = pd.DataFrame(zip(df_skills.iloc[:,int(z)], df_skills.iloc[:,int(d)], df_skills.iloc[:,int(f)], df_skills.iloc[:,int(h)]))\n",
    "            fig, ax = plt.subplots(figsize=(10,7))\n",
    "            ax.set_title('Correlation between Skills')\n",
    "            return sns.heatmap(df_skills2.corr(), center=0, cmap='coolwarm', annot=True, linewidths = 1)\n",
    "\n",
    "        if len(x) == 5:\n",
    "            b = a[0]\n",
    "            z = b.split('-')[0]\n",
    "            c = a[1]\n",
    "            d = c.split('-')[0]\n",
    "            e = a[2]\n",
    "            f = e.split('-')[0]\n",
    "            g = a[3]\n",
    "            h = g.split('-')[0]\n",
    "            i = a[4]\n",
    "            j = i.split('-')[0]\n",
    "            df_skills2 = pd.DataFrame(zip(df_skills.iloc[:,int(z)], df_skills.iloc[:,int(d)], df_skills.iloc[:,int(f)], df_skills.iloc[:,int(h)],df_skills.iloc[:,int(j)]))\n",
    "            fig, ax = plt.subplots(figsize=(10,7))\n",
    "            ax.set_title('Correlation between Skills')\n",
    "            return sns.heatmap(df_skills2.corr(), center=0, cmap='coolwarm', annot=True, linewidths = 1)\n",
    "\n",
    "        if len(x) == 6:\n",
    "            b = a[0]\n",
    "            z = b.split('-')[0]\n",
    "            c = a[1]\n",
    "            d = c.split('-')[0]\n",
    "            e = a[2]\n",
    "            f = e.split('-')[0]\n",
    "            g = a[3]\n",
    "            h = g.split('-')[0]\n",
    "            i = a[4]\n",
    "            j = i.split('-')[0]\n",
    "            k = a[5]\n",
    "            l = k.split('-')[0]\n",
    "            df_skills2 = pd.DataFrame(zip(df_skills.iloc[:,int(z)], df_skills.iloc[:,int(d)], df_skills.iloc[:,int(f)], df_skills.iloc[:,int(h)],df_skills.iloc[:,int(j)], df_skills.iloc[:,int(l)]))\n",
    "            fig, ax = plt.subplots(figsize=(10,7))\n",
    "            ax.set_title('Correlation between Skills')\n",
    "            return sns.heatmap(df_skills2.corr(), center=0, cmap='coolwarm', annot=True, linewidths = 1)\n",
    "\n",
    "        if len(x) == 7:\n",
    "            b = a[0]\n",
    "            z = b.split('-')[0]\n",
    "            c = a[1]\n",
    "            d = c.split('-')[0]\n",
    "            e = a[2]\n",
    "            f = e.split('-')[0]\n",
    "            g = a[3]\n",
    "            h = g.split('-')[0]\n",
    "            i = a[4]\n",
    "            j = i.split('-')[0]\n",
    "            k = a[5]\n",
    "            l = k.split('-')[0]\n",
    "            m = a[6]\n",
    "            n = m.split('-')[0]\n",
    "            df_skills2 = pd.DataFrame(zip(df_skills.iloc[:,int(z)], df_skills.iloc[:,int(d)], df_skills.iloc[:,int(f)], df_skills.iloc[:,int(h)],df_skills.iloc[:,int(j)], df_skills.iloc[:,int(l)],df_skills.iloc[:,int(n)]))\n",
    "            fig, ax = plt.subplots(figsize=(10,7))\n",
    "            ax.set_title('Correlation between Skills')\n",
    "            return sns.heatmap(df_skills2.corr(), center=0, cmap='coolwarm', annot=True, linewidths = 1)\n",
    "    \n",
    "    elif Rate == 'SofaScore':\n",
    "        a = list(x)\n",
    "        if len(x) == 2:\n",
    "            b = a[0]\n",
    "            z = b.split('-')[0]\n",
    "            c = a[1]\n",
    "            d = c.split('-')[0]\n",
    "            df2_skills2 = pd.DataFrame(zip(df2_skills.iloc[:,int(z)], df2_skills.iloc[:,int(d)]))\n",
    "            fig, ax = plt.subplots(figsize=(10,7))\n",
    "            ax.set_title('Correlation between Skills')\n",
    "            return sns.heatmap(df2_skills2.corr(), center=0, cmap='coolwarm', annot=True, linewidths = 1)\n",
    "\n",
    "        if len(x) == 3:\n",
    "            b = a[0]\n",
    "            z = b.split('-')[0]\n",
    "            c = a[1]\n",
    "            d = c.split('-')[0]\n",
    "            e = a[2]\n",
    "            f = e.split('-')[0]\n",
    "            df2_skills2 = pd.DataFrame(zip(df2_skills.iloc[:,int(z)], df2_skills.iloc[:,int(d)], df2_skills.iloc[:,int(f)]))\n",
    "            fig, ax = plt.subplots(figsize=(10,7))\n",
    "            ax.set_title('Correlation between Skills')\n",
    "            return sns.heatmap(df2_skills2.corr(), center=0, cmap='coolwarm', annot=True, linewidths = 1)\n",
    "\n",
    "        if len(x) == 4:\n",
    "            b = a[0]\n",
    "            z = b.split('-')[0]\n",
    "            c = a[1]\n",
    "            d = c.split('-')[0]\n",
    "            e = a[2]\n",
    "            f = e.split('-')[0]\n",
    "            g = a[3]\n",
    "            h = g.split('-')[0]\n",
    "            df2_skills2 = pd.DataFrame(zip(df2_skills.iloc[:,int(z)], df2_skills.iloc[:,int(d)], df2_skills.iloc[:,int(f)], df2_skills.iloc[:,int(h)]))\n",
    "            fig, ax = plt.subplots(figsize=(10,7))\n",
    "            ax.set_title('Correlation between Skills')\n",
    "            return sns.heatmap(df2_skills2.corr(), center=0, cmap='coolwarm', annot=True, linewidths = 1)\n",
    "\n",
    "        if len(x) == 5:\n",
    "            b = a[0]\n",
    "            z = b.split('-')[0]\n",
    "            c = a[1]\n",
    "            d = c.split('-')[0]\n",
    "            e = a[2]\n",
    "            f = e.split('-')[0]\n",
    "            g = a[3]\n",
    "            h = g.split('-')[0]\n",
    "            i = a[4]\n",
    "            j = i.split('-')[0]\n",
    "            df2_skills2 = pd.DataFrame(zip(df2_skills.iloc[:,int(z)], df2_skills.iloc[:,int(d)], df2_skills.iloc[:,int(f)], df2_skills.iloc[:,int(h)],df2_skills.iloc[:,int(j)]))\n",
    "            fig, ax = plt.subplots(figsize=(10,7))\n",
    "            ax.set_title('Correlation between Skills')\n",
    "            return sns.heatmap(df2_skills2.corr(), center=0, cmap='coolwarm', annot=True, linewidths = 1)\n",
    "\n",
    "        if len(x) == 6:\n",
    "            b = a[0]\n",
    "            z = b.split('-')[0]\n",
    "            c = a[1]\n",
    "            d = c.split('-')[0]\n",
    "            e = a[2]\n",
    "            f = e.split('-')[0]\n",
    "            g = a[3]\n",
    "            h = g.split('-')[0]\n",
    "            i = a[4]\n",
    "            j = i.split('-')[0]\n",
    "            k = a[5]\n",
    "            l = k.split('-')[0]\n",
    "            df2_skills2 = pd.DataFrame(zip(df2_skills.iloc[:,int(z)], df2_skills.iloc[:,int(d)], df2_skills.iloc[:,int(f)], df2_skills.iloc[:,int(h)],df2_skills.iloc[:,int(j)], df2_skills.iloc[:,int(l)]))\n",
    "            fig, ax = plt.subplots(figsize=(10,7))\n",
    "            ax.set_title('Correlation between Skills')\n",
    "            return sns.heatmap(df2_skills2.corr(), center=0, cmap='coolwarm', annot=True, linewidths = 1)\n",
    "\n",
    "        if len(x) == 7:\n",
    "            b = a[0]\n",
    "            z = b.split('-')[0]\n",
    "            c = a[1]\n",
    "            d = c.split('-')[0]\n",
    "            e = a[2]\n",
    "            f = e.split('-')[0]\n",
    "            g = a[3]\n",
    "            h = g.split('-')[0]\n",
    "            i = a[4]\n",
    "            j = i.split('-')[0]\n",
    "            k = a[5]\n",
    "            l = k.split('-')[0]\n",
    "            m = a[6]\n",
    "            n = m.split('-')[0]\n",
    "            df2_skills2 = pd.DataFrame(zip(df2_skills.iloc[:,int(z)], df2_skills.iloc[:,int(d)], df2_skills.iloc[:,int(f)], df2_skills.iloc[:,int(h)],df2_skills.iloc[:,int(j)], df2_skills.iloc[:,int(l)],df2_skills.iloc[:,int(n)]))\n",
    "            fig, ax = plt.subplots(figsize=(10,7))\n",
    "            ax.set_title('Correlation between Skills')\n",
    "            return sns.heatmap(df2_skills2.corr(), center=0, cmap='coolwarm', annot=True, linewidths = 1)\n",
    "        "
   ]
  },
  {
   "cell_type": "markdown",
   "metadata": {
    "slideshow": {
     "slide_type": "slide"
    }
   },
   "source": [
    "## Skills 2"
   ]
  },
  {
   "cell_type": "markdown",
   "metadata": {
    "slideshow": {
     "slide_type": "subslide"
    }
   },
   "source": [
    "Football it is not only considered complicated but also quite skills-specific.\n",
    "\n",
    "As we all know, there are 11 players playing for each team at a time, divided into different positions in the field depending on their skills and the strategy of the team.\n",
    "\n",
    "We would like to analyze if the 5 skills of the players varies among the 3 position types we have determined (**Atacante, Medio and Defensa**)\n",
    "\n",
    "Moreover, we would like to define a model that given a set of skills will predict which category will the player belong to"
   ]
  },
  {
   "cell_type": "code",
   "execution_count": 28,
   "metadata": {
    "hide_input": false,
    "scrolled": true,
    "slideshow": {
     "slide_type": "subslide"
    }
   },
   "outputs": [
    {
     "data": {
      "application/vnd.plotly.v1+json": {
       "config": {
        "plotlyServerURL": "https://plot.ly"
       },
       "data": [
        {
         "dimensions": [
          {
           "axis": {
            "matches": true
           },
           "label": "Ritmo",
           "values": [
            75,
            65,
            78,
            83,
            79,
            79,
            70,
            91,
            92,
            84,
            63,
            94,
            69,
            68,
            81,
            64,
            78,
            85,
            76,
            81,
            78,
            73,
            81,
            74,
            89,
            68,
            76,
            74,
            88,
            71,
            78,
            83,
            69,
            80,
            65,
            63,
            77,
            48,
            75,
            70,
            75,
            88,
            84,
            69,
            69,
            91,
            82,
            71,
            78,
            76,
            92,
            65,
            67,
            76,
            92,
            81,
            65,
            80,
            73,
            71,
            62,
            77,
            72,
            76,
            72,
            78,
            74,
            65,
            79,
            76,
            83,
            51,
            71,
            70,
            92,
            80,
            74,
            74,
            67,
            82,
            75,
            81,
            76,
            79,
            67,
            72,
            85,
            79,
            56,
            78,
            77,
            89,
            69,
            59,
            81,
            80,
            71,
            82,
            77,
            76,
            74,
            83,
            75,
            91,
            94,
            78,
            75,
            75,
            76,
            84,
            81,
            76,
            78,
            80,
            54,
            67,
            85,
            69,
            75,
            68,
            67,
            75,
            91,
            76,
            89,
            74,
            75,
            79,
            81,
            81,
            78,
            67,
            71,
            74,
            76,
            79,
            78,
            83,
            71,
            73,
            79,
            93,
            73,
            87,
            78,
            85,
            67,
            74,
            78,
            79,
            76,
            75,
            74,
            78,
            76,
            52,
            63,
            71,
            82,
            82,
            66,
            92,
            73,
            78,
            59,
            81,
            80,
            84,
            90,
            77,
            69,
            73,
            68,
            65,
            66,
            84,
            73,
            76,
            75,
            82,
            79,
            66,
            84,
            77,
            77,
            73,
            76,
            69,
            94,
            91,
            75,
            69,
            92,
            77,
            70,
            85,
            79,
            88,
            80,
            60,
            79,
            78,
            80,
            83,
            79,
            75,
            63,
            78,
            91,
            94,
            74,
            70,
            83,
            77,
            70,
            88,
            80,
            83,
            93,
            92,
            52,
            92,
            80,
            80,
            89,
            76,
            73,
            78,
            72,
            57,
            87,
            73,
            94,
            76,
            77,
            56,
            89,
            84,
            83,
            92,
            73,
            78,
            88,
            71,
            78,
            74,
            77,
            94,
            59,
            85,
            76,
            73,
            82,
            82,
            80,
            92,
            92,
            66,
            77,
            79,
            92,
            80,
            70,
            79,
            86,
            73,
            70,
            88,
            72,
            74,
            73,
            82,
            62,
            69,
            78,
            80,
            78,
            78,
            74,
            85,
            89,
            76,
            96,
            93,
            79,
            68,
            85,
            83,
            77,
            84,
            86,
            91,
            84,
            86,
            82,
            81,
            82,
            88,
            88,
            76,
            83,
            81,
            74,
            81,
            84,
            84,
            89,
            91,
            83,
            74,
            76,
            76,
            68,
            82,
            75,
            71,
            88,
            85,
            80,
            46,
            81,
            76,
            90,
            91,
            76,
            93,
            96,
            70,
            77,
            81,
            83,
            85,
            88,
            89,
            84,
            80,
            77,
            75,
            91,
            78,
            88,
            93,
            87,
            92,
            90,
            78,
            91,
            92,
            90,
            81,
            83,
            91,
            77,
            82,
            81,
            74,
            73,
            82,
            88,
            85,
            81,
            81,
            76,
            79,
            80,
            75,
            58,
            78,
            90,
            88,
            92,
            77,
            80,
            78,
            85,
            70,
            86,
            92,
            95,
            90,
            96,
            84,
            89,
            82,
            75,
            85,
            81,
            83,
            85,
            91,
            85,
            88,
            88,
            78,
            81,
            89,
            79,
            90,
            92,
            80,
            81,
            78,
            84,
            77,
            79,
            62
           ]
          },
          {
           "axis": {
            "matches": true
           },
           "label": "Tiro",
           "values": [
            76,
            82,
            74,
            76,
            74,
            79,
            74,
            70,
            71,
            75,
            73,
            65,
            68,
            73,
            71,
            70,
            61,
            72,
            73,
            68,
            71,
            74,
            65,
            70,
            65,
            72,
            64,
            64,
            64,
            70,
            64,
            64,
            63,
            57,
            61,
            80,
            74,
            76,
            72,
            75,
            66,
            70,
            70,
            75,
            73,
            73,
            76,
            68,
            69,
            60,
            70,
            69,
            76,
            74,
            64,
            57,
            67,
            72,
            75,
            68,
            63,
            62,
            68,
            64,
            65,
            65,
            60,
            61,
            57,
            74,
            77,
            73,
            72,
            74,
            71,
            69,
            73,
            71,
            76,
            68,
            59,
            72,
            66,
            72,
            60,
            70,
            56,
            63,
            68,
            59,
            65,
            63,
            68,
            64,
            65,
            55,
            65,
            65,
            67,
            60,
            52,
            56,
            60,
            75,
            76,
            75,
            70,
            80,
            77,
            61,
            65,
            71,
            74,
            72,
            72,
            73,
            66,
            66,
            67,
            62,
            53,
            82,
            77,
            79,
            74,
            64,
            74,
            65,
            65,
            70,
            71,
            72,
            71,
            66,
            64,
            71,
            62,
            60,
            60,
            53,
            81,
            77,
            75,
            75,
            75,
            72,
            71,
            61,
            64,
            69,
            70,
            71,
            61,
            63,
            64,
            67,
            63,
            85,
            80,
            85,
            81,
            78,
            84,
            80,
            82,
            73,
            78,
            80,
            77,
            74,
            80,
            69,
            75,
            74,
            83,
            82,
            85,
            84,
            82,
            73,
            75,
            80,
            77,
            75,
            77,
            78,
            69,
            73,
            76,
            81,
            84,
            83,
            79,
            81,
            81,
            78,
            76,
            75,
            81,
            73,
            77,
            67,
            77,
            73,
            77,
            75,
            72,
            91,
            85,
            85,
            85,
            90,
            81,
            80,
            79,
            85,
            86,
            79,
            76,
            77,
            88,
            78,
            80,
            76,
            75,
            75,
            79,
            75,
            78,
            73,
            92,
            89,
            83,
            82,
            82,
            88,
            77,
            78,
            76,
            79,
            82,
            76,
            81,
            77,
            76,
            78,
            83,
            80,
            86,
            79,
            79,
            77,
            78,
            79,
            75,
            75,
            74,
            76,
            68,
            67,
            79,
            76,
            68,
            71,
            66,
            70,
            59,
            64,
            63,
            63,
            67,
            53,
            56,
            56,
            65,
            65,
            63,
            58,
            66,
            92,
            93,
            86,
            86,
            86,
            85,
            91,
            85,
            74,
            83,
            88,
            82,
            83,
            87,
            83,
            83,
            83,
            76,
            84,
            78,
            84,
            82,
            82,
            78,
            81,
            83,
            77,
            78,
            81,
            74,
            77,
            74,
            81,
            76,
            80,
            71,
            79,
            79,
            74,
            81,
            78,
            79,
            64,
            93,
            85,
            86,
            86,
            84,
            91,
            87,
            86,
            82,
            88,
            83,
            79,
            79,
            85,
            83,
            82,
            87,
            84,
            72,
            79,
            80,
            76,
            82,
            79,
            81,
            82,
            80,
            79,
            80,
            72,
            81,
            77,
            77,
            80,
            75,
            80,
            76,
            74,
            71,
            71,
            76,
            78,
            81,
            73,
            74,
            74,
            93,
            91,
            84,
            86,
            90,
            89,
            85,
            90,
            86,
            84,
            88,
            76,
            81,
            84,
            83,
            87,
            83,
            86,
            86,
            80,
            76,
            74,
            76,
            81,
            79,
            80,
            75,
            75,
            81,
            81,
            80,
            80,
            74,
            79,
            79,
            71,
            74,
            75
           ]
          },
          {
           "axis": {
            "matches": true
           },
           "label": "Pase",
           "values": [
            84,
            59,
            80,
            63,
            79,
            72,
            77,
            67,
            67,
            73,
            74,
            64,
            73,
            72,
            70,
            78,
            75,
            65,
            52,
            66,
            69,
            66,
            68,
            62,
            54,
            67,
            68,
            64,
            57,
            67,
            62,
            60,
            51,
            55,
            47,
            59,
            81,
            81,
            82,
            76,
            74,
            66,
            63,
            73,
            78,
            64,
            73,
            74,
            69,
            74,
            64,
            77,
            66,
            63,
            65,
            73,
            72,
            65,
            62,
            66,
            70,
            67,
            49,
            68,
            55,
            62,
            56,
            47,
            55,
            81,
            60,
            80,
            77,
            74,
            66,
            76,
            75,
            76,
            66,
            58,
            74,
            68,
            68,
            71,
            70,
            64,
            62,
            66,
            76,
            66,
            52,
            54,
            65,
            62,
            58,
            60,
            52,
            59,
            64,
            60,
            68,
            55,
            54,
            74,
            73,
            78,
            76,
            57,
            54,
            71,
            73,
            72,
            64,
            66,
            77,
            77,
            62,
            76,
            65,
            59,
            62,
            79,
            75,
            66,
            74,
            74,
            54,
            72,
            72,
            55,
            64,
            77,
            49,
            66,
            68,
            61,
            53,
            58,
            58,
            62,
            66,
            75,
            78,
            72,
            62,
            65,
            77,
            71,
            72,
            68,
            53,
            69,
            69,
            59,
            52,
            48,
            51,
            73,
            81,
            78,
            81,
            75,
            79,
            79,
            78,
            78,
            75,
            70,
            65,
            74,
            73,
            76,
            61,
            72,
            83,
            77,
            73,
            79,
            73,
            79,
            76,
            78,
            75,
            63,
            74,
            70,
            76,
            73,
            75,
            72,
            71,
            82,
            75,
            78,
            79,
            74,
            77,
            68,
            65,
            80,
            74,
            76,
            71,
            69,
            69,
            65,
            72,
            78,
            86,
            80,
            81,
            82,
            85,
            81,
            84,
            66,
            84,
            81,
            77,
            77,
            77,
            72,
            71,
            81,
            78,
            82,
            65,
            78,
            77,
            61,
            92,
            80,
            77,
            80,
            80,
            77,
            79,
            79,
            82,
            76,
            64,
            83,
            65,
            82,
            78,
            76,
            80,
            76,
            77,
            81,
            76,
            85,
            79,
            71,
            82,
            78,
            75,
            64,
            72,
            46,
            75,
            76,
            77,
            68,
            52,
            67,
            65,
            57,
            44,
            73,
            72,
            73,
            64,
            61,
            72,
            67,
            71,
            69,
            67,
            91,
            81,
            93,
            78,
            81,
            84,
            80,
            84,
            81,
            88,
            67,
            80,
            78,
            63,
            81,
            78,
            76,
            78,
            82,
            83,
            76,
            71,
            80,
            84,
            74,
            77,
            81,
            75,
            75,
            78,
            79,
            80,
            57,
            77,
            65,
            81,
            64,
            69,
            71,
            65,
            80,
            67,
            68,
            82,
            87,
            92,
            81,
            78,
            79,
            74,
            84,
            84,
            84,
            80,
            85,
            84,
            63,
            87,
            73,
            82,
            77,
            77,
            80,
            81,
            77,
            75,
            83,
            75,
            73,
            75,
            71,
            81,
            77,
            57,
            80,
            68,
            76,
            82,
            74,
            68,
            71,
            75,
            75,
            74,
            67,
            65,
            78,
            61,
            60,
            81,
            88,
            83,
            92,
            79,
            75,
            84,
            79,
            81,
            79,
            84,
            84,
            79,
            76,
            80,
            63,
            64,
            82,
            77,
            81,
            82,
            77,
            83,
            78,
            75,
            84,
            82,
            76,
            57,
            63,
            74,
            74,
            79,
            78,
            68,
            77,
            62,
            56
           ]
          },
          {
           "axis": {
            "matches": true
           },
           "label": "Regate",
           "values": [
            82,
            69,
            85,
            75,
            78,
            84,
            81,
            82,
            82,
            75,
            78,
            77,
            76,
            79,
            78,
            75,
            76,
            78,
            72,
            73,
            77,
            73,
            74,
            74,
            74,
            70,
            76,
            75,
            64,
            71,
            71,
            66,
            58,
            64,
            65,
            69,
            78,
            77,
            79,
            82,
            80,
            80,
            75,
            80,
            77,
            80,
            75,
            76,
            76,
            76,
            81,
            74,
            76,
            80,
            77,
            73,
            76,
            79,
            72,
            73,
            69,
            71,
            69,
            73,
            69,
            70,
            64,
            65,
            62,
            79,
            78,
            75,
            75,
            82,
            81,
            74,
            76,
            79,
            77,
            75,
            76,
            76,
            75,
            73,
            78,
            78,
            83,
            73,
            72,
            76,
            70,
            74,
            73,
            73,
            70,
            72,
            69,
            65,
            72,
            72,
            70,
            64,
            64,
            83,
            83,
            83,
            81,
            75,
            77,
            78,
            78,
            79,
            75,
            78,
            72,
            72,
            78,
            80,
            73,
            71,
            62,
            83,
            84,
            78,
            82,
            79,
            74,
            75,
            75,
            72,
            75,
            70,
            66,
            78,
            72,
            70,
            72,
            67,
            71,
            62,
            78,
            85,
            82,
            81,
            76,
            79,
            73,
            75,
            75,
            77,
            71,
            75,
            71,
            70,
            66,
            56,
            69,
            85,
            82,
            86,
            82,
            86,
            79,
            82,
            79,
            81,
            82,
            75,
            81,
            82,
            77,
            78,
            68,
            75,
            83,
            85,
            85,
            79,
            80,
            82,
            83,
            79,
            81,
            78,
            82,
            73,
            78,
            76,
            86,
            86,
            86,
            82,
            86,
            79,
            79,
            84,
            82,
            84,
            69,
            78,
            82,
            78,
            78,
            82,
            80,
            73,
            75,
            85,
            94,
            90,
            86,
            83,
            88,
            90,
            85,
            78,
            85,
            90,
            87,
            87,
            79,
            87,
            81,
            84,
            86,
            86,
            74,
            83,
            79,
            64,
            96,
            84,
            89,
            86,
            87,
            77,
            89,
            89,
            85,
            87,
            75,
            87,
            74,
            81,
            83,
            80,
            86,
            87,
            78,
            90,
            81,
            86,
            85,
            80,
            87,
            88,
            86,
            69,
            74,
            59,
            86,
            82,
            77,
            76,
            68,
            74,
            69,
            64,
            57,
            80,
            77,
            74,
            66,
            72,
            76,
            72,
            75,
            73,
            69,
            95,
            89,
            88,
            91,
            90,
            88,
            80,
            92,
            91,
            85,
            83,
            89,
            86,
            76,
            84,
            86,
            75,
            80,
            80,
            91,
            80,
            85,
            84,
            87,
            83,
            87,
            86,
            84,
            84,
            77,
            80,
            84,
            77,
            83,
            78,
            77,
            79,
            84,
            83,
            69,
            76,
            78,
            72,
            89,
            95,
            86,
            89,
            90,
            81,
            85,
            89,
            90,
            87,
            91,
            91,
            87,
            81,
            85,
            72,
            82,
            85,
            90,
            87,
            84,
            87,
            86,
            81,
            85,
            84,
            87,
            80,
            83,
            88,
            77,
            86,
            82,
            80,
            85,
            81,
            84,
            83,
            82,
            82,
            82,
            78,
            69,
            82,
            65,
            73,
            89,
            96,
            95,
            87,
            88,
            85,
            91,
            80,
            89,
            89,
            85,
            91,
            89,
            75,
            91,
            82,
            76,
            86,
            86,
            84,
            85,
            88,
            85,
            84,
            87,
            83,
            82,
            88,
            77,
            77,
            83,
            80,
            85,
            81,
            80,
            80,
            77,
            67
           ]
          },
          {
           "axis": {
            "matches": true
           },
           "label": "Defensa",
           "values": [
            54,
            39,
            69,
            38,
            62,
            32,
            41,
            32,
            36,
            35,
            49,
            32,
            62,
            54,
            38,
            44,
            27,
            35,
            26,
            36,
            54,
            36,
            62,
            32,
            38,
            36,
            50,
            44,
            44,
            38,
            35,
            34,
            26,
            21,
            20,
            39,
            62,
            65,
            39,
            41,
            41,
            32,
            38,
            55,
            61,
            29,
            34,
            46,
            32,
            68,
            36,
            47,
            36,
            28,
            32,
            27,
            49,
            31,
            20,
            36,
            60,
            32,
            26,
            37,
            21,
            35,
            27,
            20,
            21,
            62,
            37,
            61,
            58,
            41,
            29,
            35,
            39,
            35,
            36,
            37,
            69,
            56,
            32,
            34,
            41,
            31,
            31,
            30,
            47,
            36,
            27,
            23,
            35,
            46,
            32,
            32,
            21,
            25,
            35,
            39,
            37,
            20,
            20,
            49,
            33,
            30,
            56,
            41,
            34,
            55,
            42,
            42,
            29,
            36,
            52,
            60,
            28,
            38,
            42,
            26,
            47,
            39,
            33,
            45,
            49,
            55,
            34,
            72,
            42,
            35,
            28,
            56,
            25,
            42,
            50,
            36,
            22,
            37,
            26,
            47,
            45,
            33,
            38,
            43,
            28,
            26,
            48,
            55,
            42,
            44,
            33,
            38,
            69,
            49,
            32,
            25,
            22,
            30,
            41,
            35,
            45,
            47,
            41,
            36,
            59,
            58,
            35,
            33,
            29,
            30,
            50,
            49,
            34,
            46,
            45,
            39,
            30,
            41,
            50,
            58,
            30,
            59,
            35,
            43,
            37,
            33,
            47,
            46,
            25,
            44,
            30,
            46,
            47,
            41,
            59,
            39,
            30,
            27,
            34,
            40,
            38,
            41,
            46,
            44,
            33,
            30,
            29,
            43,
            36,
            44,
            40,
            51,
            48,
            61,
            39,
            55,
            45,
            38,
            29,
            36,
            34,
            43,
            31,
            59,
            55,
            33,
            48,
            56,
            61,
            32,
            39,
            51,
            44,
            39,
            61,
            34,
            55,
            38,
            59,
            42,
            49,
            33,
            55,
            38,
            55,
            61,
            61,
            42,
            34,
            37,
            32,
            38,
            52,
            31,
            33,
            56,
            42,
            37,
            37,
            24,
            47,
            48,
            35,
            54,
            22,
            38,
            37,
            44,
            23,
            37,
            44,
            27,
            37,
            42,
            49,
            52,
            49,
            49,
            44,
            38,
            35,
            64,
            39,
            45,
            57,
            47,
            43,
            37,
            68,
            39,
            35,
            45,
            43,
            32,
            43,
            38,
            34,
            58,
            36,
            46,
            48,
            41,
            73,
            40,
            39,
            52,
            33,
            36,
            77,
            48,
            46,
            41,
            50,
            28,
            72,
            43,
            27,
            44,
            34,
            60,
            27,
            37,
            35,
            32,
            61,
            45,
            39,
            47,
            41,
            57,
            43,
            45,
            35,
            35,
            48,
            39,
            65,
            35,
            58,
            35,
            36,
            36,
            32,
            29,
            43,
            51,
            33,
            45,
            39,
            31,
            41,
            66,
            41,
            47,
            40,
            57,
            66,
            40,
            27,
            44,
            65,
            65,
            29,
            27,
            34,
            35,
            32,
            29,
            35,
            32,
            32,
            60,
            52,
            41,
            28,
            47,
            50,
            45,
            58,
            36,
            39,
            35,
            34,
            39,
            49,
            44,
            35,
            42,
            47,
            66,
            59,
            33,
            41,
            62,
            46,
            36,
            41,
            54,
            40,
            56,
            39,
            61,
            27,
            27,
            43,
            36
           ]
          },
          {
           "axis": {
            "matches": true
           },
           "label": "Fisico",
           "values": [
            58,
            85,
            65,
            80,
            70,
            70,
            62,
            64,
            64,
            65,
            58,
            64,
            61,
            61,
            66,
            48,
            63,
            60,
            73,
            61,
            63,
            72,
            65,
            62,
            67,
            78,
            50,
            50,
            81,
            53,
            61,
            63,
            67,
            50,
            44,
            83,
            68,
            73,
            57,
            62,
            59,
            65,
            79,
            62,
            70,
            72,
            64,
            53,
            57,
            69,
            63,
            51,
            77,
            63,
            63,
            64,
            59,
            59,
            61,
            61,
            60,
            64,
            67,
            58,
            61,
            60,
            40,
            41,
            50,
            65,
            81,
            72,
            70,
            62,
            65,
            54,
            48,
            66,
            76,
            73,
            70,
            64,
            56,
            62,
            55,
            56,
            52,
            62,
            51,
            47,
            58,
            66,
            61,
            45,
            63,
            55,
            61,
            64,
            55,
            54,
            56,
            50,
            37,
            71,
            64,
            58,
            55,
            83,
            76,
            63,
            57,
            62,
            69,
            62,
            66,
            67,
            48,
            57,
            63,
            35,
            50,
            61,
            64,
            69,
            70,
            55,
            74,
            77,
            57,
            80,
            67,
            64,
            70,
            60,
            45,
            51,
            41,
            59,
            34,
            49,
            69,
            64,
            58,
            73,
            67,
            57,
            64,
            55,
            56,
            63,
            58,
            54,
            70,
            45,
            78,
            61,
            42,
            71,
            68,
            63,
            70,
            67,
            84,
            68,
            72,
            69,
            66,
            81,
            71,
            56,
            69,
            63,
            75,
            50,
            70,
            61,
            71,
            83,
            70,
            69,
            57,
            72,
            66,
            75,
            67,
            80,
            62,
            53,
            60,
            67,
            71,
            70,
            65,
            83,
            72,
            61,
            56,
            72,
            77,
            53,
            70,
            57,
            72,
            66,
            60,
            78,
            49,
            82,
            59,
            76,
            76,
            83,
            68,
            78,
            67,
            75,
            63,
            59,
            59,
            56,
            77,
            67,
            77,
            62,
            60,
            53,
            86,
            64,
            65,
            73,
            66,
            84,
            74,
            77,
            78,
            78,
            61,
            59,
            67,
            66,
            85,
            53,
            75,
            67,
            66,
            67,
            78,
            73,
            78,
            59,
            75,
            68,
            69,
            71,
            54,
            60,
            59,
            75,
            65,
            78,
            69,
            61,
            58,
            64,
            69,
            54,
            61,
            81,
            69,
            55,
            51,
            57,
            59,
            57,
            62,
            69,
            62,
            62,
            61,
            65,
            77,
            78,
            76,
            75,
            72,
            83,
            63,
            64,
            75,
            77,
            51,
            78,
            85,
            80,
            70,
            84,
            64,
            73,
            44,
            73,
            82,
            63,
            57,
            69,
            63,
            67,
            66,
            65,
            80,
            61,
            61,
            81,
            60,
            69,
            69,
            75,
            66,
            62,
            77,
            74,
            69,
            59,
            78,
            58,
            78,
            74,
            75,
            83,
            82,
            72,
            64,
            66,
            53,
            47,
            68,
            76,
            74,
            84,
            76,
            64,
            60,
            57,
            78,
            60,
            69,
            66,
            67,
            77,
            64,
            72,
            69,
            67,
            82,
            64,
            83,
            77,
            57,
            70,
            68,
            64,
            67,
            67,
            56,
            68,
            77,
            63,
            72,
            60,
            79,
            61,
            59,
            78,
            85,
            82,
            66,
            83,
            70,
            72,
            76,
            50,
            72,
            87,
            55,
            76,
            87,
            64,
            65,
            69,
            66,
            69,
            67,
            79,
            64,
            72,
            67,
            55,
            84,
            77,
            72,
            77,
            65,
            71,
            69,
            58,
            75,
            83
           ]
          }
         ],
         "hovertemplate": "TotalCombinado[GrupoPosicion]=Atacante<br>%{xaxis.title.text}=%{x}<br>%{yaxis.title.text}=%{y}<extra></extra>",
         "legendgroup": "Atacante",
         "marker": {
          "color": "#636efa",
          "symbol": "circle"
         },
         "name": "Atacante",
         "showlegend": true,
         "type": "splom"
        },
        {
         "dimensions": [
          {
           "axis": {
            "matches": true
           },
           "label": "Ritmo",
           "values": [
            79,
            79,
            68,
            61,
            65,
            69,
            76,
            67,
            53,
            63,
            79,
            68,
            62,
            69,
            58,
            62,
            86,
            71,
            67,
            63,
            63,
            69,
            71,
            58,
            68,
            75,
            64,
            69,
            66,
            63,
            73,
            68,
            61,
            68,
            68,
            70,
            69,
            71,
            71,
            70,
            63,
            63,
            58,
            77,
            68,
            60,
            67,
            69,
            67,
            66,
            70,
            64,
            70,
            61,
            68,
            73,
            59,
            64,
            69,
            73,
            83,
            78,
            75,
            64,
            67,
            55,
            70,
            67,
            75,
            71,
            69,
            64,
            71,
            69,
            64,
            50,
            69,
            66,
            78,
            66,
            66,
            73,
            52,
            41,
            67,
            73,
            70,
            61,
            64,
            65,
            54,
            73,
            64,
            68,
            69,
            74,
            71,
            54,
            64,
            71,
            62,
            65,
            77,
            58,
            65,
            73,
            42,
            74,
            62,
            53,
            76,
            62,
            55,
            64,
            67,
            68,
            56,
            61,
            61,
            72,
            72,
            71,
            54,
            42,
            64,
            80,
            74,
            65,
            63,
            64,
            78,
            80,
            66,
            61,
            64,
            72,
            78,
            70,
            67,
            80,
            80,
            57,
            58,
            71,
            75,
            55,
            66,
            56,
            42,
            45,
            69,
            65,
            79,
            67,
            81,
            66,
            62,
            76,
            63,
            70,
            74,
            72,
            74,
            50,
            67,
            43,
            65,
            73,
            47,
            68,
            83,
            67,
            53,
            82,
            82,
            73,
            75,
            70,
            55,
            77
           ]
          },
          {
           "axis": {
            "matches": true
           },
           "label": "Tiro",
           "values": [
            71,
            68,
            52,
            53,
            78,
            73,
            73,
            52,
            70,
            53,
            74,
            77,
            64,
            51,
            69,
            50,
            74,
            62,
            58,
            74,
            61,
            64,
            74,
            77,
            70,
            63,
            52,
            69,
            65,
            54,
            57,
            58,
            54,
            55,
            54,
            45,
            46,
            62,
            69,
            66,
            71,
            61,
            76,
            74,
            69,
            63,
            58,
            69,
            51,
            60,
            59,
            53,
            45,
            49,
            69,
            62,
            76,
            62,
            70,
            56,
            40,
            59,
            75,
            63,
            58,
            49,
            62,
            68,
            65,
            58,
            48,
            67,
            60,
            55,
            53,
            83,
            79,
            62,
            80,
            80,
            67,
            66,
            63,
            80,
            79,
            74,
            68,
            62,
            59,
            80,
            63,
            66,
            67,
            49,
            79,
            74,
            68,
            63,
            70,
            68,
            61,
            80,
            59,
            37,
            73,
            76,
            67,
            76,
            72,
            73,
            76,
            69,
            74,
            58,
            66,
            67,
            55,
            51,
            51,
            67,
            74,
            72,
            81,
            62,
            60,
            64,
            78,
            68,
            78,
            72,
            78,
            83,
            74,
            75,
            78,
            64,
            67,
            76,
            69,
            72,
            72,
            64,
            60,
            72,
            76,
            49,
            66,
            56,
            62,
            80,
            74,
            60,
            64,
            68,
            77,
            74,
            74,
            66,
            78,
            58,
            68,
            72,
            63,
            52,
            82,
            62,
            60,
            74,
            80,
            74,
            74,
            68,
            79,
            72,
            72,
            71,
            66,
            49,
            58,
            61
           ]
          },
          {
           "axis": {
            "matches": true
           },
           "label": "Pase",
           "values": [
            79,
            67,
            78,
            65,
            78,
            77,
            75,
            77,
            73,
            65,
            77,
            76,
            72,
            77,
            70,
            63,
            78,
            68,
            78,
            81,
            72,
            77,
            79,
            82,
            81,
            74,
            66,
            63,
            66,
            64,
            65,
            64,
            62,
            65,
            63,
            55,
            48,
            67,
            81,
            75,
            78,
            72,
            79,
            75,
            73,
            74,
            69,
            63,
            64,
            64,
            61,
            63,
            55,
            59,
            75,
            65,
            79,
            72,
            77,
            79,
            64,
            75,
            74,
            73,
            75,
            66,
            70,
            69,
            73,
            69,
            63,
            62,
            64,
            65,
            62,
            90,
            80,
            74,
            83,
            78,
            78,
            73,
            75,
            88,
            80,
            79,
            77,
            71,
            77,
            76,
            76,
            75,
            79,
            69,
            80,
            79,
            77,
            77,
            80,
            76,
            69,
            74,
            66,
            62,
            76,
            89,
            80,
            89,
            75,
            87,
            90,
            75,
            88,
            69,
            69,
            63,
            65,
            60,
            60,
            68,
            78,
            86,
            91,
            80,
            85,
            84,
            79,
            77,
            78,
            85,
            80,
            80,
            84,
            84,
            82,
            73,
            79,
            78,
            76,
            79,
            79,
            75,
            78,
            71,
            78,
            69,
            70,
            65,
            80,
            90,
            85,
            84,
            84,
            77,
            80,
            84,
            83,
            78,
            82,
            77,
            79,
            72,
            71,
            66,
            89,
            79,
            84,
            84,
            88,
            83,
            80,
            80,
            80,
            76,
            76,
            71,
            76,
            69,
            74,
            68
           ]
          },
          {
           "axis": {
            "matches": true
           },
           "label": "Regate",
           "values": [
            83,
            72,
            72,
            65,
            83,
            80,
            80,
            71,
            70,
            65,
            82,
            80,
            74,
            70,
            68,
            64,
            79,
            74,
            82,
            78,
            77,
            78,
            78,
            75,
            79,
            77,
            71,
            67,
            72,
            69,
            69,
            65,
            60,
            66,
            65,
            61,
            56,
            74,
            79,
            79,
            77,
            76,
            76,
            80,
            73,
            74,
            70,
            69,
            71,
            68,
            63,
            66,
            61,
            58,
            78,
            73,
            76,
            76,
            77,
            85,
            76,
            78,
            80,
            74,
            74,
            62,
            75,
            68,
            74,
            70,
            72,
            69,
            64,
            66,
            64,
            81,
            83,
            73,
            83,
            77,
            77,
            82,
            72,
            79,
            83,
            80,
            79,
            70,
            77,
            77,
            73,
            84,
            78,
            68,
            83,
            80,
            77,
            74,
            74,
            82,
            69,
            77,
            77,
            65,
            72,
            88,
            74,
            89,
            72,
            77,
            91,
            72,
            80,
            70,
            68,
            66,
            67,
            60,
            60,
            72,
            79,
            84,
            81,
            80,
            90,
            87,
            80,
            77,
            83,
            90,
            82,
            80,
            84,
            77,
            79,
            75,
            82,
            82,
            81,
            83,
            83,
            74,
            77,
            77,
            82,
            68,
            68,
            63,
            80,
            81,
            90,
            90,
            87,
            77,
            81,
            84,
            76,
            80,
            78,
            83,
            76,
            77,
            74,
            63,
            82,
            78,
            89,
            90,
            79,
            84,
            81,
            80,
            77,
            84,
            84,
            77,
            76,
            68,
            76,
            72
           ]
          },
          {
           "axis": {
            "matches": true
           },
           "label": "Defensa",
           "values": [
            75,
            69,
            70,
            58,
            74,
            71,
            74,
            70,
            52,
            58,
            75,
            74,
            68,
            70,
            52,
            58,
            77,
            87,
            72,
            74,
            75,
            74,
            66,
            66,
            67,
            69,
            69,
            66,
            54,
            59,
            54,
            58,
            51,
            46,
            58,
            61,
            41,
            83,
            66,
            64,
            71,
            74,
            67,
            69,
            66,
            75,
            67,
            66,
            66,
            51,
            58,
            46,
            61,
            40,
            76,
            83,
            67,
            75,
            71,
            66,
            71,
            67,
            69,
            74,
            64,
            75,
            60,
            62,
            54,
            67,
            67,
            66,
            59,
            46,
            42,
            71,
            79,
            82,
            65,
            73,
            75,
            64,
            74,
            70,
            77,
            77,
            81,
            81,
            68,
            70,
            76,
            64,
            75,
            78,
            77,
            77,
            80,
            77,
            70,
            63,
            79,
            71,
            70,
            79,
            86,
            71,
            59,
            72,
            85,
            60,
            70,
            87,
            60,
            66,
            72,
            68,
            56,
            54,
            53,
            69,
            77,
            81,
            71,
            83,
            79,
            76,
            83,
            82,
            74,
            70,
            77,
            65,
            72,
            71,
            69,
            76,
            74,
            77,
            64,
            67,
            67,
            77,
            72,
            77,
            53,
            77,
            73,
            77,
            85,
            70,
            69,
            79,
            76,
            82,
            75,
            72,
            70,
            74,
            68,
            71,
            72,
            78,
            74,
            77,
            74,
            85,
            79,
            67,
            71,
            69,
            77,
            75,
            68,
            67,
            67,
            78,
            72,
            77,
            67,
            69
           ]
          },
          {
           "axis": {
            "matches": true
           },
           "label": "Fisico",
           "values": [
            70,
            84,
            75,
            58,
            69,
            74,
            69,
            74,
            63,
            59,
            71,
            68,
            72,
            75,
            61,
            54,
            80,
            84,
            68,
            73,
            73,
            73,
            74,
            68,
            69,
            70,
            73,
            82,
            66,
            65,
            62,
            66,
            57,
            63,
            61,
            56,
            47,
            82,
            68,
            67,
            69,
            76,
            66,
            65,
            67,
            70,
            76,
            84,
            73,
            63,
            66,
            58,
            56,
            47,
            75,
            82,
            68,
            76,
            72,
            65,
            66,
            65,
            65,
            70,
            63,
            78,
            61,
            57,
            64,
            76,
            72,
            83,
            68,
            63,
            45,
            69,
            85,
            82,
            68,
            73,
            67,
            68,
            69,
            69,
            84,
            80,
            84,
            82,
            66,
            69,
            71,
            68,
            67,
            81,
            84,
            79,
            83,
            73,
            74,
            67,
            83,
            69,
            61,
            71,
            91,
            66,
            56,
            66,
            89,
            56,
            67,
            88,
            58,
            76,
            83,
            79,
            48,
            57,
            52,
            77,
            79,
            79,
            69,
            77,
            67,
            77,
            87,
            79,
            68,
            62,
            85,
            78,
            71,
            73,
            71,
            79,
            72,
            78,
            67,
            68,
            68,
            69,
            66,
            87,
            64,
            80,
            83,
            78,
            80,
            69,
            63,
            66,
            76,
            80,
            79,
            71,
            73,
            69,
            67,
            66,
            69,
            88,
            78,
            79,
            69,
            80,
            66,
            63,
            71,
            70,
            76,
            67,
            71,
            68,
            68,
            88,
            71,
            82,
            63,
            77
           ]
          }
         ],
         "hovertemplate": "TotalCombinado[GrupoPosicion]=Medio<br>%{xaxis.title.text}=%{x}<br>%{yaxis.title.text}=%{y}<extra></extra>",
         "legendgroup": "Medio",
         "marker": {
          "color": "#EF553B",
          "symbol": "circle"
         },
         "name": "Medio",
         "showlegend": true,
         "type": "splom"
        },
        {
         "dimensions": [
          {
           "axis": {
            "matches": true
           },
           "label": "Ritmo",
           "values": [
            84,
            44,
            62,
            62,
            85,
            53,
            70,
            73,
            60,
            51,
            75,
            72,
            62,
            84,
            45,
            55,
            64,
            51,
            51,
            86,
            57,
            62,
            66,
            76,
            69,
            76,
            47,
            59,
            86,
            52,
            78,
            54,
            54,
            58,
            68,
            86,
            78,
            77,
            51,
            80,
            80,
            81,
            73,
            79,
            71,
            69,
            72,
            64,
            70,
            67,
            70,
            64,
            54,
            68,
            60,
            53,
            77,
            70,
            62,
            79,
            87,
            84,
            46,
            76,
            76,
            70,
            82,
            79,
            70,
            82,
            73,
            78,
            70,
            63,
            61,
            62,
            52,
            68,
            79,
            69,
            43,
            83,
            79,
            77,
            73,
            71,
            71,
            82,
            73,
            61,
            54,
            63,
            68,
            50,
            78,
            66,
            68,
            67,
            67,
            78,
            81,
            69,
            53,
            55,
            38,
            78,
            56,
            74,
            71,
            82,
            63,
            71,
            59,
            58,
            73,
            59,
            88,
            52,
            75,
            62,
            76,
            83,
            71,
            63,
            40,
            81,
            75,
            67,
            58,
            62,
            59,
            70,
            79,
            45,
            65,
            60,
            55,
            71,
            62,
            51,
            81,
            83,
            66,
            64,
            48,
            64,
            61,
            60,
            71,
            82,
            72,
            85,
            68,
            53,
            61,
            64,
            58,
            51,
            38,
            76,
            76,
            60,
            69,
            63,
            75,
            58,
            81,
            51,
            74,
            63,
            76,
            71,
            62,
            68,
            58,
            75,
            67,
            74,
            70,
            76,
            80,
            82,
            88,
            72,
            62,
            78,
            86,
            73,
            61,
            65,
            89,
            77,
            72,
            49,
            65,
            73,
            77,
            32,
            68,
            34,
            51,
            45,
            90,
            72,
            67,
            83,
            90,
            70,
            80,
            78,
            68,
            72,
            50,
            52,
            62,
            36,
            64,
            64,
            69,
            74,
            78,
            74,
            71,
            40,
            79,
            70,
            47,
            65,
            93,
            84,
            76,
            73,
            73,
            74,
            69,
            47,
            75,
            65,
            73,
            68,
            64,
            69,
            80,
            80,
            64,
            75,
            40,
            71,
            47
           ]
          },
          {
           "axis": {
            "matches": true
           },
           "label": "Tiro",
           "values": [
            67,
            42,
            33,
            33,
            56,
            27,
            30,
            39,
            38,
            45,
            47,
            25,
            25,
            66,
            42,
            27,
            34,
            33,
            33,
            56,
            45,
            33,
            30,
            45,
            25,
            48,
            42,
            19,
            56,
            33,
            32,
            33,
            33,
            43,
            33,
            51,
            50,
            34,
            49,
            53,
            57,
            70,
            43,
            50,
            53,
            60,
            50,
            32,
            42,
            41,
            34,
            35,
            53,
            29,
            35,
            25,
            40,
            36,
            28,
            50,
            50,
            53,
            40,
            36,
            43,
            31,
            66,
            57,
            54,
            55,
            59,
            53,
            42,
            35,
            53,
            33,
            25,
            36,
            43,
            61,
            39,
            66,
            36,
            49,
            54,
            31,
            45,
            47,
            43,
            53,
            25,
            33,
            49,
            53,
            53,
            66,
            36,
            51,
            61,
            37,
            63,
            70,
            37,
            37,
            39,
            69,
            50,
            37,
            49,
            54,
            61,
            70,
            37,
            37,
            49,
            50,
            64,
            36,
            70,
            52,
            61,
            52,
            64,
            31,
            39,
            65,
            28,
            55,
            58,
            41,
            54,
            50,
            73,
            41,
            49,
            65,
            43,
            28,
            54,
            58,
            74,
            65,
            50,
            41,
            41,
            49,
            65,
            43,
            54,
            71,
            26,
            65,
            49,
            41,
            65,
            41,
            25,
            35,
            39,
            32,
            47,
            32,
            29,
            29,
            28,
            25,
            59,
            35,
            44,
            24,
            61,
            33,
            47,
            27,
            25,
            54,
            53,
            66,
            43,
            52,
            66,
            49,
            69,
            59,
            50,
            69,
            65,
            60,
            58,
            38,
            72,
            40,
            61,
            36,
            35,
            34,
            47,
            38,
            45,
            33,
            35,
            33,
            69,
            69,
            58,
            45,
            65,
            55,
            62,
            45,
            36,
            43,
            53,
            37,
            58,
            38,
            38,
            51,
            66,
            60,
            49,
            61,
            34,
            33,
            59,
            45,
            33,
            58,
            69,
            45,
            55,
            50,
            68,
            37,
            36,
            46,
            58,
            41,
            40,
            58,
            58,
            58,
            60,
            42,
            34,
            74,
            35,
            34,
            33
           ]
          },
          {
           "axis": {
            "matches": true
           },
           "label": "Pase",
           "values": [
            76,
            45,
            52,
            52,
            59,
            39,
            47,
            66,
            67,
            52,
            59,
            50,
            32,
            75,
            45,
            39,
            58,
            43,
            43,
            59,
            54,
            66,
            42,
            52,
            45,
            69,
            46,
            39,
            59,
            49,
            63,
            43,
            43,
            53,
            60,
            68,
            66,
            57,
            62,
            70,
            72,
            74,
            67,
            68,
            55,
            70,
            61,
            51,
            56,
            58,
            61,
            47,
            64,
            39,
            48,
            40,
            51,
            48,
            31,
            66,
            63,
            69,
            55,
            59,
            68,
            48,
            69,
            69,
            54,
            59,
            67,
            65,
            56,
            48,
            64,
            53,
            39,
            48,
            68,
            74,
            53,
            70,
            59,
            65,
            53,
            46,
            55,
            56,
            54,
            64,
            38,
            45,
            71,
            69,
            74,
            73,
            69,
            61,
            72,
            66,
            70,
            74,
            57,
            60,
            34,
            79,
            61,
            66,
            69,
            75,
            71,
            74,
            57,
            60,
            68,
            58,
            77,
            52,
            73,
            58,
            75,
            71,
            70,
            54,
            34,
            77,
            55,
            77,
            77,
            58,
            72,
            72,
            80,
            62,
            66,
            74,
            63,
            54,
            72,
            76,
            83,
            77,
            72,
            57,
            61,
            60,
            74,
            63,
            73,
            83,
            46,
            77,
            60,
            61,
            73,
            58,
            33,
            54,
            34,
            66,
            62,
            44,
            38,
            42,
            46,
            33,
            66,
            53,
            59,
            52,
            62,
            49,
            62,
            29,
            33,
            65,
            63,
            68,
            67,
            74,
            87,
            64,
            81,
            66,
            62,
            80,
            79,
            81,
            70,
            54,
            78,
            61,
            75,
            52,
            63,
            64,
            68,
            54,
            67,
            52,
            54,
            49,
            81,
            86,
            66,
            62,
            80,
            77,
            82,
            68,
            70,
            67,
            64,
            52,
            69,
            54,
            50,
            59,
            72,
            81,
            71,
            75,
            62,
            48,
            68,
            66,
            49,
            76,
            79,
            61,
            78,
            72,
            83,
            66,
            69,
            63,
            82,
            62,
            67,
            66,
            68,
            71,
            75,
            65,
            47,
            82,
            52,
            62,
            48
           ]
          },
          {
           "axis": {
            "matches": true
           },
           "label": "Regate",
           "values": [
            81,
            56,
            54,
            54,
            70,
            47,
            48,
            71,
            61,
            57,
            67,
            55,
            45,
            79,
            55,
            48,
            58,
            42,
            42,
            71,
            59,
            61,
            38,
            62,
            50,
            75,
            55,
            47,
            71,
            51,
            69,
            41,
            41,
            56,
            61,
            80,
            71,
            70,
            63,
            76,
            75,
            76,
            72,
            72,
            64,
            67,
            66,
            53,
            64,
            55,
            55,
            55,
            58,
            48,
            53,
            43,
            55,
            59,
            36,
            71,
            78,
            76,
            61,
            61,
            74,
            62,
            74,
            72,
            64,
            68,
            67,
            71,
            65,
            53,
            57,
            50,
            40,
            57,
            73,
            75,
            61,
            78,
            61,
            70,
            65,
            58,
            68,
            67,
            65,
            57,
            38,
            42,
            65,
            71,
            78,
            72,
            71,
            56,
            74,
            66,
            79,
            75,
            54,
            65,
            42,
            79,
            63,
            64,
            65,
            80,
            74,
            74,
            54,
            65,
            65,
            57,
            81,
            55,
            74,
            55,
            75,
            78,
            70,
            54,
            45,
            80,
            68,
            72,
            72,
            61,
            71,
            65,
            88,
            63,
            69,
            71,
            64,
            67,
            72,
            72,
            89,
            80,
            65,
            60,
            63,
            68,
            70,
            64,
            69,
            90,
            59,
            81,
            68,
            63,
            70,
            59,
            38,
            58,
            42,
            71,
            68,
            44,
            40,
            42,
            42,
            38,
            67,
            57,
            67,
            51,
            67,
            52,
            59,
            31,
            38,
            69,
            65,
            70,
            63,
            78,
            80,
            64,
            83,
            69,
            63,
            79,
            83,
            77,
            65,
            59,
            88,
            66,
            75,
            54,
            68,
            68,
            71,
            59,
            72,
            46,
            57,
            51,
            83,
            84,
            68,
            63,
            84,
            73,
            78,
            72,
            72,
            63,
            69,
            56,
            65,
            60,
            59,
            55,
            72,
            76,
            77,
            75,
            69,
            46,
            78,
            72,
            51,
            72,
            83,
            64,
            73,
            65,
            82,
            64,
            71,
            69,
            76,
            64,
            63,
            65,
            65,
            74,
            72,
            70,
            56,
            84,
            60,
            69,
            45
           ]
          },
          {
           "axis": {
            "matches": true
           },
           "label": "Defensa",
           "values": [
            75,
            79,
            78,
            78,
            70,
            74,
            68,
            63,
            65,
            66,
            61,
            60,
            51,
            72,
            77,
            76,
            74,
            76,
            76,
            70,
            65,
            65,
            63,
            60,
            58,
            74,
            76,
            76,
            70,
            69,
            65,
            70,
            70,
            64,
            62,
            82,
            81,
            81,
            79,
            74,
            73,
            71,
            75,
            70,
            75,
            72,
            73,
            74,
            70,
            68,
            67,
            69,
            67,
            67,
            67,
            67,
            60,
            60,
            58,
            81,
            80,
            75,
            78,
            75,
            76,
            78,
            71,
            70,
            72,
            69,
            68,
            67,
            70,
            64,
            67,
            63,
            63,
            57,
            76,
            76,
            77,
            74,
            74,
            73,
            73,
            74,
            70,
            69,
            68,
            67,
            62,
            62,
            84,
            82,
            80,
            81,
            82,
            80,
            80,
            80,
            75,
            78,
            79,
            78,
            71,
            80,
            86,
            81,
            83,
            80,
            80,
            78,
            78,
            78,
            83,
            85,
            77,
            79,
            77,
            76,
            74,
            76,
            76,
            78,
            77,
            81,
            89,
            84,
            89,
            86,
            86,
            82,
            76,
            86,
            81,
            79,
            80,
            89,
            87,
            89,
            77,
            82,
            84,
            84,
            86,
            84,
            82,
            82,
            88,
            81,
            88,
            82,
            88,
            86,
            82,
            83,
            50,
            74,
            75,
            65,
            63,
            64,
            61,
            59,
            58,
            48,
            66,
            70,
            69,
            70,
            62,
            62,
            62,
            57,
            47,
            66,
            68,
            67,
            82,
            77,
            80,
            87,
            78,
            85,
            86,
            80,
            77,
            79,
            85,
            83,
            72,
            79,
            76,
            81,
            80,
            80,
            80,
            79,
            75,
            76,
            73,
            69,
            79,
            79,
            83,
            85,
            78,
            85,
            78,
            83,
            84,
            82,
            81,
            82,
            82,
            81,
            81,
            78,
            80,
            78,
            76,
            77,
            78,
            78,
            74,
            74,
            69,
            90,
            79,
            86,
            87,
            85,
            77,
            81,
            83,
            81,
            79,
            82,
            81,
            80,
            82,
            80,
            73,
            78,
            77,
            71,
            77,
            78,
            71
           ]
          },
          {
           "axis": {
            "matches": true
           },
           "label": "Fisico",
           "values": [
            75,
            83,
            68,
            68,
            71,
            70,
            75,
            67,
            57,
            71,
            68,
            68,
            54,
            73,
            82,
            71,
            70,
            66,
            66,
            70,
            67,
            59,
            72,
            69,
            67,
            69,
            82,
            74,
            70,
            76,
            66,
            62,
            62,
            68,
            61,
            74,
            81,
            73,
            78,
            72,
            76,
            75,
            66,
            77,
            73,
            79,
            75,
            74,
            66,
            75,
            52,
            75,
            69,
            73,
            69,
            67,
            74,
            59,
            63,
            81,
            72,
            73,
            77,
            80,
            69,
            69,
            71,
            75,
            70,
            76,
            79,
            75,
            66,
            70,
            65,
            71,
            69,
            57,
            71,
            66,
            76,
            72,
            80,
            79,
            77,
            67,
            65,
            65,
            63,
            65,
            67,
            67,
            83,
            85,
            78,
            80,
            77,
            84,
            68,
            80,
            64,
            74,
            75,
            73,
            71,
            76,
            82,
            79,
            81,
            78,
            68,
            76,
            76,
            70,
            80,
            80,
            71,
            80,
            77,
            83,
            72,
            72,
            78,
            75,
            73,
            81,
            86,
            76,
            77,
            86,
            78,
            79,
            76,
            75,
            77,
            77,
            74,
            87,
            78,
            76,
            79,
            82,
            82,
            87,
            72,
            74,
            77,
            74,
            79,
            82,
            86,
            83,
            76,
            75,
            77,
            85,
            62,
            77,
            71,
            66,
            64,
            67,
            72,
            68,
            69,
            59,
            80,
            75,
            76,
            63,
            72,
            68,
            67,
            68,
            58,
            66,
            67,
            64,
            80,
            75,
            71,
            82,
            72,
            84,
            83,
            76,
            70,
            72,
            78,
            84,
            64,
            81,
            73,
            80,
            75,
            76,
            76,
            76,
            73,
            78,
            77,
            76,
            73,
            78,
            84,
            80,
            71,
            76,
            70,
            80,
            77,
            78,
            84,
            80,
            77,
            76,
            83,
            83,
            80,
            72,
            75,
            73,
            75,
            79,
            62,
            70,
            76,
            76,
            72,
            80,
            77,
            83,
            73,
            79,
            78,
            82,
            72,
            75,
            77,
            82,
            76,
            70,
            69,
            77,
            81,
            59,
            69,
            75,
            78
           ]
          }
         ],
         "hovertemplate": "TotalCombinado[GrupoPosicion]=Defensa<br>%{xaxis.title.text}=%{x}<br>%{yaxis.title.text}=%{y}<extra></extra>",
         "legendgroup": "Defensa",
         "marker": {
          "color": "#00cc96",
          "symbol": "circle"
         },
         "name": "Defensa",
         "showlegend": true,
         "type": "splom"
        },
        {
         "dimensions": [
          {
           "axis": {
            "matches": true
           },
           "label": "Ritmo",
           "values": [
            null,
            null,
            null,
            null,
            null,
            null,
            null,
            null,
            null,
            null,
            null,
            null,
            null,
            null,
            null,
            null,
            null,
            null,
            null,
            null,
            null,
            null,
            null,
            null,
            null,
            null,
            null,
            null,
            null,
            null,
            null,
            null,
            null,
            null,
            null,
            null,
            null,
            null,
            null,
            null,
            null,
            null,
            null,
            null,
            null,
            null,
            null,
            null,
            null,
            null,
            null,
            null,
            null,
            null,
            null,
            null,
            null
           ]
          },
          {
           "axis": {
            "matches": true
           },
           "label": "Tiro",
           "values": [
            null,
            null,
            null,
            null,
            null,
            null,
            null,
            null,
            null,
            null,
            null,
            null,
            null,
            null,
            null,
            null,
            null,
            null,
            null,
            null,
            null,
            null,
            null,
            null,
            null,
            null,
            null,
            null,
            null,
            null,
            null,
            null,
            null,
            null,
            null,
            null,
            null,
            null,
            null,
            null,
            null,
            null,
            null,
            null,
            null,
            null,
            null,
            null,
            null,
            null,
            null,
            null,
            null,
            null,
            null,
            null,
            null
           ]
          },
          {
           "axis": {
            "matches": true
           },
           "label": "Pase",
           "values": [
            null,
            null,
            null,
            null,
            null,
            null,
            null,
            null,
            null,
            null,
            null,
            null,
            null,
            null,
            null,
            null,
            null,
            null,
            null,
            null,
            null,
            null,
            null,
            null,
            null,
            null,
            null,
            null,
            null,
            null,
            null,
            null,
            null,
            null,
            null,
            null,
            null,
            null,
            null,
            null,
            null,
            null,
            null,
            null,
            null,
            null,
            null,
            null,
            null,
            null,
            null,
            null,
            null,
            null,
            null,
            null,
            null
           ]
          },
          {
           "axis": {
            "matches": true
           },
           "label": "Regate",
           "values": [
            null,
            null,
            null,
            null,
            null,
            null,
            null,
            null,
            null,
            null,
            null,
            null,
            null,
            null,
            null,
            null,
            null,
            null,
            null,
            null,
            null,
            null,
            null,
            null,
            null,
            null,
            null,
            null,
            null,
            null,
            null,
            null,
            null,
            null,
            null,
            null,
            null,
            null,
            null,
            null,
            null,
            null,
            null,
            null,
            null,
            null,
            null,
            null,
            null,
            null,
            null,
            null,
            null,
            null,
            null,
            null,
            null
           ]
          },
          {
           "axis": {
            "matches": true
           },
           "label": "Defensa",
           "values": [
            null,
            null,
            null,
            null,
            null,
            null,
            null,
            null,
            null,
            null,
            null,
            null,
            null,
            null,
            null,
            null,
            null,
            null,
            null,
            null,
            null,
            null,
            null,
            null,
            null,
            null,
            null,
            null,
            null,
            null,
            null,
            null,
            null,
            null,
            null,
            null,
            null,
            null,
            null,
            null,
            null,
            null,
            null,
            null,
            null,
            null,
            null,
            null,
            null,
            null,
            null,
            null,
            null,
            null,
            null,
            null,
            null
           ]
          },
          {
           "axis": {
            "matches": true
           },
           "label": "Fisico",
           "values": [
            null,
            null,
            null,
            null,
            null,
            null,
            null,
            null,
            null,
            null,
            null,
            null,
            null,
            null,
            null,
            null,
            null,
            null,
            null,
            null,
            null,
            null,
            null,
            null,
            null,
            null,
            null,
            null,
            null,
            null,
            null,
            null,
            null,
            null,
            null,
            null,
            null,
            null,
            null,
            null,
            null,
            null,
            null,
            null,
            null,
            null,
            null,
            null,
            null,
            null,
            null,
            null,
            null,
            null,
            null,
            null,
            null
           ]
          }
         ],
         "hovertemplate": "TotalCombinado[GrupoPosicion]=Portero<br>%{xaxis.title.text}=%{x}<br>%{yaxis.title.text}=%{y}<extra></extra>",
         "legendgroup": "Portero",
         "marker": {
          "color": "#ab63fa",
          "symbol": "circle"
         },
         "name": "Portero",
         "showlegend": true,
         "type": "splom"
        }
       ],
       "layout": {
        "dragmode": "select",
        "height": 900,
        "legend": {
         "title": {
          "text": "TotalCombinado[GrupoPosicion]"
         },
         "tracegroupgap": 0
        },
        "margin": {
         "t": 60
        },
        "template": {
         "data": {
          "bar": [
           {
            "error_x": {
             "color": "#2a3f5f"
            },
            "error_y": {
             "color": "#2a3f5f"
            },
            "marker": {
             "line": {
              "color": "#E5ECF6",
              "width": 0.5
             }
            },
            "type": "bar"
           }
          ],
          "barpolar": [
           {
            "marker": {
             "line": {
              "color": "#E5ECF6",
              "width": 0.5
             }
            },
            "type": "barpolar"
           }
          ],
          "carpet": [
           {
            "aaxis": {
             "endlinecolor": "#2a3f5f",
             "gridcolor": "white",
             "linecolor": "white",
             "minorgridcolor": "white",
             "startlinecolor": "#2a3f5f"
            },
            "baxis": {
             "endlinecolor": "#2a3f5f",
             "gridcolor": "white",
             "linecolor": "white",
             "minorgridcolor": "white",
             "startlinecolor": "#2a3f5f"
            },
            "type": "carpet"
           }
          ],
          "choropleth": [
           {
            "colorbar": {
             "outlinewidth": 0,
             "ticks": ""
            },
            "type": "choropleth"
           }
          ],
          "contour": [
           {
            "colorbar": {
             "outlinewidth": 0,
             "ticks": ""
            },
            "colorscale": [
             [
              0,
              "#0d0887"
             ],
             [
              0.1111111111111111,
              "#46039f"
             ],
             [
              0.2222222222222222,
              "#7201a8"
             ],
             [
              0.3333333333333333,
              "#9c179e"
             ],
             [
              0.4444444444444444,
              "#bd3786"
             ],
             [
              0.5555555555555556,
              "#d8576b"
             ],
             [
              0.6666666666666666,
              "#ed7953"
             ],
             [
              0.7777777777777778,
              "#fb9f3a"
             ],
             [
              0.8888888888888888,
              "#fdca26"
             ],
             [
              1,
              "#f0f921"
             ]
            ],
            "type": "contour"
           }
          ],
          "contourcarpet": [
           {
            "colorbar": {
             "outlinewidth": 0,
             "ticks": ""
            },
            "type": "contourcarpet"
           }
          ],
          "heatmap": [
           {
            "colorbar": {
             "outlinewidth": 0,
             "ticks": ""
            },
            "colorscale": [
             [
              0,
              "#0d0887"
             ],
             [
              0.1111111111111111,
              "#46039f"
             ],
             [
              0.2222222222222222,
              "#7201a8"
             ],
             [
              0.3333333333333333,
              "#9c179e"
             ],
             [
              0.4444444444444444,
              "#bd3786"
             ],
             [
              0.5555555555555556,
              "#d8576b"
             ],
             [
              0.6666666666666666,
              "#ed7953"
             ],
             [
              0.7777777777777778,
              "#fb9f3a"
             ],
             [
              0.8888888888888888,
              "#fdca26"
             ],
             [
              1,
              "#f0f921"
             ]
            ],
            "type": "heatmap"
           }
          ],
          "heatmapgl": [
           {
            "colorbar": {
             "outlinewidth": 0,
             "ticks": ""
            },
            "colorscale": [
             [
              0,
              "#0d0887"
             ],
             [
              0.1111111111111111,
              "#46039f"
             ],
             [
              0.2222222222222222,
              "#7201a8"
             ],
             [
              0.3333333333333333,
              "#9c179e"
             ],
             [
              0.4444444444444444,
              "#bd3786"
             ],
             [
              0.5555555555555556,
              "#d8576b"
             ],
             [
              0.6666666666666666,
              "#ed7953"
             ],
             [
              0.7777777777777778,
              "#fb9f3a"
             ],
             [
              0.8888888888888888,
              "#fdca26"
             ],
             [
              1,
              "#f0f921"
             ]
            ],
            "type": "heatmapgl"
           }
          ],
          "histogram": [
           {
            "marker": {
             "colorbar": {
              "outlinewidth": 0,
              "ticks": ""
             }
            },
            "type": "histogram"
           }
          ],
          "histogram2d": [
           {
            "colorbar": {
             "outlinewidth": 0,
             "ticks": ""
            },
            "colorscale": [
             [
              0,
              "#0d0887"
             ],
             [
              0.1111111111111111,
              "#46039f"
             ],
             [
              0.2222222222222222,
              "#7201a8"
             ],
             [
              0.3333333333333333,
              "#9c179e"
             ],
             [
              0.4444444444444444,
              "#bd3786"
             ],
             [
              0.5555555555555556,
              "#d8576b"
             ],
             [
              0.6666666666666666,
              "#ed7953"
             ],
             [
              0.7777777777777778,
              "#fb9f3a"
             ],
             [
              0.8888888888888888,
              "#fdca26"
             ],
             [
              1,
              "#f0f921"
             ]
            ],
            "type": "histogram2d"
           }
          ],
          "histogram2dcontour": [
           {
            "colorbar": {
             "outlinewidth": 0,
             "ticks": ""
            },
            "colorscale": [
             [
              0,
              "#0d0887"
             ],
             [
              0.1111111111111111,
              "#46039f"
             ],
             [
              0.2222222222222222,
              "#7201a8"
             ],
             [
              0.3333333333333333,
              "#9c179e"
             ],
             [
              0.4444444444444444,
              "#bd3786"
             ],
             [
              0.5555555555555556,
              "#d8576b"
             ],
             [
              0.6666666666666666,
              "#ed7953"
             ],
             [
              0.7777777777777778,
              "#fb9f3a"
             ],
             [
              0.8888888888888888,
              "#fdca26"
             ],
             [
              1,
              "#f0f921"
             ]
            ],
            "type": "histogram2dcontour"
           }
          ],
          "mesh3d": [
           {
            "colorbar": {
             "outlinewidth": 0,
             "ticks": ""
            },
            "type": "mesh3d"
           }
          ],
          "parcoords": [
           {
            "line": {
             "colorbar": {
              "outlinewidth": 0,
              "ticks": ""
             }
            },
            "type": "parcoords"
           }
          ],
          "pie": [
           {
            "automargin": true,
            "type": "pie"
           }
          ],
          "scatter": [
           {
            "marker": {
             "colorbar": {
              "outlinewidth": 0,
              "ticks": ""
             }
            },
            "type": "scatter"
           }
          ],
          "scatter3d": [
           {
            "line": {
             "colorbar": {
              "outlinewidth": 0,
              "ticks": ""
             }
            },
            "marker": {
             "colorbar": {
              "outlinewidth": 0,
              "ticks": ""
             }
            },
            "type": "scatter3d"
           }
          ],
          "scattercarpet": [
           {
            "marker": {
             "colorbar": {
              "outlinewidth": 0,
              "ticks": ""
             }
            },
            "type": "scattercarpet"
           }
          ],
          "scattergeo": [
           {
            "marker": {
             "colorbar": {
              "outlinewidth": 0,
              "ticks": ""
             }
            },
            "type": "scattergeo"
           }
          ],
          "scattergl": [
           {
            "marker": {
             "colorbar": {
              "outlinewidth": 0,
              "ticks": ""
             }
            },
            "type": "scattergl"
           }
          ],
          "scattermapbox": [
           {
            "marker": {
             "colorbar": {
              "outlinewidth": 0,
              "ticks": ""
             }
            },
            "type": "scattermapbox"
           }
          ],
          "scatterpolar": [
           {
            "marker": {
             "colorbar": {
              "outlinewidth": 0,
              "ticks": ""
             }
            },
            "type": "scatterpolar"
           }
          ],
          "scatterpolargl": [
           {
            "marker": {
             "colorbar": {
              "outlinewidth": 0,
              "ticks": ""
             }
            },
            "type": "scatterpolargl"
           }
          ],
          "scatterternary": [
           {
            "marker": {
             "colorbar": {
              "outlinewidth": 0,
              "ticks": ""
             }
            },
            "type": "scatterternary"
           }
          ],
          "surface": [
           {
            "colorbar": {
             "outlinewidth": 0,
             "ticks": ""
            },
            "colorscale": [
             [
              0,
              "#0d0887"
             ],
             [
              0.1111111111111111,
              "#46039f"
             ],
             [
              0.2222222222222222,
              "#7201a8"
             ],
             [
              0.3333333333333333,
              "#9c179e"
             ],
             [
              0.4444444444444444,
              "#bd3786"
             ],
             [
              0.5555555555555556,
              "#d8576b"
             ],
             [
              0.6666666666666666,
              "#ed7953"
             ],
             [
              0.7777777777777778,
              "#fb9f3a"
             ],
             [
              0.8888888888888888,
              "#fdca26"
             ],
             [
              1,
              "#f0f921"
             ]
            ],
            "type": "surface"
           }
          ],
          "table": [
           {
            "cells": {
             "fill": {
              "color": "#EBF0F8"
             },
             "line": {
              "color": "white"
             }
            },
            "header": {
             "fill": {
              "color": "#C8D4E3"
             },
             "line": {
              "color": "white"
             }
            },
            "type": "table"
           }
          ]
         },
         "layout": {
          "annotationdefaults": {
           "arrowcolor": "#2a3f5f",
           "arrowhead": 0,
           "arrowwidth": 1
          },
          "autotypenumbers": "strict",
          "coloraxis": {
           "colorbar": {
            "outlinewidth": 0,
            "ticks": ""
           }
          },
          "colorscale": {
           "diverging": [
            [
             0,
             "#8e0152"
            ],
            [
             0.1,
             "#c51b7d"
            ],
            [
             0.2,
             "#de77ae"
            ],
            [
             0.3,
             "#f1b6da"
            ],
            [
             0.4,
             "#fde0ef"
            ],
            [
             0.5,
             "#f7f7f7"
            ],
            [
             0.6,
             "#e6f5d0"
            ],
            [
             0.7,
             "#b8e186"
            ],
            [
             0.8,
             "#7fbc41"
            ],
            [
             0.9,
             "#4d9221"
            ],
            [
             1,
             "#276419"
            ]
           ],
           "sequential": [
            [
             0,
             "#0d0887"
            ],
            [
             0.1111111111111111,
             "#46039f"
            ],
            [
             0.2222222222222222,
             "#7201a8"
            ],
            [
             0.3333333333333333,
             "#9c179e"
            ],
            [
             0.4444444444444444,
             "#bd3786"
            ],
            [
             0.5555555555555556,
             "#d8576b"
            ],
            [
             0.6666666666666666,
             "#ed7953"
            ],
            [
             0.7777777777777778,
             "#fb9f3a"
            ],
            [
             0.8888888888888888,
             "#fdca26"
            ],
            [
             1,
             "#f0f921"
            ]
           ],
           "sequentialminus": [
            [
             0,
             "#0d0887"
            ],
            [
             0.1111111111111111,
             "#46039f"
            ],
            [
             0.2222222222222222,
             "#7201a8"
            ],
            [
             0.3333333333333333,
             "#9c179e"
            ],
            [
             0.4444444444444444,
             "#bd3786"
            ],
            [
             0.5555555555555556,
             "#d8576b"
            ],
            [
             0.6666666666666666,
             "#ed7953"
            ],
            [
             0.7777777777777778,
             "#fb9f3a"
            ],
            [
             0.8888888888888888,
             "#fdca26"
            ],
            [
             1,
             "#f0f921"
            ]
           ]
          },
          "colorway": [
           "#636efa",
           "#EF553B",
           "#00cc96",
           "#ab63fa",
           "#FFA15A",
           "#19d3f3",
           "#FF6692",
           "#B6E880",
           "#FF97FF",
           "#FECB52"
          ],
          "font": {
           "color": "#2a3f5f"
          },
          "geo": {
           "bgcolor": "white",
           "lakecolor": "white",
           "landcolor": "#E5ECF6",
           "showlakes": true,
           "showland": true,
           "subunitcolor": "white"
          },
          "hoverlabel": {
           "align": "left"
          },
          "hovermode": "closest",
          "mapbox": {
           "style": "light"
          },
          "paper_bgcolor": "white",
          "plot_bgcolor": "#E5ECF6",
          "polar": {
           "angularaxis": {
            "gridcolor": "white",
            "linecolor": "white",
            "ticks": ""
           },
           "bgcolor": "#E5ECF6",
           "radialaxis": {
            "gridcolor": "white",
            "linecolor": "white",
            "ticks": ""
           }
          },
          "scene": {
           "xaxis": {
            "backgroundcolor": "#E5ECF6",
            "gridcolor": "white",
            "gridwidth": 2,
            "linecolor": "white",
            "showbackground": true,
            "ticks": "",
            "zerolinecolor": "white"
           },
           "yaxis": {
            "backgroundcolor": "#E5ECF6",
            "gridcolor": "white",
            "gridwidth": 2,
            "linecolor": "white",
            "showbackground": true,
            "ticks": "",
            "zerolinecolor": "white"
           },
           "zaxis": {
            "backgroundcolor": "#E5ECF6",
            "gridcolor": "white",
            "gridwidth": 2,
            "linecolor": "white",
            "showbackground": true,
            "ticks": "",
            "zerolinecolor": "white"
           }
          },
          "shapedefaults": {
           "line": {
            "color": "#2a3f5f"
           }
          },
          "ternary": {
           "aaxis": {
            "gridcolor": "white",
            "linecolor": "white",
            "ticks": ""
           },
           "baxis": {
            "gridcolor": "white",
            "linecolor": "white",
            "ticks": ""
           },
           "bgcolor": "#E5ECF6",
           "caxis": {
            "gridcolor": "white",
            "linecolor": "white",
            "ticks": ""
           }
          },
          "title": {
           "x": 0.05
          },
          "xaxis": {
           "automargin": true,
           "gridcolor": "white",
           "linecolor": "white",
           "ticks": "",
           "title": {
            "standoff": 15
           },
           "zerolinecolor": "white",
           "zerolinewidth": 2
          },
          "yaxis": {
           "automargin": true,
           "gridcolor": "white",
           "linecolor": "white",
           "ticks": "",
           "title": {
            "standoff": 15
           },
           "zerolinecolor": "white",
           "zerolinewidth": 2
          }
         }
        },
        "width": 1200
       }
      },
      "text/html": [
       "<div>                            <div id=\"679aebee-53f4-4d9a-9457-317baffcccea\" class=\"plotly-graph-div\" style=\"height:900px; width:1200px;\"></div>            <script type=\"text/javascript\">                require([\"plotly\"], function(Plotly) {                    window.PLOTLYENV=window.PLOTLYENV || {};                                    if (document.getElementById(\"679aebee-53f4-4d9a-9457-317baffcccea\")) {                    Plotly.newPlot(                        \"679aebee-53f4-4d9a-9457-317baffcccea\",                        [{\"dimensions\": [{\"axis\": {\"matches\": true}, \"label\": \"Ritmo\", \"values\": [75.0, 65.0, 78.0, 83.0, 79.0, 79.0, 70.0, 91.0, 92.0, 84.0, 63.0, 94.0, 69.0, 68.0, 81.0, 64.0, 78.0, 85.0, 76.0, 81.0, 78.0, 73.0, 81.0, 74.0, 89.0, 68.0, 76.0, 74.0, 88.0, 71.0, 78.0, 83.0, 69.0, 80.0, 65.0, 63.0, 77.0, 48.0, 75.0, 70.0, 75.0, 88.0, 84.0, 69.0, 69.0, 91.0, 82.0, 71.0, 78.0, 76.0, 92.0, 65.0, 67.0, 76.0, 92.0, 81.0, 65.0, 80.0, 73.0, 71.0, 62.0, 77.0, 72.0, 76.0, 72.0, 78.0, 74.0, 65.0, 79.0, 76.0, 83.0, 51.0, 71.0, 70.0, 92.0, 80.0, 74.0, 74.0, 67.0, 82.0, 75.0, 81.0, 76.0, 79.0, 67.0, 72.0, 85.0, 79.0, 56.0, 78.0, 77.0, 89.0, 69.0, 59.0, 81.0, 80.0, 71.0, 82.0, 77.0, 76.0, 74.0, 83.0, 75.0, 91.0, 94.0, 78.0, 75.0, 75.0, 76.0, 84.0, 81.0, 76.0, 78.0, 80.0, 54.0, 67.0, 85.0, 69.0, 75.0, 68.0, 67.0, 75.0, 91.0, 76.0, 89.0, 74.0, 75.0, 79.0, 81.0, 81.0, 78.0, 67.0, 71.0, 74.0, 76.0, 79.0, 78.0, 83.0, 71.0, 73.0, 79.0, 93.0, 73.0, 87.0, 78.0, 85.0, 67.0, 74.0, 78.0, 79.0, 76.0, 75.0, 74.0, 78.0, 76.0, 52.0, 63.0, 71.0, 82.0, 82.0, 66.0, 92.0, 73.0, 78.0, 59.0, 81.0, 80.0, 84.0, 90.0, 77.0, 69.0, 73.0, 68.0, 65.0, 66.0, 84.0, 73.0, 76.0, 75.0, 82.0, 79.0, 66.0, 84.0, 77.0, 77.0, 73.0, 76.0, 69.0, 94.0, 91.0, 75.0, 69.0, 92.0, 77.0, 70.0, 85.0, 79.0, 88.0, 80.0, 60.0, 79.0, 78.0, 80.0, 83.0, 79.0, 75.0, 63.0, 78.0, 91.0, 94.0, 74.0, 70.0, 83.0, 77.0, 70.0, 88.0, 80.0, 83.0, 93.0, 92.0, 52.0, 92.0, 80.0, 80.0, 89.0, 76.0, 73.0, 78.0, 72.0, 57.0, 87.0, 73.0, 94.0, 76.0, 77.0, 56.0, 89.0, 84.0, 83.0, 92.0, 73.0, 78.0, 88.0, 71.0, 78.0, 74.0, 77.0, 94.0, 59.0, 85.0, 76.0, 73.0, 82.0, 82.0, 80.0, 92.0, 92.0, 66.0, 77.0, 79.0, 92.0, 80.0, 70.0, 79.0, 86.0, 73.0, 70.0, 88.0, 72.0, 74.0, 73.0, 82.0, 62.0, 69.0, 78.0, 80.0, 78.0, 78.0, 74.0, 85.0, 89.0, 76.0, 96.0, 93.0, 79.0, 68.0, 85.0, 83.0, 77.0, 84.0, 86.0, 91.0, 84.0, 86.0, 82.0, 81.0, 82.0, 88.0, 88.0, 76.0, 83.0, 81.0, 74.0, 81.0, 84.0, 84.0, 89.0, 91.0, 83.0, 74.0, 76.0, 76.0, 68.0, 82.0, 75.0, 71.0, 88.0, 85.0, 80.0, 46.0, 81.0, 76.0, 90.0, 91.0, 76.0, 93.0, 96.0, 70.0, 77.0, 81.0, 83.0, 85.0, 88.0, 89.0, 84.0, 80.0, 77.0, 75.0, 91.0, 78.0, 88.0, 93.0, 87.0, 92.0, 90.0, 78.0, 91.0, 92.0, 90.0, 81.0, 83.0, 91.0, 77.0, 82.0, 81.0, 74.0, 73.0, 82.0, 88.0, 85.0, 81.0, 81.0, 76.0, 79.0, 80.0, 75.0, 58.0, 78.0, 90.0, 88.0, 92.0, 77.0, 80.0, 78.0, 85.0, 70.0, 86.0, 92.0, 95.0, 90.0, 96.0, 84.0, 89.0, 82.0, 75.0, 85.0, 81.0, 83.0, 85.0, 91.0, 85.0, 88.0, 88.0, 78.0, 81.0, 89.0, 79.0, 90.0, 92.0, 80.0, 81.0, 78.0, 84.0, 77.0, 79.0, 62.0]}, {\"axis\": {\"matches\": true}, \"label\": \"Tiro\", \"values\": [76.0, 82.0, 74.0, 76.0, 74.0, 79.0, 74.0, 70.0, 71.0, 75.0, 73.0, 65.0, 68.0, 73.0, 71.0, 70.0, 61.0, 72.0, 73.0, 68.0, 71.0, 74.0, 65.0, 70.0, 65.0, 72.0, 64.0, 64.0, 64.0, 70.0, 64.0, 64.0, 63.0, 57.0, 61.0, 80.0, 74.0, 76.0, 72.0, 75.0, 66.0, 70.0, 70.0, 75.0, 73.0, 73.0, 76.0, 68.0, 69.0, 60.0, 70.0, 69.0, 76.0, 74.0, 64.0, 57.0, 67.0, 72.0, 75.0, 68.0, 63.0, 62.0, 68.0, 64.0, 65.0, 65.0, 60.0, 61.0, 57.0, 74.0, 77.0, 73.0, 72.0, 74.0, 71.0, 69.0, 73.0, 71.0, 76.0, 68.0, 59.0, 72.0, 66.0, 72.0, 60.0, 70.0, 56.0, 63.0, 68.0, 59.0, 65.0, 63.0, 68.0, 64.0, 65.0, 55.0, 65.0, 65.0, 67.0, 60.0, 52.0, 56.0, 60.0, 75.0, 76.0, 75.0, 70.0, 80.0, 77.0, 61.0, 65.0, 71.0, 74.0, 72.0, 72.0, 73.0, 66.0, 66.0, 67.0, 62.0, 53.0, 82.0, 77.0, 79.0, 74.0, 64.0, 74.0, 65.0, 65.0, 70.0, 71.0, 72.0, 71.0, 66.0, 64.0, 71.0, 62.0, 60.0, 60.0, 53.0, 81.0, 77.0, 75.0, 75.0, 75.0, 72.0, 71.0, 61.0, 64.0, 69.0, 70.0, 71.0, 61.0, 63.0, 64.0, 67.0, 63.0, 85.0, 80.0, 85.0, 81.0, 78.0, 84.0, 80.0, 82.0, 73.0, 78.0, 80.0, 77.0, 74.0, 80.0, 69.0, 75.0, 74.0, 83.0, 82.0, 85.0, 84.0, 82.0, 73.0, 75.0, 80.0, 77.0, 75.0, 77.0, 78.0, 69.0, 73.0, 76.0, 81.0, 84.0, 83.0, 79.0, 81.0, 81.0, 78.0, 76.0, 75.0, 81.0, 73.0, 77.0, 67.0, 77.0, 73.0, 77.0, 75.0, 72.0, 91.0, 85.0, 85.0, 85.0, 90.0, 81.0, 80.0, 79.0, 85.0, 86.0, 79.0, 76.0, 77.0, 88.0, 78.0, 80.0, 76.0, 75.0, 75.0, 79.0, 75.0, 78.0, 73.0, 92.0, 89.0, 83.0, 82.0, 82.0, 88.0, 77.0, 78.0, 76.0, 79.0, 82.0, 76.0, 81.0, 77.0, 76.0, 78.0, 83.0, 80.0, 86.0, 79.0, 79.0, 77.0, 78.0, 79.0, 75.0, 75.0, 74.0, 76.0, 68.0, 67.0, 79.0, 76.0, 68.0, 71.0, 66.0, 70.0, 59.0, 64.0, 63.0, 63.0, 67.0, 53.0, 56.0, 56.0, 65.0, 65.0, 63.0, 58.0, 66.0, 92.0, 93.0, 86.0, 86.0, 86.0, 85.0, 91.0, 85.0, 74.0, 83.0, 88.0, 82.0, 83.0, 87.0, 83.0, 83.0, 83.0, 76.0, 84.0, 78.0, 84.0, 82.0, 82.0, 78.0, 81.0, 83.0, 77.0, 78.0, 81.0, 74.0, 77.0, 74.0, 81.0, 76.0, 80.0, 71.0, 79.0, 79.0, 74.0, 81.0, 78.0, 79.0, 64.0, 93.0, 85.0, 86.0, 86.0, 84.0, 91.0, 87.0, 86.0, 82.0, 88.0, 83.0, 79.0, 79.0, 85.0, 83.0, 82.0, 87.0, 84.0, 72.0, 79.0, 80.0, 76.0, 82.0, 79.0, 81.0, 82.0, 80.0, 79.0, 80.0, 72.0, 81.0, 77.0, 77.0, 80.0, 75.0, 80.0, 76.0, 74.0, 71.0, 71.0, 76.0, 78.0, 81.0, 73.0, 74.0, 74.0, 93.0, 91.0, 84.0, 86.0, 90.0, 89.0, 85.0, 90.0, 86.0, 84.0, 88.0, 76.0, 81.0, 84.0, 83.0, 87.0, 83.0, 86.0, 86.0, 80.0, 76.0, 74.0, 76.0, 81.0, 79.0, 80.0, 75.0, 75.0, 81.0, 81.0, 80.0, 80.0, 74.0, 79.0, 79.0, 71.0, 74.0, 75.0]}, {\"axis\": {\"matches\": true}, \"label\": \"Pase\", \"values\": [84.0, 59.0, 80.0, 63.0, 79.0, 72.0, 77.0, 67.0, 67.0, 73.0, 74.0, 64.0, 73.0, 72.0, 70.0, 78.0, 75.0, 65.0, 52.0, 66.0, 69.0, 66.0, 68.0, 62.0, 54.0, 67.0, 68.0, 64.0, 57.0, 67.0, 62.0, 60.0, 51.0, 55.0, 47.0, 59.0, 81.0, 81.0, 82.0, 76.0, 74.0, 66.0, 63.0, 73.0, 78.0, 64.0, 73.0, 74.0, 69.0, 74.0, 64.0, 77.0, 66.0, 63.0, 65.0, 73.0, 72.0, 65.0, 62.0, 66.0, 70.0, 67.0, 49.0, 68.0, 55.0, 62.0, 56.0, 47.0, 55.0, 81.0, 60.0, 80.0, 77.0, 74.0, 66.0, 76.0, 75.0, 76.0, 66.0, 58.0, 74.0, 68.0, 68.0, 71.0, 70.0, 64.0, 62.0, 66.0, 76.0, 66.0, 52.0, 54.0, 65.0, 62.0, 58.0, 60.0, 52.0, 59.0, 64.0, 60.0, 68.0, 55.0, 54.0, 74.0, 73.0, 78.0, 76.0, 57.0, 54.0, 71.0, 73.0, 72.0, 64.0, 66.0, 77.0, 77.0, 62.0, 76.0, 65.0, 59.0, 62.0, 79.0, 75.0, 66.0, 74.0, 74.0, 54.0, 72.0, 72.0, 55.0, 64.0, 77.0, 49.0, 66.0, 68.0, 61.0, 53.0, 58.0, 58.0, 62.0, 66.0, 75.0, 78.0, 72.0, 62.0, 65.0, 77.0, 71.0, 72.0, 68.0, 53.0, 69.0, 69.0, 59.0, 52.0, 48.0, 51.0, 73.0, 81.0, 78.0, 81.0, 75.0, 79.0, 79.0, 78.0, 78.0, 75.0, 70.0, 65.0, 74.0, 73.0, 76.0, 61.0, 72.0, 83.0, 77.0, 73.0, 79.0, 73.0, 79.0, 76.0, 78.0, 75.0, 63.0, 74.0, 70.0, 76.0, 73.0, 75.0, 72.0, 71.0, 82.0, 75.0, 78.0, 79.0, 74.0, 77.0, 68.0, 65.0, 80.0, 74.0, 76.0, 71.0, 69.0, 69.0, 65.0, 72.0, 78.0, 86.0, 80.0, 81.0, 82.0, 85.0, 81.0, 84.0, 66.0, 84.0, 81.0, 77.0, 77.0, 77.0, 72.0, 71.0, 81.0, 78.0, 82.0, 65.0, 78.0, 77.0, 61.0, 92.0, 80.0, 77.0, 80.0, 80.0, 77.0, 79.0, 79.0, 82.0, 76.0, 64.0, 83.0, 65.0, 82.0, 78.0, 76.0, 80.0, 76.0, 77.0, 81.0, 76.0, 85.0, 79.0, 71.0, 82.0, 78.0, 75.0, 64.0, 72.0, 46.0, 75.0, 76.0, 77.0, 68.0, 52.0, 67.0, 65.0, 57.0, 44.0, 73.0, 72.0, 73.0, 64.0, 61.0, 72.0, 67.0, 71.0, 69.0, 67.0, 91.0, 81.0, 93.0, 78.0, 81.0, 84.0, 80.0, 84.0, 81.0, 88.0, 67.0, 80.0, 78.0, 63.0, 81.0, 78.0, 76.0, 78.0, 82.0, 83.0, 76.0, 71.0, 80.0, 84.0, 74.0, 77.0, 81.0, 75.0, 75.0, 78.0, 79.0, 80.0, 57.0, 77.0, 65.0, 81.0, 64.0, 69.0, 71.0, 65.0, 80.0, 67.0, 68.0, 82.0, 87.0, 92.0, 81.0, 78.0, 79.0, 74.0, 84.0, 84.0, 84.0, 80.0, 85.0, 84.0, 63.0, 87.0, 73.0, 82.0, 77.0, 77.0, 80.0, 81.0, 77.0, 75.0, 83.0, 75.0, 73.0, 75.0, 71.0, 81.0, 77.0, 57.0, 80.0, 68.0, 76.0, 82.0, 74.0, 68.0, 71.0, 75.0, 75.0, 74.0, 67.0, 65.0, 78.0, 61.0, 60.0, 81.0, 88.0, 83.0, 92.0, 79.0, 75.0, 84.0, 79.0, 81.0, 79.0, 84.0, 84.0, 79.0, 76.0, 80.0, 63.0, 64.0, 82.0, 77.0, 81.0, 82.0, 77.0, 83.0, 78.0, 75.0, 84.0, 82.0, 76.0, 57.0, 63.0, 74.0, 74.0, 79.0, 78.0, 68.0, 77.0, 62.0, 56.0]}, {\"axis\": {\"matches\": true}, \"label\": \"Regate\", \"values\": [82.0, 69.0, 85.0, 75.0, 78.0, 84.0, 81.0, 82.0, 82.0, 75.0, 78.0, 77.0, 76.0, 79.0, 78.0, 75.0, 76.0, 78.0, 72.0, 73.0, 77.0, 73.0, 74.0, 74.0, 74.0, 70.0, 76.0, 75.0, 64.0, 71.0, 71.0, 66.0, 58.0, 64.0, 65.0, 69.0, 78.0, 77.0, 79.0, 82.0, 80.0, 80.0, 75.0, 80.0, 77.0, 80.0, 75.0, 76.0, 76.0, 76.0, 81.0, 74.0, 76.0, 80.0, 77.0, 73.0, 76.0, 79.0, 72.0, 73.0, 69.0, 71.0, 69.0, 73.0, 69.0, 70.0, 64.0, 65.0, 62.0, 79.0, 78.0, 75.0, 75.0, 82.0, 81.0, 74.0, 76.0, 79.0, 77.0, 75.0, 76.0, 76.0, 75.0, 73.0, 78.0, 78.0, 83.0, 73.0, 72.0, 76.0, 70.0, 74.0, 73.0, 73.0, 70.0, 72.0, 69.0, 65.0, 72.0, 72.0, 70.0, 64.0, 64.0, 83.0, 83.0, 83.0, 81.0, 75.0, 77.0, 78.0, 78.0, 79.0, 75.0, 78.0, 72.0, 72.0, 78.0, 80.0, 73.0, 71.0, 62.0, 83.0, 84.0, 78.0, 82.0, 79.0, 74.0, 75.0, 75.0, 72.0, 75.0, 70.0, 66.0, 78.0, 72.0, 70.0, 72.0, 67.0, 71.0, 62.0, 78.0, 85.0, 82.0, 81.0, 76.0, 79.0, 73.0, 75.0, 75.0, 77.0, 71.0, 75.0, 71.0, 70.0, 66.0, 56.0, 69.0, 85.0, 82.0, 86.0, 82.0, 86.0, 79.0, 82.0, 79.0, 81.0, 82.0, 75.0, 81.0, 82.0, 77.0, 78.0, 68.0, 75.0, 83.0, 85.0, 85.0, 79.0, 80.0, 82.0, 83.0, 79.0, 81.0, 78.0, 82.0, 73.0, 78.0, 76.0, 86.0, 86.0, 86.0, 82.0, 86.0, 79.0, 79.0, 84.0, 82.0, 84.0, 69.0, 78.0, 82.0, 78.0, 78.0, 82.0, 80.0, 73.0, 75.0, 85.0, 94.0, 90.0, 86.0, 83.0, 88.0, 90.0, 85.0, 78.0, 85.0, 90.0, 87.0, 87.0, 79.0, 87.0, 81.0, 84.0, 86.0, 86.0, 74.0, 83.0, 79.0, 64.0, 96.0, 84.0, 89.0, 86.0, 87.0, 77.0, 89.0, 89.0, 85.0, 87.0, 75.0, 87.0, 74.0, 81.0, 83.0, 80.0, 86.0, 87.0, 78.0, 90.0, 81.0, 86.0, 85.0, 80.0, 87.0, 88.0, 86.0, 69.0, 74.0, 59.0, 86.0, 82.0, 77.0, 76.0, 68.0, 74.0, 69.0, 64.0, 57.0, 80.0, 77.0, 74.0, 66.0, 72.0, 76.0, 72.0, 75.0, 73.0, 69.0, 95.0, 89.0, 88.0, 91.0, 90.0, 88.0, 80.0, 92.0, 91.0, 85.0, 83.0, 89.0, 86.0, 76.0, 84.0, 86.0, 75.0, 80.0, 80.0, 91.0, 80.0, 85.0, 84.0, 87.0, 83.0, 87.0, 86.0, 84.0, 84.0, 77.0, 80.0, 84.0, 77.0, 83.0, 78.0, 77.0, 79.0, 84.0, 83.0, 69.0, 76.0, 78.0, 72.0, 89.0, 95.0, 86.0, 89.0, 90.0, 81.0, 85.0, 89.0, 90.0, 87.0, 91.0, 91.0, 87.0, 81.0, 85.0, 72.0, 82.0, 85.0, 90.0, 87.0, 84.0, 87.0, 86.0, 81.0, 85.0, 84.0, 87.0, 80.0, 83.0, 88.0, 77.0, 86.0, 82.0, 80.0, 85.0, 81.0, 84.0, 83.0, 82.0, 82.0, 82.0, 78.0, 69.0, 82.0, 65.0, 73.0, 89.0, 96.0, 95.0, 87.0, 88.0, 85.0, 91.0, 80.0, 89.0, 89.0, 85.0, 91.0, 89.0, 75.0, 91.0, 82.0, 76.0, 86.0, 86.0, 84.0, 85.0, 88.0, 85.0, 84.0, 87.0, 83.0, 82.0, 88.0, 77.0, 77.0, 83.0, 80.0, 85.0, 81.0, 80.0, 80.0, 77.0, 67.0]}, {\"axis\": {\"matches\": true}, \"label\": \"Defensa\", \"values\": [54.0, 39.0, 69.0, 38.0, 62.0, 32.0, 41.0, 32.0, 36.0, 35.0, 49.0, 32.0, 62.0, 54.0, 38.0, 44.0, 27.0, 35.0, 26.0, 36.0, 54.0, 36.0, 62.0, 32.0, 38.0, 36.0, 50.0, 44.0, 44.0, 38.0, 35.0, 34.0, 26.0, 21.0, 20.0, 39.0, 62.0, 65.0, 39.0, 41.0, 41.0, 32.0, 38.0, 55.0, 61.0, 29.0, 34.0, 46.0, 32.0, 68.0, 36.0, 47.0, 36.0, 28.0, 32.0, 27.0, 49.0, 31.0, 20.0, 36.0, 60.0, 32.0, 26.0, 37.0, 21.0, 35.0, 27.0, 20.0, 21.0, 62.0, 37.0, 61.0, 58.0, 41.0, 29.0, 35.0, 39.0, 35.0, 36.0, 37.0, 69.0, 56.0, 32.0, 34.0, 41.0, 31.0, 31.0, 30.0, 47.0, 36.0, 27.0, 23.0, 35.0, 46.0, 32.0, 32.0, 21.0, 25.0, 35.0, 39.0, 37.0, 20.0, 20.0, 49.0, 33.0, 30.0, 56.0, 41.0, 34.0, 55.0, 42.0, 42.0, 29.0, 36.0, 52.0, 60.0, 28.0, 38.0, 42.0, 26.0, 47.0, 39.0, 33.0, 45.0, 49.0, 55.0, 34.0, 72.0, 42.0, 35.0, 28.0, 56.0, 25.0, 42.0, 50.0, 36.0, 22.0, 37.0, 26.0, 47.0, 45.0, 33.0, 38.0, 43.0, 28.0, 26.0, 48.0, 55.0, 42.0, 44.0, 33.0, 38.0, 69.0, 49.0, 32.0, 25.0, 22.0, 30.0, 41.0, 35.0, 45.0, 47.0, 41.0, 36.0, 59.0, 58.0, 35.0, 33.0, 29.0, 30.0, 50.0, 49.0, 34.0, 46.0, 45.0, 39.0, 30.0, 41.0, 50.0, 58.0, 30.0, 59.0, 35.0, 43.0, 37.0, 33.0, 47.0, 46.0, 25.0, 44.0, 30.0, 46.0, 47.0, 41.0, 59.0, 39.0, 30.0, 27.0, 34.0, 40.0, 38.0, 41.0, 46.0, 44.0, 33.0, 30.0, 29.0, 43.0, 36.0, 44.0, 40.0, 51.0, 48.0, 61.0, 39.0, 55.0, 45.0, 38.0, 29.0, 36.0, 34.0, 43.0, 31.0, 59.0, 55.0, 33.0, 48.0, 56.0, 61.0, 32.0, 39.0, 51.0, 44.0, 39.0, 61.0, 34.0, 55.0, 38.0, 59.0, 42.0, 49.0, 33.0, 55.0, 38.0, 55.0, 61.0, 61.0, 42.0, 34.0, 37.0, 32.0, 38.0, 52.0, 31.0, 33.0, 56.0, 42.0, 37.0, 37.0, 24.0, 47.0, 48.0, 35.0, 54.0, 22.0, 38.0, 37.0, 44.0, 23.0, 37.0, 44.0, 27.0, 37.0, 42.0, 49.0, 52.0, 49.0, 49.0, 44.0, 38.0, 35.0, 64.0, 39.0, 45.0, 57.0, 47.0, 43.0, 37.0, 68.0, 39.0, 35.0, 45.0, 43.0, 32.0, 43.0, 38.0, 34.0, 58.0, 36.0, 46.0, 48.0, 41.0, 73.0, 40.0, 39.0, 52.0, 33.0, 36.0, 77.0, 48.0, 46.0, 41.0, 50.0, 28.0, 72.0, 43.0, 27.0, 44.0, 34.0, 60.0, 27.0, 37.0, 35.0, 32.0, 61.0, 45.0, 39.0, 47.0, 41.0, 57.0, 43.0, 45.0, 35.0, 35.0, 48.0, 39.0, 65.0, 35.0, 58.0, 35.0, 36.0, 36.0, 32.0, 29.0, 43.0, 51.0, 33.0, 45.0, 39.0, 31.0, 41.0, 66.0, 41.0, 47.0, 40.0, 57.0, 66.0, 40.0, 27.0, 44.0, 65.0, 65.0, 29.0, 27.0, 34.0, 35.0, 32.0, 29.0, 35.0, 32.0, 32.0, 60.0, 52.0, 41.0, 28.0, 47.0, 50.0, 45.0, 58.0, 36.0, 39.0, 35.0, 34.0, 39.0, 49.0, 44.0, 35.0, 42.0, 47.0, 66.0, 59.0, 33.0, 41.0, 62.0, 46.0, 36.0, 41.0, 54.0, 40.0, 56.0, 39.0, 61.0, 27.0, 27.0, 43.0, 36.0]}, {\"axis\": {\"matches\": true}, \"label\": \"Fisico\", \"values\": [58.0, 85.0, 65.0, 80.0, 70.0, 70.0, 62.0, 64.0, 64.0, 65.0, 58.0, 64.0, 61.0, 61.0, 66.0, 48.0, 63.0, 60.0, 73.0, 61.0, 63.0, 72.0, 65.0, 62.0, 67.0, 78.0, 50.0, 50.0, 81.0, 53.0, 61.0, 63.0, 67.0, 50.0, 44.0, 83.0, 68.0, 73.0, 57.0, 62.0, 59.0, 65.0, 79.0, 62.0, 70.0, 72.0, 64.0, 53.0, 57.0, 69.0, 63.0, 51.0, 77.0, 63.0, 63.0, 64.0, 59.0, 59.0, 61.0, 61.0, 60.0, 64.0, 67.0, 58.0, 61.0, 60.0, 40.0, 41.0, 50.0, 65.0, 81.0, 72.0, 70.0, 62.0, 65.0, 54.0, 48.0, 66.0, 76.0, 73.0, 70.0, 64.0, 56.0, 62.0, 55.0, 56.0, 52.0, 62.0, 51.0, 47.0, 58.0, 66.0, 61.0, 45.0, 63.0, 55.0, 61.0, 64.0, 55.0, 54.0, 56.0, 50.0, 37.0, 71.0, 64.0, 58.0, 55.0, 83.0, 76.0, 63.0, 57.0, 62.0, 69.0, 62.0, 66.0, 67.0, 48.0, 57.0, 63.0, 35.0, 50.0, 61.0, 64.0, 69.0, 70.0, 55.0, 74.0, 77.0, 57.0, 80.0, 67.0, 64.0, 70.0, 60.0, 45.0, 51.0, 41.0, 59.0, 34.0, 49.0, 69.0, 64.0, 58.0, 73.0, 67.0, 57.0, 64.0, 55.0, 56.0, 63.0, 58.0, 54.0, 70.0, 45.0, 78.0, 61.0, 42.0, 71.0, 68.0, 63.0, 70.0, 67.0, 84.0, 68.0, 72.0, 69.0, 66.0, 81.0, 71.0, 56.0, 69.0, 63.0, 75.0, 50.0, 70.0, 61.0, 71.0, 83.0, 70.0, 69.0, 57.0, 72.0, 66.0, 75.0, 67.0, 80.0, 62.0, 53.0, 60.0, 67.0, 71.0, 70.0, 65.0, 83.0, 72.0, 61.0, 56.0, 72.0, 77.0, 53.0, 70.0, 57.0, 72.0, 66.0, 60.0, 78.0, 49.0, 82.0, 59.0, 76.0, 76.0, 83.0, 68.0, 78.0, 67.0, 75.0, 63.0, 59.0, 59.0, 56.0, 77.0, 67.0, 77.0, 62.0, 60.0, 53.0, 86.0, 64.0, 65.0, 73.0, 66.0, 84.0, 74.0, 77.0, 78.0, 78.0, 61.0, 59.0, 67.0, 66.0, 85.0, 53.0, 75.0, 67.0, 66.0, 67.0, 78.0, 73.0, 78.0, 59.0, 75.0, 68.0, 69.0, 71.0, 54.0, 60.0, 59.0, 75.0, 65.0, 78.0, 69.0, 61.0, 58.0, 64.0, 69.0, 54.0, 61.0, 81.0, 69.0, 55.0, 51.0, 57.0, 59.0, 57.0, 62.0, 69.0, 62.0, 62.0, 61.0, 65.0, 77.0, 78.0, 76.0, 75.0, 72.0, 83.0, 63.0, 64.0, 75.0, 77.0, 51.0, 78.0, 85.0, 80.0, 70.0, 84.0, 64.0, 73.0, 44.0, 73.0, 82.0, 63.0, 57.0, 69.0, 63.0, 67.0, 66.0, 65.0, 80.0, 61.0, 61.0, 81.0, 60.0, 69.0, 69.0, 75.0, 66.0, 62.0, 77.0, 74.0, 69.0, 59.0, 78.0, 58.0, 78.0, 74.0, 75.0, 83.0, 82.0, 72.0, 64.0, 66.0, 53.0, 47.0, 68.0, 76.0, 74.0, 84.0, 76.0, 64.0, 60.0, 57.0, 78.0, 60.0, 69.0, 66.0, 67.0, 77.0, 64.0, 72.0, 69.0, 67.0, 82.0, 64.0, 83.0, 77.0, 57.0, 70.0, 68.0, 64.0, 67.0, 67.0, 56.0, 68.0, 77.0, 63.0, 72.0, 60.0, 79.0, 61.0, 59.0, 78.0, 85.0, 82.0, 66.0, 83.0, 70.0, 72.0, 76.0, 50.0, 72.0, 87.0, 55.0, 76.0, 87.0, 64.0, 65.0, 69.0, 66.0, 69.0, 67.0, 79.0, 64.0, 72.0, 67.0, 55.0, 84.0, 77.0, 72.0, 77.0, 65.0, 71.0, 69.0, 58.0, 75.0, 83.0]}], \"hovertemplate\": \"TotalCombinado[GrupoPosicion]=Atacante<br>%{xaxis.title.text}=%{x}<br>%{yaxis.title.text}=%{y}<extra></extra>\", \"legendgroup\": \"Atacante\", \"marker\": {\"color\": \"#636efa\", \"symbol\": \"circle\"}, \"name\": \"Atacante\", \"showlegend\": true, \"type\": \"splom\"}, {\"dimensions\": [{\"axis\": {\"matches\": true}, \"label\": \"Ritmo\", \"values\": [79.0, 79.0, 68.0, 61.0, 65.0, 69.0, 76.0, 67.0, 53.0, 63.0, 79.0, 68.0, 62.0, 69.0, 58.0, 62.0, 86.0, 71.0, 67.0, 63.0, 63.0, 69.0, 71.0, 58.0, 68.0, 75.0, 64.0, 69.0, 66.0, 63.0, 73.0, 68.0, 61.0, 68.0, 68.0, 70.0, 69.0, 71.0, 71.0, 70.0, 63.0, 63.0, 58.0, 77.0, 68.0, 60.0, 67.0, 69.0, 67.0, 66.0, 70.0, 64.0, 70.0, 61.0, 68.0, 73.0, 59.0, 64.0, 69.0, 73.0, 83.0, 78.0, 75.0, 64.0, 67.0, 55.0, 70.0, 67.0, 75.0, 71.0, 69.0, 64.0, 71.0, 69.0, 64.0, 50.0, 69.0, 66.0, 78.0, 66.0, 66.0, 73.0, 52.0, 41.0, 67.0, 73.0, 70.0, 61.0, 64.0, 65.0, 54.0, 73.0, 64.0, 68.0, 69.0, 74.0, 71.0, 54.0, 64.0, 71.0, 62.0, 65.0, 77.0, 58.0, 65.0, 73.0, 42.0, 74.0, 62.0, 53.0, 76.0, 62.0, 55.0, 64.0, 67.0, 68.0, 56.0, 61.0, 61.0, 72.0, 72.0, 71.0, 54.0, 42.0, 64.0, 80.0, 74.0, 65.0, 63.0, 64.0, 78.0, 80.0, 66.0, 61.0, 64.0, 72.0, 78.0, 70.0, 67.0, 80.0, 80.0, 57.0, 58.0, 71.0, 75.0, 55.0, 66.0, 56.0, 42.0, 45.0, 69.0, 65.0, 79.0, 67.0, 81.0, 66.0, 62.0, 76.0, 63.0, 70.0, 74.0, 72.0, 74.0, 50.0, 67.0, 43.0, 65.0, 73.0, 47.0, 68.0, 83.0, 67.0, 53.0, 82.0, 82.0, 73.0, 75.0, 70.0, 55.0, 77.0]}, {\"axis\": {\"matches\": true}, \"label\": \"Tiro\", \"values\": [71.0, 68.0, 52.0, 53.0, 78.0, 73.0, 73.0, 52.0, 70.0, 53.0, 74.0, 77.0, 64.0, 51.0, 69.0, 50.0, 74.0, 62.0, 58.0, 74.0, 61.0, 64.0, 74.0, 77.0, 70.0, 63.0, 52.0, 69.0, 65.0, 54.0, 57.0, 58.0, 54.0, 55.0, 54.0, 45.0, 46.0, 62.0, 69.0, 66.0, 71.0, 61.0, 76.0, 74.0, 69.0, 63.0, 58.0, 69.0, 51.0, 60.0, 59.0, 53.0, 45.0, 49.0, 69.0, 62.0, 76.0, 62.0, 70.0, 56.0, 40.0, 59.0, 75.0, 63.0, 58.0, 49.0, 62.0, 68.0, 65.0, 58.0, 48.0, 67.0, 60.0, 55.0, 53.0, 83.0, 79.0, 62.0, 80.0, 80.0, 67.0, 66.0, 63.0, 80.0, 79.0, 74.0, 68.0, 62.0, 59.0, 80.0, 63.0, 66.0, 67.0, 49.0, 79.0, 74.0, 68.0, 63.0, 70.0, 68.0, 61.0, 80.0, 59.0, 37.0, 73.0, 76.0, 67.0, 76.0, 72.0, 73.0, 76.0, 69.0, 74.0, 58.0, 66.0, 67.0, 55.0, 51.0, 51.0, 67.0, 74.0, 72.0, 81.0, 62.0, 60.0, 64.0, 78.0, 68.0, 78.0, 72.0, 78.0, 83.0, 74.0, 75.0, 78.0, 64.0, 67.0, 76.0, 69.0, 72.0, 72.0, 64.0, 60.0, 72.0, 76.0, 49.0, 66.0, 56.0, 62.0, 80.0, 74.0, 60.0, 64.0, 68.0, 77.0, 74.0, 74.0, 66.0, 78.0, 58.0, 68.0, 72.0, 63.0, 52.0, 82.0, 62.0, 60.0, 74.0, 80.0, 74.0, 74.0, 68.0, 79.0, 72.0, 72.0, 71.0, 66.0, 49.0, 58.0, 61.0]}, {\"axis\": {\"matches\": true}, \"label\": \"Pase\", \"values\": [79.0, 67.0, 78.0, 65.0, 78.0, 77.0, 75.0, 77.0, 73.0, 65.0, 77.0, 76.0, 72.0, 77.0, 70.0, 63.0, 78.0, 68.0, 78.0, 81.0, 72.0, 77.0, 79.0, 82.0, 81.0, 74.0, 66.0, 63.0, 66.0, 64.0, 65.0, 64.0, 62.0, 65.0, 63.0, 55.0, 48.0, 67.0, 81.0, 75.0, 78.0, 72.0, 79.0, 75.0, 73.0, 74.0, 69.0, 63.0, 64.0, 64.0, 61.0, 63.0, 55.0, 59.0, 75.0, 65.0, 79.0, 72.0, 77.0, 79.0, 64.0, 75.0, 74.0, 73.0, 75.0, 66.0, 70.0, 69.0, 73.0, 69.0, 63.0, 62.0, 64.0, 65.0, 62.0, 90.0, 80.0, 74.0, 83.0, 78.0, 78.0, 73.0, 75.0, 88.0, 80.0, 79.0, 77.0, 71.0, 77.0, 76.0, 76.0, 75.0, 79.0, 69.0, 80.0, 79.0, 77.0, 77.0, 80.0, 76.0, 69.0, 74.0, 66.0, 62.0, 76.0, 89.0, 80.0, 89.0, 75.0, 87.0, 90.0, 75.0, 88.0, 69.0, 69.0, 63.0, 65.0, 60.0, 60.0, 68.0, 78.0, 86.0, 91.0, 80.0, 85.0, 84.0, 79.0, 77.0, 78.0, 85.0, 80.0, 80.0, 84.0, 84.0, 82.0, 73.0, 79.0, 78.0, 76.0, 79.0, 79.0, 75.0, 78.0, 71.0, 78.0, 69.0, 70.0, 65.0, 80.0, 90.0, 85.0, 84.0, 84.0, 77.0, 80.0, 84.0, 83.0, 78.0, 82.0, 77.0, 79.0, 72.0, 71.0, 66.0, 89.0, 79.0, 84.0, 84.0, 88.0, 83.0, 80.0, 80.0, 80.0, 76.0, 76.0, 71.0, 76.0, 69.0, 74.0, 68.0]}, {\"axis\": {\"matches\": true}, \"label\": \"Regate\", \"values\": [83.0, 72.0, 72.0, 65.0, 83.0, 80.0, 80.0, 71.0, 70.0, 65.0, 82.0, 80.0, 74.0, 70.0, 68.0, 64.0, 79.0, 74.0, 82.0, 78.0, 77.0, 78.0, 78.0, 75.0, 79.0, 77.0, 71.0, 67.0, 72.0, 69.0, 69.0, 65.0, 60.0, 66.0, 65.0, 61.0, 56.0, 74.0, 79.0, 79.0, 77.0, 76.0, 76.0, 80.0, 73.0, 74.0, 70.0, 69.0, 71.0, 68.0, 63.0, 66.0, 61.0, 58.0, 78.0, 73.0, 76.0, 76.0, 77.0, 85.0, 76.0, 78.0, 80.0, 74.0, 74.0, 62.0, 75.0, 68.0, 74.0, 70.0, 72.0, 69.0, 64.0, 66.0, 64.0, 81.0, 83.0, 73.0, 83.0, 77.0, 77.0, 82.0, 72.0, 79.0, 83.0, 80.0, 79.0, 70.0, 77.0, 77.0, 73.0, 84.0, 78.0, 68.0, 83.0, 80.0, 77.0, 74.0, 74.0, 82.0, 69.0, 77.0, 77.0, 65.0, 72.0, 88.0, 74.0, 89.0, 72.0, 77.0, 91.0, 72.0, 80.0, 70.0, 68.0, 66.0, 67.0, 60.0, 60.0, 72.0, 79.0, 84.0, 81.0, 80.0, 90.0, 87.0, 80.0, 77.0, 83.0, 90.0, 82.0, 80.0, 84.0, 77.0, 79.0, 75.0, 82.0, 82.0, 81.0, 83.0, 83.0, 74.0, 77.0, 77.0, 82.0, 68.0, 68.0, 63.0, 80.0, 81.0, 90.0, 90.0, 87.0, 77.0, 81.0, 84.0, 76.0, 80.0, 78.0, 83.0, 76.0, 77.0, 74.0, 63.0, 82.0, 78.0, 89.0, 90.0, 79.0, 84.0, 81.0, 80.0, 77.0, 84.0, 84.0, 77.0, 76.0, 68.0, 76.0, 72.0]}, {\"axis\": {\"matches\": true}, \"label\": \"Defensa\", \"values\": [75.0, 69.0, 70.0, 58.0, 74.0, 71.0, 74.0, 70.0, 52.0, 58.0, 75.0, 74.0, 68.0, 70.0, 52.0, 58.0, 77.0, 87.0, 72.0, 74.0, 75.0, 74.0, 66.0, 66.0, 67.0, 69.0, 69.0, 66.0, 54.0, 59.0, 54.0, 58.0, 51.0, 46.0, 58.0, 61.0, 41.0, 83.0, 66.0, 64.0, 71.0, 74.0, 67.0, 69.0, 66.0, 75.0, 67.0, 66.0, 66.0, 51.0, 58.0, 46.0, 61.0, 40.0, 76.0, 83.0, 67.0, 75.0, 71.0, 66.0, 71.0, 67.0, 69.0, 74.0, 64.0, 75.0, 60.0, 62.0, 54.0, 67.0, 67.0, 66.0, 59.0, 46.0, 42.0, 71.0, 79.0, 82.0, 65.0, 73.0, 75.0, 64.0, 74.0, 70.0, 77.0, 77.0, 81.0, 81.0, 68.0, 70.0, 76.0, 64.0, 75.0, 78.0, 77.0, 77.0, 80.0, 77.0, 70.0, 63.0, 79.0, 71.0, 70.0, 79.0, 86.0, 71.0, 59.0, 72.0, 85.0, 60.0, 70.0, 87.0, 60.0, 66.0, 72.0, 68.0, 56.0, 54.0, 53.0, 69.0, 77.0, 81.0, 71.0, 83.0, 79.0, 76.0, 83.0, 82.0, 74.0, 70.0, 77.0, 65.0, 72.0, 71.0, 69.0, 76.0, 74.0, 77.0, 64.0, 67.0, 67.0, 77.0, 72.0, 77.0, 53.0, 77.0, 73.0, 77.0, 85.0, 70.0, 69.0, 79.0, 76.0, 82.0, 75.0, 72.0, 70.0, 74.0, 68.0, 71.0, 72.0, 78.0, 74.0, 77.0, 74.0, 85.0, 79.0, 67.0, 71.0, 69.0, 77.0, 75.0, 68.0, 67.0, 67.0, 78.0, 72.0, 77.0, 67.0, 69.0]}, {\"axis\": {\"matches\": true}, \"label\": \"Fisico\", \"values\": [70.0, 84.0, 75.0, 58.0, 69.0, 74.0, 69.0, 74.0, 63.0, 59.0, 71.0, 68.0, 72.0, 75.0, 61.0, 54.0, 80.0, 84.0, 68.0, 73.0, 73.0, 73.0, 74.0, 68.0, 69.0, 70.0, 73.0, 82.0, 66.0, 65.0, 62.0, 66.0, 57.0, 63.0, 61.0, 56.0, 47.0, 82.0, 68.0, 67.0, 69.0, 76.0, 66.0, 65.0, 67.0, 70.0, 76.0, 84.0, 73.0, 63.0, 66.0, 58.0, 56.0, 47.0, 75.0, 82.0, 68.0, 76.0, 72.0, 65.0, 66.0, 65.0, 65.0, 70.0, 63.0, 78.0, 61.0, 57.0, 64.0, 76.0, 72.0, 83.0, 68.0, 63.0, 45.0, 69.0, 85.0, 82.0, 68.0, 73.0, 67.0, 68.0, 69.0, 69.0, 84.0, 80.0, 84.0, 82.0, 66.0, 69.0, 71.0, 68.0, 67.0, 81.0, 84.0, 79.0, 83.0, 73.0, 74.0, 67.0, 83.0, 69.0, 61.0, 71.0, 91.0, 66.0, 56.0, 66.0, 89.0, 56.0, 67.0, 88.0, 58.0, 76.0, 83.0, 79.0, 48.0, 57.0, 52.0, 77.0, 79.0, 79.0, 69.0, 77.0, 67.0, 77.0, 87.0, 79.0, 68.0, 62.0, 85.0, 78.0, 71.0, 73.0, 71.0, 79.0, 72.0, 78.0, 67.0, 68.0, 68.0, 69.0, 66.0, 87.0, 64.0, 80.0, 83.0, 78.0, 80.0, 69.0, 63.0, 66.0, 76.0, 80.0, 79.0, 71.0, 73.0, 69.0, 67.0, 66.0, 69.0, 88.0, 78.0, 79.0, 69.0, 80.0, 66.0, 63.0, 71.0, 70.0, 76.0, 67.0, 71.0, 68.0, 68.0, 88.0, 71.0, 82.0, 63.0, 77.0]}], \"hovertemplate\": \"TotalCombinado[GrupoPosicion]=Medio<br>%{xaxis.title.text}=%{x}<br>%{yaxis.title.text}=%{y}<extra></extra>\", \"legendgroup\": \"Medio\", \"marker\": {\"color\": \"#EF553B\", \"symbol\": \"circle\"}, \"name\": \"Medio\", \"showlegend\": true, \"type\": \"splom\"}, {\"dimensions\": [{\"axis\": {\"matches\": true}, \"label\": \"Ritmo\", \"values\": [84.0, 44.0, 62.0, 62.0, 85.0, 53.0, 70.0, 73.0, 60.0, 51.0, 75.0, 72.0, 62.0, 84.0, 45.0, 55.0, 64.0, 51.0, 51.0, 86.0, 57.0, 62.0, 66.0, 76.0, 69.0, 76.0, 47.0, 59.0, 86.0, 52.0, 78.0, 54.0, 54.0, 58.0, 68.0, 86.0, 78.0, 77.0, 51.0, 80.0, 80.0, 81.0, 73.0, 79.0, 71.0, 69.0, 72.0, 64.0, 70.0, 67.0, 70.0, 64.0, 54.0, 68.0, 60.0, 53.0, 77.0, 70.0, 62.0, 79.0, 87.0, 84.0, 46.0, 76.0, 76.0, 70.0, 82.0, 79.0, 70.0, 82.0, 73.0, 78.0, 70.0, 63.0, 61.0, 62.0, 52.0, 68.0, 79.0, 69.0, 43.0, 83.0, 79.0, 77.0, 73.0, 71.0, 71.0, 82.0, 73.0, 61.0, 54.0, 63.0, 68.0, 50.0, 78.0, 66.0, 68.0, 67.0, 67.0, 78.0, 81.0, 69.0, 53.0, 55.0, 38.0, 78.0, 56.0, 74.0, 71.0, 82.0, 63.0, 71.0, 59.0, 58.0, 73.0, 59.0, 88.0, 52.0, 75.0, 62.0, 76.0, 83.0, 71.0, 63.0, 40.0, 81.0, 75.0, 67.0, 58.0, 62.0, 59.0, 70.0, 79.0, 45.0, 65.0, 60.0, 55.0, 71.0, 62.0, 51.0, 81.0, 83.0, 66.0, 64.0, 48.0, 64.0, 61.0, 60.0, 71.0, 82.0, 72.0, 85.0, 68.0, 53.0, 61.0, 64.0, 58.0, 51.0, 38.0, 76.0, 76.0, 60.0, 69.0, 63.0, 75.0, 58.0, 81.0, 51.0, 74.0, 63.0, 76.0, 71.0, 62.0, 68.0, 58.0, 75.0, 67.0, 74.0, 70.0, 76.0, 80.0, 82.0, 88.0, 72.0, 62.0, 78.0, 86.0, 73.0, 61.0, 65.0, 89.0, 77.0, 72.0, 49.0, 65.0, 73.0, 77.0, 32.0, 68.0, 34.0, 51.0, 45.0, 90.0, 72.0, 67.0, 83.0, 90.0, 70.0, 80.0, 78.0, 68.0, 72.0, 50.0, 52.0, 62.0, 36.0, 64.0, 64.0, 69.0, 74.0, 78.0, 74.0, 71.0, 40.0, 79.0, 70.0, 47.0, 65.0, 93.0, 84.0, 76.0, 73.0, 73.0, 74.0, 69.0, 47.0, 75.0, 65.0, 73.0, 68.0, 64.0, 69.0, 80.0, 80.0, 64.0, 75.0, 40.0, 71.0, 47.0]}, {\"axis\": {\"matches\": true}, \"label\": \"Tiro\", \"values\": [67.0, 42.0, 33.0, 33.0, 56.0, 27.0, 30.0, 39.0, 38.0, 45.0, 47.0, 25.0, 25.0, 66.0, 42.0, 27.0, 34.0, 33.0, 33.0, 56.0, 45.0, 33.0, 30.0, 45.0, 25.0, 48.0, 42.0, 19.0, 56.0, 33.0, 32.0, 33.0, 33.0, 43.0, 33.0, 51.0, 50.0, 34.0, 49.0, 53.0, 57.0, 70.0, 43.0, 50.0, 53.0, 60.0, 50.0, 32.0, 42.0, 41.0, 34.0, 35.0, 53.0, 29.0, 35.0, 25.0, 40.0, 36.0, 28.0, 50.0, 50.0, 53.0, 40.0, 36.0, 43.0, 31.0, 66.0, 57.0, 54.0, 55.0, 59.0, 53.0, 42.0, 35.0, 53.0, 33.0, 25.0, 36.0, 43.0, 61.0, 39.0, 66.0, 36.0, 49.0, 54.0, 31.0, 45.0, 47.0, 43.0, 53.0, 25.0, 33.0, 49.0, 53.0, 53.0, 66.0, 36.0, 51.0, 61.0, 37.0, 63.0, 70.0, 37.0, 37.0, 39.0, 69.0, 50.0, 37.0, 49.0, 54.0, 61.0, 70.0, 37.0, 37.0, 49.0, 50.0, 64.0, 36.0, 70.0, 52.0, 61.0, 52.0, 64.0, 31.0, 39.0, 65.0, 28.0, 55.0, 58.0, 41.0, 54.0, 50.0, 73.0, 41.0, 49.0, 65.0, 43.0, 28.0, 54.0, 58.0, 74.0, 65.0, 50.0, 41.0, 41.0, 49.0, 65.0, 43.0, 54.0, 71.0, 26.0, 65.0, 49.0, 41.0, 65.0, 41.0, 25.0, 35.0, 39.0, 32.0, 47.0, 32.0, 29.0, 29.0, 28.0, 25.0, 59.0, 35.0, 44.0, 24.0, 61.0, 33.0, 47.0, 27.0, 25.0, 54.0, 53.0, 66.0, 43.0, 52.0, 66.0, 49.0, 69.0, 59.0, 50.0, 69.0, 65.0, 60.0, 58.0, 38.0, 72.0, 40.0, 61.0, 36.0, 35.0, 34.0, 47.0, 38.0, 45.0, 33.0, 35.0, 33.0, 69.0, 69.0, 58.0, 45.0, 65.0, 55.0, 62.0, 45.0, 36.0, 43.0, 53.0, 37.0, 58.0, 38.0, 38.0, 51.0, 66.0, 60.0, 49.0, 61.0, 34.0, 33.0, 59.0, 45.0, 33.0, 58.0, 69.0, 45.0, 55.0, 50.0, 68.0, 37.0, 36.0, 46.0, 58.0, 41.0, 40.0, 58.0, 58.0, 58.0, 60.0, 42.0, 34.0, 74.0, 35.0, 34.0, 33.0]}, {\"axis\": {\"matches\": true}, \"label\": \"Pase\", \"values\": [76.0, 45.0, 52.0, 52.0, 59.0, 39.0, 47.0, 66.0, 67.0, 52.0, 59.0, 50.0, 32.0, 75.0, 45.0, 39.0, 58.0, 43.0, 43.0, 59.0, 54.0, 66.0, 42.0, 52.0, 45.0, 69.0, 46.0, 39.0, 59.0, 49.0, 63.0, 43.0, 43.0, 53.0, 60.0, 68.0, 66.0, 57.0, 62.0, 70.0, 72.0, 74.0, 67.0, 68.0, 55.0, 70.0, 61.0, 51.0, 56.0, 58.0, 61.0, 47.0, 64.0, 39.0, 48.0, 40.0, 51.0, 48.0, 31.0, 66.0, 63.0, 69.0, 55.0, 59.0, 68.0, 48.0, 69.0, 69.0, 54.0, 59.0, 67.0, 65.0, 56.0, 48.0, 64.0, 53.0, 39.0, 48.0, 68.0, 74.0, 53.0, 70.0, 59.0, 65.0, 53.0, 46.0, 55.0, 56.0, 54.0, 64.0, 38.0, 45.0, 71.0, 69.0, 74.0, 73.0, 69.0, 61.0, 72.0, 66.0, 70.0, 74.0, 57.0, 60.0, 34.0, 79.0, 61.0, 66.0, 69.0, 75.0, 71.0, 74.0, 57.0, 60.0, 68.0, 58.0, 77.0, 52.0, 73.0, 58.0, 75.0, 71.0, 70.0, 54.0, 34.0, 77.0, 55.0, 77.0, 77.0, 58.0, 72.0, 72.0, 80.0, 62.0, 66.0, 74.0, 63.0, 54.0, 72.0, 76.0, 83.0, 77.0, 72.0, 57.0, 61.0, 60.0, 74.0, 63.0, 73.0, 83.0, 46.0, 77.0, 60.0, 61.0, 73.0, 58.0, 33.0, 54.0, 34.0, 66.0, 62.0, 44.0, 38.0, 42.0, 46.0, 33.0, 66.0, 53.0, 59.0, 52.0, 62.0, 49.0, 62.0, 29.0, 33.0, 65.0, 63.0, 68.0, 67.0, 74.0, 87.0, 64.0, 81.0, 66.0, 62.0, 80.0, 79.0, 81.0, 70.0, 54.0, 78.0, 61.0, 75.0, 52.0, 63.0, 64.0, 68.0, 54.0, 67.0, 52.0, 54.0, 49.0, 81.0, 86.0, 66.0, 62.0, 80.0, 77.0, 82.0, 68.0, 70.0, 67.0, 64.0, 52.0, 69.0, 54.0, 50.0, 59.0, 72.0, 81.0, 71.0, 75.0, 62.0, 48.0, 68.0, 66.0, 49.0, 76.0, 79.0, 61.0, 78.0, 72.0, 83.0, 66.0, 69.0, 63.0, 82.0, 62.0, 67.0, 66.0, 68.0, 71.0, 75.0, 65.0, 47.0, 82.0, 52.0, 62.0, 48.0]}, {\"axis\": {\"matches\": true}, \"label\": \"Regate\", \"values\": [81.0, 56.0, 54.0, 54.0, 70.0, 47.0, 48.0, 71.0, 61.0, 57.0, 67.0, 55.0, 45.0, 79.0, 55.0, 48.0, 58.0, 42.0, 42.0, 71.0, 59.0, 61.0, 38.0, 62.0, 50.0, 75.0, 55.0, 47.0, 71.0, 51.0, 69.0, 41.0, 41.0, 56.0, 61.0, 80.0, 71.0, 70.0, 63.0, 76.0, 75.0, 76.0, 72.0, 72.0, 64.0, 67.0, 66.0, 53.0, 64.0, 55.0, 55.0, 55.0, 58.0, 48.0, 53.0, 43.0, 55.0, 59.0, 36.0, 71.0, 78.0, 76.0, 61.0, 61.0, 74.0, 62.0, 74.0, 72.0, 64.0, 68.0, 67.0, 71.0, 65.0, 53.0, 57.0, 50.0, 40.0, 57.0, 73.0, 75.0, 61.0, 78.0, 61.0, 70.0, 65.0, 58.0, 68.0, 67.0, 65.0, 57.0, 38.0, 42.0, 65.0, 71.0, 78.0, 72.0, 71.0, 56.0, 74.0, 66.0, 79.0, 75.0, 54.0, 65.0, 42.0, 79.0, 63.0, 64.0, 65.0, 80.0, 74.0, 74.0, 54.0, 65.0, 65.0, 57.0, 81.0, 55.0, 74.0, 55.0, 75.0, 78.0, 70.0, 54.0, 45.0, 80.0, 68.0, 72.0, 72.0, 61.0, 71.0, 65.0, 88.0, 63.0, 69.0, 71.0, 64.0, 67.0, 72.0, 72.0, 89.0, 80.0, 65.0, 60.0, 63.0, 68.0, 70.0, 64.0, 69.0, 90.0, 59.0, 81.0, 68.0, 63.0, 70.0, 59.0, 38.0, 58.0, 42.0, 71.0, 68.0, 44.0, 40.0, 42.0, 42.0, 38.0, 67.0, 57.0, 67.0, 51.0, 67.0, 52.0, 59.0, 31.0, 38.0, 69.0, 65.0, 70.0, 63.0, 78.0, 80.0, 64.0, 83.0, 69.0, 63.0, 79.0, 83.0, 77.0, 65.0, 59.0, 88.0, 66.0, 75.0, 54.0, 68.0, 68.0, 71.0, 59.0, 72.0, 46.0, 57.0, 51.0, 83.0, 84.0, 68.0, 63.0, 84.0, 73.0, 78.0, 72.0, 72.0, 63.0, 69.0, 56.0, 65.0, 60.0, 59.0, 55.0, 72.0, 76.0, 77.0, 75.0, 69.0, 46.0, 78.0, 72.0, 51.0, 72.0, 83.0, 64.0, 73.0, 65.0, 82.0, 64.0, 71.0, 69.0, 76.0, 64.0, 63.0, 65.0, 65.0, 74.0, 72.0, 70.0, 56.0, 84.0, 60.0, 69.0, 45.0]}, {\"axis\": {\"matches\": true}, \"label\": \"Defensa\", \"values\": [75.0, 79.0, 78.0, 78.0, 70.0, 74.0, 68.0, 63.0, 65.0, 66.0, 61.0, 60.0, 51.0, 72.0, 77.0, 76.0, 74.0, 76.0, 76.0, 70.0, 65.0, 65.0, 63.0, 60.0, 58.0, 74.0, 76.0, 76.0, 70.0, 69.0, 65.0, 70.0, 70.0, 64.0, 62.0, 82.0, 81.0, 81.0, 79.0, 74.0, 73.0, 71.0, 75.0, 70.0, 75.0, 72.0, 73.0, 74.0, 70.0, 68.0, 67.0, 69.0, 67.0, 67.0, 67.0, 67.0, 60.0, 60.0, 58.0, 81.0, 80.0, 75.0, 78.0, 75.0, 76.0, 78.0, 71.0, 70.0, 72.0, 69.0, 68.0, 67.0, 70.0, 64.0, 67.0, 63.0, 63.0, 57.0, 76.0, 76.0, 77.0, 74.0, 74.0, 73.0, 73.0, 74.0, 70.0, 69.0, 68.0, 67.0, 62.0, 62.0, 84.0, 82.0, 80.0, 81.0, 82.0, 80.0, 80.0, 80.0, 75.0, 78.0, 79.0, 78.0, 71.0, 80.0, 86.0, 81.0, 83.0, 80.0, 80.0, 78.0, 78.0, 78.0, 83.0, 85.0, 77.0, 79.0, 77.0, 76.0, 74.0, 76.0, 76.0, 78.0, 77.0, 81.0, 89.0, 84.0, 89.0, 86.0, 86.0, 82.0, 76.0, 86.0, 81.0, 79.0, 80.0, 89.0, 87.0, 89.0, 77.0, 82.0, 84.0, 84.0, 86.0, 84.0, 82.0, 82.0, 88.0, 81.0, 88.0, 82.0, 88.0, 86.0, 82.0, 83.0, 50.0, 74.0, 75.0, 65.0, 63.0, 64.0, 61.0, 59.0, 58.0, 48.0, 66.0, 70.0, 69.0, 70.0, 62.0, 62.0, 62.0, 57.0, 47.0, 66.0, 68.0, 67.0, 82.0, 77.0, 80.0, 87.0, 78.0, 85.0, 86.0, 80.0, 77.0, 79.0, 85.0, 83.0, 72.0, 79.0, 76.0, 81.0, 80.0, 80.0, 80.0, 79.0, 75.0, 76.0, 73.0, 69.0, 79.0, 79.0, 83.0, 85.0, 78.0, 85.0, 78.0, 83.0, 84.0, 82.0, 81.0, 82.0, 82.0, 81.0, 81.0, 78.0, 80.0, 78.0, 76.0, 77.0, 78.0, 78.0, 74.0, 74.0, 69.0, 90.0, 79.0, 86.0, 87.0, 85.0, 77.0, 81.0, 83.0, 81.0, 79.0, 82.0, 81.0, 80.0, 82.0, 80.0, 73.0, 78.0, 77.0, 71.0, 77.0, 78.0, 71.0]}, {\"axis\": {\"matches\": true}, \"label\": \"Fisico\", \"values\": [75.0, 83.0, 68.0, 68.0, 71.0, 70.0, 75.0, 67.0, 57.0, 71.0, 68.0, 68.0, 54.0, 73.0, 82.0, 71.0, 70.0, 66.0, 66.0, 70.0, 67.0, 59.0, 72.0, 69.0, 67.0, 69.0, 82.0, 74.0, 70.0, 76.0, 66.0, 62.0, 62.0, 68.0, 61.0, 74.0, 81.0, 73.0, 78.0, 72.0, 76.0, 75.0, 66.0, 77.0, 73.0, 79.0, 75.0, 74.0, 66.0, 75.0, 52.0, 75.0, 69.0, 73.0, 69.0, 67.0, 74.0, 59.0, 63.0, 81.0, 72.0, 73.0, 77.0, 80.0, 69.0, 69.0, 71.0, 75.0, 70.0, 76.0, 79.0, 75.0, 66.0, 70.0, 65.0, 71.0, 69.0, 57.0, 71.0, 66.0, 76.0, 72.0, 80.0, 79.0, 77.0, 67.0, 65.0, 65.0, 63.0, 65.0, 67.0, 67.0, 83.0, 85.0, 78.0, 80.0, 77.0, 84.0, 68.0, 80.0, 64.0, 74.0, 75.0, 73.0, 71.0, 76.0, 82.0, 79.0, 81.0, 78.0, 68.0, 76.0, 76.0, 70.0, 80.0, 80.0, 71.0, 80.0, 77.0, 83.0, 72.0, 72.0, 78.0, 75.0, 73.0, 81.0, 86.0, 76.0, 77.0, 86.0, 78.0, 79.0, 76.0, 75.0, 77.0, 77.0, 74.0, 87.0, 78.0, 76.0, 79.0, 82.0, 82.0, 87.0, 72.0, 74.0, 77.0, 74.0, 79.0, 82.0, 86.0, 83.0, 76.0, 75.0, 77.0, 85.0, 62.0, 77.0, 71.0, 66.0, 64.0, 67.0, 72.0, 68.0, 69.0, 59.0, 80.0, 75.0, 76.0, 63.0, 72.0, 68.0, 67.0, 68.0, 58.0, 66.0, 67.0, 64.0, 80.0, 75.0, 71.0, 82.0, 72.0, 84.0, 83.0, 76.0, 70.0, 72.0, 78.0, 84.0, 64.0, 81.0, 73.0, 80.0, 75.0, 76.0, 76.0, 76.0, 73.0, 78.0, 77.0, 76.0, 73.0, 78.0, 84.0, 80.0, 71.0, 76.0, 70.0, 80.0, 77.0, 78.0, 84.0, 80.0, 77.0, 76.0, 83.0, 83.0, 80.0, 72.0, 75.0, 73.0, 75.0, 79.0, 62.0, 70.0, 76.0, 76.0, 72.0, 80.0, 77.0, 83.0, 73.0, 79.0, 78.0, 82.0, 72.0, 75.0, 77.0, 82.0, 76.0, 70.0, 69.0, 77.0, 81.0, 59.0, 69.0, 75.0, 78.0]}], \"hovertemplate\": \"TotalCombinado[GrupoPosicion]=Defensa<br>%{xaxis.title.text}=%{x}<br>%{yaxis.title.text}=%{y}<extra></extra>\", \"legendgroup\": \"Defensa\", \"marker\": {\"color\": \"#00cc96\", \"symbol\": \"circle\"}, \"name\": \"Defensa\", \"showlegend\": true, \"type\": \"splom\"}, {\"dimensions\": [{\"axis\": {\"matches\": true}, \"label\": \"Ritmo\", \"values\": [null, null, null, null, null, null, null, null, null, null, null, null, null, null, null, null, null, null, null, null, null, null, null, null, null, null, null, null, null, null, null, null, null, null, null, null, null, null, null, null, null, null, null, null, null, null, null, null, null, null, null, null, null, null, null, null, null]}, {\"axis\": {\"matches\": true}, \"label\": \"Tiro\", \"values\": [null, null, null, null, null, null, null, null, null, null, null, null, null, null, null, null, null, null, null, null, null, null, null, null, null, null, null, null, null, null, null, null, null, null, null, null, null, null, null, null, null, null, null, null, null, null, null, null, null, null, null, null, null, null, null, null, null]}, {\"axis\": {\"matches\": true}, \"label\": \"Pase\", \"values\": [null, null, null, null, null, null, null, null, null, null, null, null, null, null, null, null, null, null, null, null, null, null, null, null, null, null, null, null, null, null, null, null, null, null, null, null, null, null, null, null, null, null, null, null, null, null, null, null, null, null, null, null, null, null, null, null, null]}, {\"axis\": {\"matches\": true}, \"label\": \"Regate\", \"values\": [null, null, null, null, null, null, null, null, null, null, null, null, null, null, null, null, null, null, null, null, null, null, null, null, null, null, null, null, null, null, null, null, null, null, null, null, null, null, null, null, null, null, null, null, null, null, null, null, null, null, null, null, null, null, null, null, null]}, {\"axis\": {\"matches\": true}, \"label\": \"Defensa\", \"values\": [null, null, null, null, null, null, null, null, null, null, null, null, null, null, null, null, null, null, null, null, null, null, null, null, null, null, null, null, null, null, null, null, null, null, null, null, null, null, null, null, null, null, null, null, null, null, null, null, null, null, null, null, null, null, null, null, null]}, {\"axis\": {\"matches\": true}, \"label\": \"Fisico\", \"values\": [null, null, null, null, null, null, null, null, null, null, null, null, null, null, null, null, null, null, null, null, null, null, null, null, null, null, null, null, null, null, null, null, null, null, null, null, null, null, null, null, null, null, null, null, null, null, null, null, null, null, null, null, null, null, null, null, null]}], \"hovertemplate\": \"TotalCombinado[GrupoPosicion]=Portero<br>%{xaxis.title.text}=%{x}<br>%{yaxis.title.text}=%{y}<extra></extra>\", \"legendgroup\": \"Portero\", \"marker\": {\"color\": \"#ab63fa\", \"symbol\": \"circle\"}, \"name\": \"Portero\", \"showlegend\": true, \"type\": \"splom\"}],                        {\"dragmode\": \"select\", \"height\": 900, \"legend\": {\"title\": {\"text\": \"TotalCombinado[GrupoPosicion]\"}, \"tracegroupgap\": 0}, \"margin\": {\"t\": 60}, \"template\": {\"data\": {\"bar\": [{\"error_x\": {\"color\": \"#2a3f5f\"}, \"error_y\": {\"color\": \"#2a3f5f\"}, \"marker\": {\"line\": {\"color\": \"#E5ECF6\", \"width\": 0.5}}, \"type\": \"bar\"}], \"barpolar\": [{\"marker\": {\"line\": {\"color\": \"#E5ECF6\", \"width\": 0.5}}, \"type\": \"barpolar\"}], \"carpet\": [{\"aaxis\": {\"endlinecolor\": \"#2a3f5f\", \"gridcolor\": \"white\", \"linecolor\": \"white\", \"minorgridcolor\": \"white\", \"startlinecolor\": \"#2a3f5f\"}, \"baxis\": {\"endlinecolor\": \"#2a3f5f\", \"gridcolor\": \"white\", \"linecolor\": \"white\", \"minorgridcolor\": \"white\", \"startlinecolor\": \"#2a3f5f\"}, \"type\": \"carpet\"}], \"choropleth\": [{\"colorbar\": {\"outlinewidth\": 0, \"ticks\": \"\"}, \"type\": \"choropleth\"}], \"contour\": [{\"colorbar\": {\"outlinewidth\": 0, \"ticks\": \"\"}, \"colorscale\": [[0.0, \"#0d0887\"], [0.1111111111111111, \"#46039f\"], [0.2222222222222222, \"#7201a8\"], [0.3333333333333333, \"#9c179e\"], [0.4444444444444444, \"#bd3786\"], [0.5555555555555556, \"#d8576b\"], [0.6666666666666666, \"#ed7953\"], [0.7777777777777778, \"#fb9f3a\"], [0.8888888888888888, \"#fdca26\"], [1.0, \"#f0f921\"]], \"type\": \"contour\"}], \"contourcarpet\": [{\"colorbar\": {\"outlinewidth\": 0, \"ticks\": \"\"}, \"type\": \"contourcarpet\"}], \"heatmap\": [{\"colorbar\": {\"outlinewidth\": 0, \"ticks\": \"\"}, \"colorscale\": [[0.0, \"#0d0887\"], [0.1111111111111111, \"#46039f\"], [0.2222222222222222, \"#7201a8\"], [0.3333333333333333, \"#9c179e\"], [0.4444444444444444, \"#bd3786\"], [0.5555555555555556, \"#d8576b\"], [0.6666666666666666, \"#ed7953\"], [0.7777777777777778, \"#fb9f3a\"], [0.8888888888888888, \"#fdca26\"], [1.0, \"#f0f921\"]], \"type\": \"heatmap\"}], \"heatmapgl\": [{\"colorbar\": {\"outlinewidth\": 0, \"ticks\": \"\"}, \"colorscale\": [[0.0, \"#0d0887\"], [0.1111111111111111, \"#46039f\"], [0.2222222222222222, \"#7201a8\"], [0.3333333333333333, \"#9c179e\"], [0.4444444444444444, \"#bd3786\"], [0.5555555555555556, \"#d8576b\"], [0.6666666666666666, \"#ed7953\"], [0.7777777777777778, \"#fb9f3a\"], [0.8888888888888888, \"#fdca26\"], [1.0, \"#f0f921\"]], \"type\": \"heatmapgl\"}], \"histogram\": [{\"marker\": {\"colorbar\": {\"outlinewidth\": 0, \"ticks\": \"\"}}, \"type\": \"histogram\"}], \"histogram2d\": [{\"colorbar\": {\"outlinewidth\": 0, \"ticks\": \"\"}, \"colorscale\": [[0.0, \"#0d0887\"], [0.1111111111111111, \"#46039f\"], [0.2222222222222222, \"#7201a8\"], [0.3333333333333333, \"#9c179e\"], [0.4444444444444444, \"#bd3786\"], [0.5555555555555556, \"#d8576b\"], [0.6666666666666666, \"#ed7953\"], [0.7777777777777778, \"#fb9f3a\"], [0.8888888888888888, \"#fdca26\"], [1.0, \"#f0f921\"]], \"type\": \"histogram2d\"}], \"histogram2dcontour\": [{\"colorbar\": {\"outlinewidth\": 0, \"ticks\": \"\"}, \"colorscale\": [[0.0, \"#0d0887\"], [0.1111111111111111, \"#46039f\"], [0.2222222222222222, \"#7201a8\"], [0.3333333333333333, \"#9c179e\"], [0.4444444444444444, \"#bd3786\"], [0.5555555555555556, \"#d8576b\"], [0.6666666666666666, \"#ed7953\"], [0.7777777777777778, \"#fb9f3a\"], [0.8888888888888888, \"#fdca26\"], [1.0, \"#f0f921\"]], \"type\": \"histogram2dcontour\"}], \"mesh3d\": [{\"colorbar\": {\"outlinewidth\": 0, \"ticks\": \"\"}, \"type\": \"mesh3d\"}], \"parcoords\": [{\"line\": {\"colorbar\": {\"outlinewidth\": 0, \"ticks\": \"\"}}, \"type\": \"parcoords\"}], \"pie\": [{\"automargin\": true, \"type\": \"pie\"}], \"scatter\": [{\"marker\": {\"colorbar\": {\"outlinewidth\": 0, \"ticks\": \"\"}}, \"type\": \"scatter\"}], \"scatter3d\": [{\"line\": {\"colorbar\": {\"outlinewidth\": 0, \"ticks\": \"\"}}, \"marker\": {\"colorbar\": {\"outlinewidth\": 0, \"ticks\": \"\"}}, \"type\": \"scatter3d\"}], \"scattercarpet\": [{\"marker\": {\"colorbar\": {\"outlinewidth\": 0, \"ticks\": \"\"}}, \"type\": \"scattercarpet\"}], \"scattergeo\": [{\"marker\": {\"colorbar\": {\"outlinewidth\": 0, \"ticks\": \"\"}}, \"type\": \"scattergeo\"}], \"scattergl\": [{\"marker\": {\"colorbar\": {\"outlinewidth\": 0, \"ticks\": \"\"}}, \"type\": \"scattergl\"}], \"scattermapbox\": [{\"marker\": {\"colorbar\": {\"outlinewidth\": 0, \"ticks\": \"\"}}, \"type\": \"scattermapbox\"}], \"scatterpolar\": [{\"marker\": {\"colorbar\": {\"outlinewidth\": 0, \"ticks\": \"\"}}, \"type\": \"scatterpolar\"}], \"scatterpolargl\": [{\"marker\": {\"colorbar\": {\"outlinewidth\": 0, \"ticks\": \"\"}}, \"type\": \"scatterpolargl\"}], \"scatterternary\": [{\"marker\": {\"colorbar\": {\"outlinewidth\": 0, \"ticks\": \"\"}}, \"type\": \"scatterternary\"}], \"surface\": [{\"colorbar\": {\"outlinewidth\": 0, \"ticks\": \"\"}, \"colorscale\": [[0.0, \"#0d0887\"], [0.1111111111111111, \"#46039f\"], [0.2222222222222222, \"#7201a8\"], [0.3333333333333333, \"#9c179e\"], [0.4444444444444444, \"#bd3786\"], [0.5555555555555556, \"#d8576b\"], [0.6666666666666666, \"#ed7953\"], [0.7777777777777778, \"#fb9f3a\"], [0.8888888888888888, \"#fdca26\"], [1.0, \"#f0f921\"]], \"type\": \"surface\"}], \"table\": [{\"cells\": {\"fill\": {\"color\": \"#EBF0F8\"}, \"line\": {\"color\": \"white\"}}, \"header\": {\"fill\": {\"color\": \"#C8D4E3\"}, \"line\": {\"color\": \"white\"}}, \"type\": \"table\"}]}, \"layout\": {\"annotationdefaults\": {\"arrowcolor\": \"#2a3f5f\", \"arrowhead\": 0, \"arrowwidth\": 1}, \"autotypenumbers\": \"strict\", \"coloraxis\": {\"colorbar\": {\"outlinewidth\": 0, \"ticks\": \"\"}}, \"colorscale\": {\"diverging\": [[0, \"#8e0152\"], [0.1, \"#c51b7d\"], [0.2, \"#de77ae\"], [0.3, \"#f1b6da\"], [0.4, \"#fde0ef\"], [0.5, \"#f7f7f7\"], [0.6, \"#e6f5d0\"], [0.7, \"#b8e186\"], [0.8, \"#7fbc41\"], [0.9, \"#4d9221\"], [1, \"#276419\"]], \"sequential\": [[0.0, \"#0d0887\"], [0.1111111111111111, \"#46039f\"], [0.2222222222222222, \"#7201a8\"], [0.3333333333333333, \"#9c179e\"], [0.4444444444444444, \"#bd3786\"], [0.5555555555555556, \"#d8576b\"], [0.6666666666666666, \"#ed7953\"], [0.7777777777777778, \"#fb9f3a\"], [0.8888888888888888, \"#fdca26\"], [1.0, \"#f0f921\"]], \"sequentialminus\": [[0.0, \"#0d0887\"], [0.1111111111111111, \"#46039f\"], [0.2222222222222222, \"#7201a8\"], [0.3333333333333333, \"#9c179e\"], [0.4444444444444444, \"#bd3786\"], [0.5555555555555556, \"#d8576b\"], [0.6666666666666666, \"#ed7953\"], [0.7777777777777778, \"#fb9f3a\"], [0.8888888888888888, \"#fdca26\"], [1.0, \"#f0f921\"]]}, \"colorway\": [\"#636efa\", \"#EF553B\", \"#00cc96\", \"#ab63fa\", \"#FFA15A\", \"#19d3f3\", \"#FF6692\", \"#B6E880\", \"#FF97FF\", \"#FECB52\"], \"font\": {\"color\": \"#2a3f5f\"}, \"geo\": {\"bgcolor\": \"white\", \"lakecolor\": \"white\", \"landcolor\": \"#E5ECF6\", \"showlakes\": true, \"showland\": true, \"subunitcolor\": \"white\"}, \"hoverlabel\": {\"align\": \"left\"}, \"hovermode\": \"closest\", \"mapbox\": {\"style\": \"light\"}, \"paper_bgcolor\": \"white\", \"plot_bgcolor\": \"#E5ECF6\", \"polar\": {\"angularaxis\": {\"gridcolor\": \"white\", \"linecolor\": \"white\", \"ticks\": \"\"}, \"bgcolor\": \"#E5ECF6\", \"radialaxis\": {\"gridcolor\": \"white\", \"linecolor\": \"white\", \"ticks\": \"\"}}, \"scene\": {\"xaxis\": {\"backgroundcolor\": \"#E5ECF6\", \"gridcolor\": \"white\", \"gridwidth\": 2, \"linecolor\": \"white\", \"showbackground\": true, \"ticks\": \"\", \"zerolinecolor\": \"white\"}, \"yaxis\": {\"backgroundcolor\": \"#E5ECF6\", \"gridcolor\": \"white\", \"gridwidth\": 2, \"linecolor\": \"white\", \"showbackground\": true, \"ticks\": \"\", \"zerolinecolor\": \"white\"}, \"zaxis\": {\"backgroundcolor\": \"#E5ECF6\", \"gridcolor\": \"white\", \"gridwidth\": 2, \"linecolor\": \"white\", \"showbackground\": true, \"ticks\": \"\", \"zerolinecolor\": \"white\"}}, \"shapedefaults\": {\"line\": {\"color\": \"#2a3f5f\"}}, \"ternary\": {\"aaxis\": {\"gridcolor\": \"white\", \"linecolor\": \"white\", \"ticks\": \"\"}, \"baxis\": {\"gridcolor\": \"white\", \"linecolor\": \"white\", \"ticks\": \"\"}, \"bgcolor\": \"#E5ECF6\", \"caxis\": {\"gridcolor\": \"white\", \"linecolor\": \"white\", \"ticks\": \"\"}}, \"title\": {\"x\": 0.05}, \"xaxis\": {\"automargin\": true, \"gridcolor\": \"white\", \"linecolor\": \"white\", \"ticks\": \"\", \"title\": {\"standoff\": 15}, \"zerolinecolor\": \"white\", \"zerolinewidth\": 2}, \"yaxis\": {\"automargin\": true, \"gridcolor\": \"white\", \"linecolor\": \"white\", \"ticks\": \"\", \"title\": {\"standoff\": 15}, \"zerolinecolor\": \"white\", \"zerolinewidth\": 2}}}, \"width\": 1200},                        {\"responsive\": true}                    ).then(function(){\n",
       "                            \n",
       "var gd = document.getElementById('679aebee-53f4-4d9a-9457-317baffcccea');\n",
       "var x = new MutationObserver(function (mutations, observer) {{\n",
       "        var display = window.getComputedStyle(gd).display;\n",
       "        if (!display || display === 'none') {{\n",
       "            console.log([gd, 'removed!']);\n",
       "            Plotly.purge(gd);\n",
       "            observer.disconnect();\n",
       "        }}\n",
       "}});\n",
       "\n",
       "// Listen for the removal of the full notebook cells\n",
       "var notebookContainer = gd.closest('#notebook-container');\n",
       "if (notebookContainer) {{\n",
       "    x.observe(notebookContainer, {childList: true});\n",
       "}}\n",
       "\n",
       "// Listen for the clearing of the current output cell\n",
       "var outputEl = gd.closest('.output');\n",
       "if (outputEl) {{\n",
       "    x.observe(outputEl, {childList: true});\n",
       "}}\n",
       "\n",
       "                        })                };                });            </script>        </div>"
      ]
     },
     "metadata": {},
     "output_type": "display_data"
    }
   ],
   "source": [
    "px.scatter_matrix(df2, dimensions=['TotalCombinado[Ritmo]','TotalCombinado[Tiro]','TotalCombinado[Pase]',\n",
    "                                       'TotalCombinado[Regate]','TotalCombinado[Defensa]','TotalCombinado[Fisico]'],\n",
    "                      color=\"TotalCombinado[GrupoPosicion]\", labels ={'TotalCombinado[Ritmo]':'Ritmo',\n",
    "                     'TotalCombinado[Tiro]':'Tiro', 'TotalCombinado[Pase]':'Pase','TotalCombinado[Regate]':'Regate',\n",
    "                        'TotalCombinado[Defensa]': 'Defensa', 'TotalCombinado[Fisico]':'Fisico'}, height=900, width=1200)"
   ]
  },
  {
   "cell_type": "code",
   "execution_count": 29,
   "metadata": {
    "slideshow": {
     "slide_type": "skip"
    }
   },
   "outputs": [],
   "source": [
    "# Dependent variable\n",
    "y = df3['Union[GrupoPosicion2]']\n",
    "\n",
    "# Independent variables\n",
    "X = df3.iloc[:,33:39]\n",
    "\n",
    "# Delete NaN\n",
    "z = pd.concat([y, X], axis=1)\n",
    "z.dropna(inplace=True)\n",
    "y = z['Union[GrupoPosicion2]']\n",
    "X = z.iloc[:,1:7]"
   ]
  },
  {
   "cell_type": "code",
   "execution_count": 30,
   "metadata": {
    "slideshow": {
     "slide_type": "subslide"
    }
   },
   "outputs": [
    {
     "data": {
      "text/plain": [
       "0.8539386569382516"
      ]
     },
     "execution_count": 30,
     "metadata": {},
     "output_type": "execute_result"
    }
   ],
   "source": [
    "# Split the dataset\n",
    "X_train, X_test, y_train,y_test = train_test_split(X, y, test_size=0.3, random_state=42)\n",
    "\n",
    "# Train dataset\n",
    "lr = LogisticRegression(max_iter=1000)\n",
    "lr.fit(X_train, y_train)\n",
    "\n",
    "# Check accuracy\n",
    "lr.score(X_test, y_test)"
   ]
  },
  {
   "cell_type": "code",
   "execution_count": 31,
   "metadata": {
    "hide_input": false,
    "slideshow": {
     "slide_type": "fragment"
    }
   },
   "outputs": [
    {
     "name": "stdout",
     "output_type": "stream",
     "text": [
      "              precision    recall  f1-score   support\n",
      "\n",
      "     Defensa       0.85      0.88      0.86      5267\n",
      "   Delantero       0.94      0.93      0.94      6055\n",
      "       Medio       0.71      0.68      0.69      3480\n",
      "\n",
      "    accuracy                           0.85     14802\n",
      "   macro avg       0.83      0.83      0.83     14802\n",
      "weighted avg       0.85      0.85      0.85     14802\n",
      "\n"
     ]
    }
   ],
   "source": [
    "# Create prediction\n",
    "y_pred = lr.predict(X_test)\n",
    "\n",
    "# Classification report\n",
    "print(classification_report(y_test, y_pred))"
   ]
  },
  {
   "cell_type": "markdown",
   "metadata": {
    "slideshow": {
     "slide_type": "slide"
    }
   },
   "source": [
    "## Leagues"
   ]
  },
  {
   "cell_type": "markdown",
   "metadata": {
    "slideshow": {
     "slide_type": "subslide"
    }
   },
   "source": [
    "At the end, we want to study which differences could we find between leagues combining economic and performance rates.\n",
    "\n",
    "The idea behind this study would be how much do the teams invest in their teams by paying wages, how this affect the values of the teams and check if it has a direct effect on the performance rate.\n",
    "\n",
    "**Are there differences between the teams or, more importantly, leagues?**\n",
    "\n",
    "**Are the teams being profitable?**"
   ]
  },
  {
   "cell_type": "code",
   "execution_count": 32,
   "metadata": {
    "slideshow": {
     "slide_type": "skip"
    }
   },
   "outputs": [],
   "source": [
    "leagues = ['Spain Primera Division', 'German 1. Bundesliga', 'French Ligue 1', 'English Premier League', 'Italian Serie A']"
   ]
  },
  {
   "cell_type": "code",
   "execution_count": 33,
   "metadata": {
    "slideshow": {
     "slide_type": "skip"
    }
   },
   "outputs": [],
   "source": [
    "df_teamsvalue = pd.concat([df.groupby(['Anexar1[club_name]','Anexar1[league_name]'])[['Anexar1[wage_eur]','Anexar1[value_eur]']].sum().reset_index(), df.groupby(['Anexar1[club_name]','Anexar1[league_name]'])[['Anexar1[overall]']].mean().reset_index()[['Anexar1[overall]']]], axis=1)"
   ]
  },
  {
   "cell_type": "code",
   "execution_count": 34,
   "metadata": {
    "slideshow": {
     "slide_type": "skip"
    }
   },
   "outputs": [],
   "source": [
    "df2_teamsvalue = pd.concat([df2.groupby(['TotalCombinado[Club]','TotalCombinado[Liga]'])[['TotalCombinado[FifaScore.Note]', 'TotalCombinado[Valor (€)]', 'TotalCombinado[Salario (€)]']].mean().reset_index(), df2.groupby(['TotalCombinado[Club]','TotalCombinado[Liga]'])[['TotalCombinado[Edad]']].count().reset_index()[['TotalCombinado[Edad]']]], axis=1)"
   ]
  },
  {
   "cell_type": "code",
   "execution_count": 35,
   "metadata": {
    "slideshow": {
     "slide_type": "skip"
    }
   },
   "outputs": [],
   "source": [
    "df2_teamsvalue2 = df2_teamsvalue[df2_teamsvalue['TotalCombinado[Edad]'] > 6]"
   ]
  },
  {
   "cell_type": "code",
   "execution_count": 40,
   "metadata": {
    "hide_input": false,
    "scrolled": false,
    "slideshow": {
     "slide_type": "subslide"
    }
   },
   "outputs": [
    {
     "data": {
      "application/vnd.jupyter.widget-view+json": {
       "model_id": "f63e78e1485a46db848f438dd9c6a5bb",
       "version_major": 2,
       "version_minor": 0
      },
      "text/plain": [
       "interactive(children=(Dropdown(description='boxplot', options=('No', 'Yes'), value='No'), Dropdown(description…"
      ]
     },
     "metadata": {},
     "output_type": "display_data"
    }
   ],
   "source": [
    "@ interact(boxplot = ['No', 'Yes'], x = df_teamsvalue.columns[2:5], ANOVA =['No', 'Yes'] )\n",
    "def team_1 (boxplot, x, ANOVA):\n",
    "    if (boxplot == 'No') & (ANOVA == 'No'):\n",
    "        return px.scatter( df_teamsvalue, y='Anexar1[overall]', x=x, hover_name=\"Anexar1[club_name]\",\n",
    "                      color = \"Anexar1[league_name]\", labels = {'Anexar1[league_name]':\n",
    "                    'League_Name', 'Anexar1[overall]':'Average_Overall', 'Anexar1[wage_eur]' : 'Total_wage', \n",
    "                    'Anexar1[value_eur]': 'Total_Value'})#, px.box(data_frame = df_all, y=y, color= 'Anexar1[league_name]') \n",
    "            \n",
    "    elif (boxplot == 'Yes') & (ANOVA == 'No'):\n",
    "        df_spain = df_teamsvalue[df_teamsvalue['Anexar1[league_name]'] == 'Spain Primera Division'].sort_values('Anexar1[wage_eur]', ascending=False).reset_index(drop=True).iloc[0:10,:].reset_index()\n",
    "        df_bundes = df_teamsvalue[df_teamsvalue['Anexar1[league_name]'] == 'German 1. Bundesliga'].sort_values('Anexar1[wage_eur]', ascending=False).reset_index(drop=True).iloc[0:10,:].reset_index()\n",
    "        df_ligue1 = df_teamsvalue[df_teamsvalue['Anexar1[league_name]'] == 'French Ligue 1'].sort_values('Anexar1[wage_eur]', ascending=False).reset_index(drop=True).iloc[0:10,:].reset_index()\n",
    "        df_premier = df_teamsvalue[df_teamsvalue['Anexar1[league_name]'] == 'English Premier League'].sort_values('Anexar1[wage_eur]', ascending=False).reset_index(drop=True).iloc[0:10,:].reset_index()\n",
    "        df_seriea = df_teamsvalue[df_teamsvalue['Anexar1[league_name]'] == 'Italian Serie A'].sort_values('Anexar1[wage_eur]', ascending=False).reset_index(drop=True).iloc[0:10,:].reset_index()\n",
    "        df_all = pd.concat([df_spain, df_bundes, df_ligue1, df_premier, df_seriea])\n",
    "        df_pivot = df_all.pivot_table(columns='Anexar1[league_name]', values=x, index=df_all['index'])\n",
    "        fig2 = px.scatter( df_teamsvalue, x=x, y='Anexar1[overall]', hover_name=\"Anexar1[club_name]\",\n",
    "                      color = \"Anexar1[league_name]\", labels = {'Anexar1[league_name]':\n",
    "                    'League_Name', 'Anexar1[overall]':'Average_Overall', 'Anexar1[wage_eur]' : 'Total_wage', \n",
    "                    'Anexar1[value_eur]': 'Total_Value'})\n",
    "        fig2.show()\n",
    "        fig = px.box(data_frame = df_all, y=x, color= 'Anexar1[league_name]')\n",
    "        fig.show()\n",
    "        \n",
    "    elif (boxplot == 'Yes') & (ANOVA == 'Yes'):\n",
    "        df_spain = df_teamsvalue[df_teamsvalue['Anexar1[league_name]'] == 'Spain Primera Division'].sort_values('Anexar1[wage_eur]', ascending=False).reset_index(drop=True).iloc[0:10,:].reset_index()\n",
    "        df_bundes = df_teamsvalue[df_teamsvalue['Anexar1[league_name]'] == 'German 1. Bundesliga'].sort_values('Anexar1[wage_eur]', ascending=False).reset_index(drop=True).iloc[0:10,:].reset_index()\n",
    "        df_ligue1 = df_teamsvalue[df_teamsvalue['Anexar1[league_name]'] == 'French Ligue 1'].sort_values('Anexar1[wage_eur]', ascending=False).reset_index(drop=True).iloc[0:10,:].reset_index()\n",
    "        df_premier = df_teamsvalue[df_teamsvalue['Anexar1[league_name]'] == 'English Premier League'].sort_values('Anexar1[wage_eur]', ascending=False).reset_index(drop=True).iloc[0:10,:].reset_index()\n",
    "        df_seriea = df_teamsvalue[df_teamsvalue['Anexar1[league_name]'] == 'Italian Serie A'].sort_values('Anexar1[wage_eur]', ascending=False).reset_index(drop=True).iloc[0:10,:].reset_index()\n",
    "        df_all = pd.concat([df_spain, df_bundes, df_ligue1, df_premier, df_seriea])\n",
    "        df_pivot = df_all.pivot_table(columns='Anexar1[league_name]', values=y, index=df_all['index'])\n",
    "        _, p_value = f_oneway(df_pivot['English Premier League'], df_pivot['French Ligue 1'], df_pivot['German 1. Bundesliga'],\n",
    "         df_pivot['Italian Serie A'], df_pivot['Spain Primera Division'])\n",
    "        display(f'ANOVA Test p value is {p_value}. We reject the Null hypothesis that the two populations are the same ')\n",
    "        fig2 = px.scatter( df_teamsvalue, x=x, y='Anexar1[overall]', hover_name=\"Anexar1[club_name]\",\n",
    "                      color = \"Anexar1[league_name]\", labels = {'Anexar1[league_name]':\n",
    "                    'League_Name', 'Anexar1[overall]':'Average_Overall', 'Anexar1[wage_eur]' : 'Total_wage', \n",
    "                    'Anexar1[value_eur]': 'Total_Value'})\n",
    "        fig2.show()\n",
    "        fig = px.box(data_frame = df_all, y=x, color= 'Anexar1[league_name]')\n",
    "        fig.show()\n",
    "        \n",
    "    \n",
    "    "
   ]
  },
  {
   "cell_type": "code",
   "execution_count": 37,
   "metadata": {
    "hide_input": false,
    "slideshow": {
     "slide_type": "subslide"
    }
   },
   "outputs": [
    {
     "data": {
      "application/vnd.jupyter.widget-view+json": {
       "model_id": "597ce91a1c7f4278b2c60fac8f09abc6",
       "version_major": 2,
       "version_minor": 0
      },
      "text/plain": [
       "interactive(children=(Dropdown(description='boxplot', options=('No', 'Yes'), value='No'), Dropdown(description…"
      ]
     },
     "metadata": {},
     "output_type": "display_data"
    }
   ],
   "source": [
    "@ interact(boxplot = ['No', 'Yes'], y = df2_teamsvalue2.columns[2:5], ANOVA =['No', 'Yes'] )\n",
    "def team_2 (boxplot, y, ANOVA):\n",
    "    if (boxplot == 'No') & (ANOVA == 'No'):\n",
    "        return px.scatter( df2_teamsvalue2, x='TotalCombinado[FifaScore.Note]', y=y,\n",
    "       hover_name=\"TotalCombinado[Club]\",  color = 'TotalCombinado[Liga]', \n",
    "       labels = {'TotalCombinado[Liga]': 'League_Name', 'TotalCombinado[FifaScore.Note]':'Average_Note', \n",
    "                 'TotalCombinado[Salario (€)]' : 'Total_wage', 'TotalCombinado[Valor (€)]': 'Total_Value'})\n",
    "    \n",
    "    elif (boxplot == 'Yes') & (ANOVA == 'No'):\n",
    "        \n",
    "        df_spain = df2_teamsvalue2[df2_teamsvalue2['TotalCombinado[Liga]'] == 'Spain Primera Division'].sort_values('TotalCombinado[Salario (€)]', ascending=False).reset_index(drop=True).iloc[0:7,:].reset_index()\n",
    "        df_bundes = df2_teamsvalue2[df2_teamsvalue2['TotalCombinado[Liga]'] == 'German 1. Bundesliga'].sort_values('TotalCombinado[Salario (€)]', ascending=False).reset_index(drop=True).iloc[0:7,:].reset_index()\n",
    "        df_ligue1 = df2_teamsvalue2[df2_teamsvalue2['TotalCombinado[Liga]'] == 'French Ligue 1'].sort_values('TotalCombinado[Salario (€)]', ascending=False).reset_index(drop=True).iloc[0:7,:].reset_index()\n",
    "        df_premier = df2_teamsvalue2[df2_teamsvalue2['TotalCombinado[Liga]'] == 'English Premier League'].sort_values('TotalCombinado[Salario (€)]', ascending=False).reset_index(drop=True).iloc[0:7,:].reset_index()\n",
    "        df_seriea = df2_teamsvalue2[df2_teamsvalue2['TotalCombinado[Liga]'] == 'Italian Serie A'].sort_values('TotalCombinado[Salario (€)]', ascending=False).reset_index(drop=True).iloc[0:7,:].reset_index()\n",
    "        df_all =pd.concat([df_spain, df_bundes, df_ligue1, df_premier, df_seriea])\n",
    "        df_pivot = df_all.pivot_table(columns='TotalCombinado[Liga]', values=y, index=df_all['index'])\n",
    "        fig2 = px.scatter( df2_teamsvalue2, x='TotalCombinado[FifaScore.Note]', y=y,\n",
    "       hover_name=\"TotalCombinado[Club]\", color = 'TotalCombinado[Liga]', \n",
    "       labels = {'TotalCombinado[Liga]': 'League_Name', 'TotalCombinado[FifaScore.Note]':'Average_Note', \n",
    "                 'TotalCombinado[Salario (€)]' : 'Total_wage', 'TotalCombinado[Valor (€)]': 'Total_Value'})\n",
    "        fig2.show()\n",
    "        fig = px.box(data_frame = df_all, y=y, color= 'TotalCombinado[Liga]')\n",
    "        fig.show()\n",
    "        \n",
    "    elif (boxplot == 'Yes') & (ANOVA == 'Yes'):\n",
    "        \n",
    "        df_spain = df2_teamsvalue2[df2_teamsvalue2['TotalCombinado[Liga]'] == 'Spain Primera Division'].sort_values('TotalCombinado[Salario (€)]', ascending=False).reset_index(drop=True).iloc[0:7,:].reset_index()\n",
    "        df_bundes = df2_teamsvalue2[df2_teamsvalue2['TotalCombinado[Liga]'] == 'German 1. Bundesliga'].sort_values('TotalCombinado[Salario (€)]', ascending=False).reset_index(drop=True).iloc[0:7,:].reset_index()\n",
    "        df_ligue1 = df2_teamsvalue2[df2_teamsvalue2['TotalCombinado[Liga]'] == 'French Ligue 1'].sort_values('TotalCombinado[Salario (€)]', ascending=False).reset_index(drop=True).iloc[0:7,:].reset_index()\n",
    "        df_premier = df2_teamsvalue2[df2_teamsvalue2['TotalCombinado[Liga]'] == 'English Premier League'].sort_values('TotalCombinado[Salario (€)]', ascending=False).reset_index(drop=True).iloc[0:7,:].reset_index()\n",
    "        df_seriea = df2_teamsvalue2[df2_teamsvalue2['TotalCombinado[Liga]'] == 'Italian Serie A'].sort_values('TotalCombinado[Salario (€)]', ascending=False).reset_index(drop=True).iloc[0:7,:].reset_index()\n",
    "        df_all =pd.concat([df_spain, df_bundes, df_ligue1, df_premier, df_seriea])\n",
    "        df_pivot = df_all.pivot_table(columns='TotalCombinado[Liga]', values=y, index=df_all['index'])\n",
    "        _, p_value = f_oneway(df_pivot['English Premier League'], df_pivot['French Ligue 1'], df_pivot['German 1. Bundesliga'],\n",
    "         df_pivot['Italian Serie A'], df_pivot['Spain Primera Division'])\n",
    "        if p_value < 0.05:\n",
    "            display(f'ANOVA Test p value is {p_value}. We reject the Null hypothesis that the two populations are the same ')\n",
    "        else:\n",
    "            display(f'ANOVA Test p value is {p_value}. We cannot reject the Null hypothesis that the two populations are the same ')\n",
    "        fig2 = px.scatter( df2_teamsvalue2, x='TotalCombinado[FifaScore.Note]', y=y,\n",
    "       hover_name=\"TotalCombinado[Club]\", color = 'TotalCombinado[Liga]', \n",
    "       labels = {'TotalCombinado[Liga]': 'League_Name', 'TotalCombinado[FifaScore.Note]':'Average_Note', \n",
    "                 'TotalCombinado[Salario (€)]' : 'Total_wage', 'TotalCombinado[Valor (€)]': 'Total_Value'})\n",
    "        fig2.show()\n",
    "        fig = px.box(data_frame = df_all, y=y, color= 'TotalCombinado[Liga]')\n",
    "        fig.show()\n",
    "    "
   ]
  }
 ],
 "metadata": {
  "celltoolbar": "Slideshow",
  "kernelspec": {
   "display_name": "Python 3",
   "language": "python",
   "name": "python3"
  },
  "language_info": {
   "codemirror_mode": {
    "name": "ipython",
    "version": 3
   },
   "file_extension": ".py",
   "mimetype": "text/x-python",
   "name": "python",
   "nbconvert_exporter": "python",
   "pygments_lexer": "ipython3",
   "version": "3.8.3"
  },
  "toc": {
   "base_numbering": 1,
   "nav_menu": {},
   "number_sections": true,
   "sideBar": true,
   "skip_h1_title": false,
   "title_cell": "Table of Contents",
   "title_sidebar": "Contents",
   "toc_cell": false,
   "toc_position": {},
   "toc_section_display": true,
   "toc_window_display": false
  },
  "varInspector": {
   "cols": {
    "lenName": 16,
    "lenType": 16,
    "lenVar": 40
   },
   "kernels_config": {
    "python": {
     "delete_cmd_postfix": "",
     "delete_cmd_prefix": "del ",
     "library": "var_list.py",
     "varRefreshCmd": "print(var_dic_list())"
    },
    "r": {
     "delete_cmd_postfix": ") ",
     "delete_cmd_prefix": "rm(",
     "library": "var_list.r",
     "varRefreshCmd": "cat(var_dic_list()) "
    }
   },
   "types_to_exclude": [
    "module",
    "function",
    "builtin_function_or_method",
    "instance",
    "_Feature"
   ],
   "window_display": false
  }
 },
 "nbformat": 4,
 "nbformat_minor": 2
}
